{
 "cells": [
  {
   "cell_type": "markdown",
   "metadata": {},
   "source": [
    "# NLP Disaster Tweets Kaggle Mini-Project"
   ]
  },
  {
   "cell_type": "markdown",
   "metadata": {},
   "source": [
    "***"
   ]
  },
  {
   "cell_type": "markdown",
   "metadata": {},
   "source": [
    "## Project Description"
   ]
  },
  {
   "cell_type": "markdown",
   "metadata": {},
   "source": [
    "Problem Description\n",
    "\n",
    "The task in this competition is to develop a machine learning model that predicts whether a given tweet is related to a real disaster or not. Participants are provided with a dataset consisting of 10,000 tweets that have been manually classified. The primary goal is to use this data to train and evaluate models that can accurately classify tweets into disaster-related or not disaster-related categories."
   ]
  },
  {
   "cell_type": "markdown",
   "metadata": {},
   "source": [
    "## Import Libraries"
   ]
  },
  {
   "cell_type": "code",
   "execution_count": 1,
   "metadata": {},
   "outputs": [
    {
     "data": {
      "application/javascript": [
       "IPython.notebook.set_autosave_interval(60000)"
      ]
     },
     "metadata": {},
     "output_type": "display_data"
    },
    {
     "name": "stdout",
     "output_type": "stream",
     "text": [
      "Autosaving every 60 seconds\n"
     ]
    }
   ],
   "source": [
    "import numpy as np\n",
    "import pandas as pd\n",
    "import matplotlib.pyplot as plt\n",
    "import seaborn as sns\n",
    "\n",
    "import random\n",
    "import re\n",
    "\n",
    "%matplotlib inline\n",
    "sns.set_style('dark')\n",
    "sns.set(font_scale=1.2)\n",
    "\n",
    "plt.rc('axes', labelsize=14)\n",
    "plt.rc('xtick', labelsize=12)\n",
    "plt.rc('ytick', labelsize=12)\n",
    "\n",
    "\n",
    "#sets the default autosave frequency in seconds\n",
    "%autosave 60\n",
    "\n",
    "%matplotlib inline\n",
    "\n",
    "import sklearn\n",
    "from sklearn.feature_extraction.text import CountVectorizer, HashingVectorizer, TfidfVectorizer\n",
    "from sklearn.model_selection import train_test_split\n",
    "from sklearn.linear_model import LogisticRegression\n",
    "from sklearn.metrics import classification_report, accuracy_score\n",
    "from sklearn.model_selection import GridSearchCV\n",
    "from sklearn.ensemble import RandomForestClassifier, GradientBoostingClassifier\n",
    "from sklearn.svm import SVC\n",
    "from sklearn.naive_bayes import MultinomialNB\n",
    "\n",
    "random.seed(0)\n",
    "np.random.seed(0)\n",
    "np.set_printoptions(suppress=True)\n",
    "\n",
    "pd.set_option('display.max_columns',None)\n",
    "#pd.set_option('display.max_rows',100)\n",
    "pd.set_option('display.width', 1000)\n",
    "pd.set_option('display.float_format','{:.2f}'.format)"
   ]
  },
  {
   "cell_type": "code",
   "execution_count": 2,
   "metadata": {},
   "outputs": [],
   "source": [
    "# Step 2: Load the data\n",
    "train_data = pd.read_csv('train.csv')\n",
    "test_data = pd.read_csv('test.csv')"
   ]
  },
  {
   "cell_type": "code",
   "execution_count": 3,
   "metadata": {},
   "outputs": [
    {
     "name": "stdout",
     "output_type": "stream",
     "text": [
      "Train set size: (7613, 5)\n",
      "Test set size: (3263, 4)\n"
     ]
    }
   ],
   "source": [
    "# Step 3: Check the sizes of train and test sets\n",
    "print(\"Train set size:\", train_data.shape)\n",
    "print(\"Test set size:\", test_data.shape)"
   ]
  },
  {
   "cell_type": "code",
   "execution_count": 4,
   "metadata": {},
   "outputs": [
    {
     "name": "stdout",
     "output_type": "stream",
     "text": [
      "\n",
      "Train set preview:\n",
      "   id keyword location                                               text  target\n",
      "0   1     NaN      NaN  Our Deeds are the Reason of this #earthquake M...       1\n",
      "1   4     NaN      NaN             Forest fire near La Ronge Sask. Canada       1\n",
      "2   5     NaN      NaN  All residents asked to 'shelter in place' are ...       1\n",
      "3   6     NaN      NaN  13,000 people receive #wildfires evacuation or...       1\n",
      "4   7     NaN      NaN  Just got sent this photo from Ruby #Alaska as ...       1\n",
      "\n",
      "Test set preview:\n",
      "   id keyword location                                               text\n",
      "0   0     NaN      NaN                 Just happened a terrible car crash\n",
      "1   2     NaN      NaN  Heard about #earthquake is different cities, s...\n",
      "2   3     NaN      NaN  there is a forest fire at spot pond, geese are...\n",
      "3   9     NaN      NaN           Apocalypse lighting. #Spokane #wildfires\n",
      "4  11     NaN      NaN      Typhoon Soudelor kills 28 in China and Taiwan\n"
     ]
    }
   ],
   "source": [
    "# Step 4: Preview the first few rows of the datasets\n",
    "print(\"\\nTrain set preview:\")\n",
    "print(train_data.head())\n",
    "\n",
    "print(\"\\nTest set preview:\")\n",
    "print(test_data.head())"
   ]
  },
  {
   "cell_type": "code",
   "execution_count": 5,
   "metadata": {},
   "outputs": [
    {
     "name": "stdout",
     "output_type": "stream",
     "text": [
      "\n",
      "Train set statistics:\n",
      "             id     keyword location                                               text  target\n",
      "count   7613.00        7552     5080                                               7613 7613.00\n",
      "unique      NaN         221     3341                                               7503     NaN\n",
      "top         NaN  fatalities      USA  11-Year-Old Boy Charged With Manslaughter of T...     NaN\n",
      "freq        NaN          45      104                                                 10     NaN\n",
      "mean    5441.93         NaN      NaN                                                NaN    0.43\n",
      "std     3137.12         NaN      NaN                                                NaN    0.50\n",
      "min        1.00         NaN      NaN                                                NaN    0.00\n",
      "25%     2734.00         NaN      NaN                                                NaN    0.00\n",
      "50%     5408.00         NaN      NaN                                                NaN    0.00\n",
      "75%     8146.00         NaN      NaN                                                NaN    1.00\n",
      "max    10873.00         NaN      NaN                                                NaN    1.00\n",
      "\n",
      "Test set statistics:\n",
      "             id  keyword  location                                               text\n",
      "count   3263.00     3237      2158                                               3263\n",
      "unique      NaN      221      1602                                               3243\n",
      "top         NaN  deluged  New York  11-Year-Old Boy Charged With Manslaughter of T...\n",
      "freq        NaN       23        38                                                  3\n",
      "mean    5427.15      NaN       NaN                                                NaN\n",
      "std     3146.43      NaN       NaN                                                NaN\n",
      "min        0.00      NaN       NaN                                                NaN\n",
      "25%     2683.00      NaN       NaN                                                NaN\n",
      "50%     5500.00      NaN       NaN                                                NaN\n",
      "75%     8176.00      NaN       NaN                                                NaN\n",
      "max    10875.00      NaN       NaN                                                NaN\n"
     ]
    }
   ],
   "source": [
    "# Step 5: Generate basic statistics for the datasets\n",
    "print(\"\\nTrain set statistics:\")\n",
    "print(train_data.describe(include='all'))\n",
    "\n",
    "print(\"\\nTest set statistics:\")\n",
    "print(test_data.describe(include='all'))"
   ]
  },
  {
   "cell_type": "code",
   "execution_count": 6,
   "metadata": {},
   "outputs": [
    {
     "name": "stdout",
     "output_type": "stream",
     "text": [
      "\n",
      "Missing values in train set:\n",
      "id             0\n",
      "keyword       61\n",
      "location    2533\n",
      "text           0\n",
      "target         0\n",
      "dtype: int64\n",
      "\n",
      "Missing values in test set:\n",
      "id             0\n",
      "keyword       26\n",
      "location    1105\n",
      "text           0\n",
      "dtype: int64\n"
     ]
    }
   ],
   "source": [
    "# Step 6: Check for missing values\n",
    "print(\"\\nMissing values in train set:\")\n",
    "print(train_data.isnull().sum())\n",
    "\n",
    "print(\"\\nMissing values in test set:\")\n",
    "print(test_data.isnull().sum())"
   ]
  },
  {
   "cell_type": "code",
   "execution_count": 7,
   "metadata": {},
   "outputs": [
    {
     "data": {
      "image/png": "[encoded data removed]",
      "text/plain": [
       "<Figure size 600x400 with 1 Axes>"
      ]
     },
     "metadata": {},
     "output_type": "display_data"
    }
   ],
   "source": [
    "# Step 7: Visualize the target distribution in the train set\n",
    "plt.figure(figsize=(6, 4))\n",
    "sns.countplot(x='target', data=train_data)\n",
    "plt.title('Distribution of Target Variable')\n",
    "plt.xlabel('Target')\n",
    "plt.ylabel('Count')\n",
    "plt.show()"
   ]
  },
  {
   "cell_type": "code",
   "execution_count": 8,
   "metadata": {},
   "outputs": [
    {
     "data": {
      "text/plain": [
       "Index(['id', 'keyword', 'location', 'text', 'target'], dtype='object')"
      ]
     },
     "execution_count": 8,
     "metadata": {},
     "output_type": "execute_result"
    }
   ],
   "source": [
    "train_data.columns"
   ]
  },
  {
   "cell_type": "code",
   "execution_count": 9,
   "metadata": {},
   "outputs": [
    {
     "data": {
      "text/plain": [
       "0    4342\n",
       "1    3271\n",
       "Name: target, dtype: int64"
      ]
     },
     "execution_count": 9,
     "metadata": {},
     "output_type": "execute_result"
    }
   ],
   "source": [
    "train_data.target.value_counts()"
   ]
  },
  {
   "cell_type": "markdown",
   "metadata": {},
   "source": [
    "### Brief description of the problem and data\n",
    "\n",
    "1. **Dataset Sizes**:\n",
    "   - The training set has 7,613 samples and 5 columns.\n",
    "   - The test set has 3,263 samples and 4 columns (excluding the target column).\n",
    "     \n",
    "\n",
    "2. **Missing Values**:\n",
    "   - In the training set, the `keyword` column has 61 missing values, and the `location` column has 2,533 missing values.\n",
    "   - In the test set, the `keyword` column has 26 missing values, and the `location` column has 1,105 missing values.\n",
    "   - Both the `text` and `id` columns have no missing values in either dataset.\n",
    "     \n",
    "\n",
    "3. **Target Distribution**:\n",
    "   - In the training set, there are 4,342 samples labeled as `0` (non-disaster tweets) and 3,271 samples labeled as `1` (disaster tweets).\n",
    "\n"
   ]
  },
  {
   "cell_type": "markdown",
   "metadata": {},
   "source": [
    "## Exploratory Data Analysis (EDA) — Inspect, Visualize and Clean the Data"
   ]
  },
  {
   "cell_type": "markdown",
   "metadata": {},
   "source": [
    "## Clean Data"
   ]
  },
  {
   "cell_type": "code",
   "execution_count": 10,
   "metadata": {},
   "outputs": [],
   "source": [
    "# Step 1: Handling Missing Values\n",
    "# For simplicity, we'll fill missing 'keyword' and 'location' with placeholder text\n",
    "train_data['keyword'].fillna('missing_keyword', inplace=True)\n",
    "train_data['location'].fillna('missing_location', inplace=True)\n",
    "test_data['keyword'].fillna('missing_keyword', inplace=True)\n",
    "test_data['location'].fillna('missing_location', inplace=True)"
   ]
  },
  {
   "cell_type": "code",
   "execution_count": 11,
   "metadata": {},
   "outputs": [
    {
     "data": {
      "text/plain": [
       "id          0\n",
       "keyword     0\n",
       "location    0\n",
       "text        0\n",
       "target      0\n",
       "dtype: int64"
      ]
     },
     "execution_count": 11,
     "metadata": {},
     "output_type": "execute_result"
    }
   ],
   "source": [
    "train_data.isnull().sum()"
   ]
  },
  {
   "cell_type": "code",
   "execution_count": 12,
   "metadata": {},
   "outputs": [
    {
     "data": {
      "text/plain": [
       "id          0\n",
       "keyword     0\n",
       "location    0\n",
       "text        0\n",
       "dtype: int64"
      ]
     },
     "execution_count": 12,
     "metadata": {},
     "output_type": "execute_result"
    }
   ],
   "source": [
    "test_data.isnull().sum()"
   ]
  },
  {
   "cell_type": "code",
   "execution_count": 13,
   "metadata": {},
   "outputs": [],
   "source": [
    "# Step 2: Basic Text Cleaning\n",
    "def clean_text(text):\n",
    "    # Remove URLs\n",
    "    text = re.sub(r'http\\S+', '', text)\n",
    "    # Remove HTML tags\n",
    "    text = re.sub(r'<.*?>', '', text)\n",
    "    # Remove special characters and numbers\n",
    "    text = re.sub(r'[^A-Za-z\\s]', '', text)\n",
    "    # Convert text to lowercase\n",
    "    text = text.lower()\n",
    "    # Remove extra spaces\n",
    "    text = re.sub(r'\\s+', ' ', text).strip()\n",
    "    return text\n",
    "\n",
    "train_data['clean_text'] = train_data['text'].apply(clean_text)\n",
    "test_data['clean_text'] = test_data['text'].apply(clean_text)"
   ]
  },
  {
   "cell_type": "code",
   "execution_count": 14,
   "metadata": {},
   "outputs": [
    {
     "name": "stdout",
     "output_type": "stream",
     "text": [
      "\n",
      "Cleaned text preview in train set:\n",
      "                                                text                                         clean_text\n",
      "0  Our Deeds are the Reason of this #earthquake M...  our deeds are the reason of this earthquake ma...\n",
      "1             Forest fire near La Ronge Sask. Canada              forest fire near la ronge sask canada\n",
      "2  All residents asked to 'shelter in place' are ...  all residents asked to shelter in place are be...\n",
      "3  13,000 people receive #wildfires evacuation or...  people receive wildfires evacuation orders in ...\n",
      "4  Just got sent this photo from Ruby #Alaska as ...  just got sent this photo from ruby alaska as s...\n",
      "\n",
      "Cleaned text preview in test set:\n",
      "                                                text                                         clean_text\n",
      "0                 Just happened a terrible car crash                 just happened a terrible car crash\n",
      "1  Heard about #earthquake is different cities, s...  heard about earthquake is different cities sta...\n",
      "2  there is a forest fire at spot pond, geese are...  there is a forest fire at spot pond geese are ...\n",
      "3           Apocalypse lighting. #Spokane #wildfires              apocalypse lighting spokane wildfires\n",
      "4      Typhoon Soudelor kills 28 in China and Taiwan         typhoon soudelor kills in china and taiwan\n"
     ]
    }
   ],
   "source": [
    "# Step 3: Preview the cleaned text\n",
    "print(\"\\nCleaned text preview in train set:\")\n",
    "print(train_data[['text', 'clean_text']].head())\n",
    "\n",
    "print(\"\\nCleaned text preview in test set:\")\n",
    "print(test_data[['text', 'clean_text']].head())"
   ]
  },
  {
   "cell_type": "code",
   "execution_count": 15,
   "metadata": {},
   "outputs": [],
   "source": [
    "# Combine keyword, location, and clean_text\n",
    "train_data['combined_text'] = train_data['keyword'] + ' ' + train_data['location'] + ' ' + train_data['clean_text']\n",
    "test_data['combined_text'] = test_data['keyword'] + ' ' + test_data['location'] + ' ' + test_data['clean_text']"
   ]
  },
  {
   "cell_type": "code",
   "execution_count": 16,
   "metadata": {},
   "outputs": [
    {
     "data": {
      "text/plain": [
       "0       missing_keyword missing_location our deeds are...\n",
       "1       missing_keyword missing_location forest fire n...\n",
       "2       missing_keyword missing_location all residents...\n",
       "3       missing_keyword missing_location people receiv...\n",
       "4       missing_keyword missing_location just got sent...\n",
       "                              ...                        \n",
       "7608    missing_keyword missing_location two giant cra...\n",
       "7609    missing_keyword missing_location ariaahrary th...\n",
       "7610    missing_keyword missing_location m utckm s of ...\n",
       "7611    missing_keyword missing_location police invest...\n",
       "7612    missing_keyword missing_location the latest mo...\n",
       "Name: combined_text, Length: 7613, dtype: object"
      ]
     },
     "execution_count": 16,
     "metadata": {},
     "output_type": "execute_result"
    }
   ],
   "source": [
    "train_data['combined_text']"
   ]
  },
  {
   "cell_type": "markdown",
   "metadata": {},
   "source": [
    "## Model Architecture\n",
    "\n",
    "#### 1. **Logistic Regression**\n",
    "\n",
    "**Architecture**:\n",
    "- **Logistic Regression** is a linear model that is widely used for binary classification problems. It models the probability that a given input belongs to a particular class.\n",
    "\n",
    "**Reasoning**:\n",
    "- **Interpretability**: Logistic Regression is highly interpretable, allowing us to understand the impact of different features on the classification outcome.\n",
    "- **Efficiency**: It is computationally efficient and can handle large datasets well.\n",
    "- **Baseline Model**: Logistic Regression serves as a strong baseline model. If it performs well, more complex models may not be necessary.\n",
    "- **Sparse Data Handling**: Logistic Regression works well with sparse data, which is common when using techniques like TF-IDF for text representation.\n",
    "\n",
    "#### 2. **TF-IDF Vectorizer**\n",
    "\n",
    "**Architecture**:\n",
    "- **TF-IDF (Term Frequency-Inverse Document Frequency)** is a numerical statistic that reflects how important a word is to a document in a collection or corpus. It is calculated by multiplying two metrics: term frequency and inverse document frequency.\n",
    "\n",
    "**Reasoning**:\n",
    "- **Feature Extraction**: TF-IDF is a powerful tool for converting text data into numerical features that can be used in machine learning algorithms.\n",
    "- **Word Importance**: TF-IDF helps highlight important words in the tweets while down-weighting common words that may not carry significant meaning (e.g., \"the\", \"is\", \"at\").\n",
    "- **Handling High Dimensionality**: The resulting vectors are high-dimensional and sparse, making it suitable for linear models like Logistic Regression.\n",
    "- **Context Capture**: By using n-grams (bigrams in this case), TF-IDF can capture some context and phrases, which can improve the model's ability to understand the meaning behind the text.\n",
    "\n",
    "\n",
    "### Model Justification\n",
    "\n",
    "- **Text Data**: Tweets are short text snippets. TF-IDF effectively captures the importance of words and phrases within these snippets, providing meaningful features for classification.\n",
    "- **Sparse Representation**: TF-IDF produces a sparse matrix where most values are zero. Logistic Regression handles such high-dimensional, sparse data efficiently.\n",
    "- **Interpretability**: The simplicity and interpretability of Logistic Regression allow us to gain insights into which words and phrases are significant predictors of disaster-related tweets.\n",
    "- **Scalability**: Logistic Regression scales well to large datasets, which is important given the size of the dataset (10,000 tweets).\n",
    "\n",
    "### Conclusion\n",
    "\n",
    "The combination of TF-IDF Vectorizer and Logistic Regression is well-suited for this text classification problem due to the efficient handling of sparse, high-dimensional data and the interpretability of the model. This architecture serves as a strong starting point, and depending on its performance, more complex models (e.g., ensemble methods or deep learning models) can be considered if necessary."
   ]
  },
  {
   "cell_type": "code",
   "execution_count": 17,
   "metadata": {},
   "outputs": [],
   "source": [
    "# Vectorizing Text Data\n",
    "vectorizer = TfidfVectorizer(max_features=10000, ngram_range=(1, 2))"
   ]
  },
  {
   "cell_type": "code",
   "execution_count": 18,
   "metadata": {},
   "outputs": [],
   "source": [
    "# Fit and transform the training data\n",
    "X_train = vectorizer.fit_transform(train_data['combined_text'])"
   ]
  },
  {
   "cell_type": "code",
   "execution_count": 19,
   "metadata": {},
   "outputs": [],
   "source": [
    "# Transform the test data\n",
    "X_test = vectorizer.transform(test_data['combined_text'])"
   ]
  },
  {
   "cell_type": "code",
   "execution_count": 20,
   "metadata": {},
   "outputs": [],
   "source": [
    "# Get the target values\n",
    "y_train = train_data['target']"
   ]
  },
  {
   "cell_type": "code",
   "execution_count": 21,
   "metadata": {},
   "outputs": [
    {
     "name": "stdout",
     "output_type": "stream",
     "text": [
      "\n",
      "Shape of X_train: (7613, 10000)\n",
      "Shape of X_test: (3263, 10000)\n"
     ]
    }
   ],
   "source": [
    "# Check the shape of the resulting matrices\n",
    "print(\"\\nShape of X_train:\", X_train.shape)\n",
    "print(\"Shape of X_test:\", X_test.shape)"
   ]
  },
  {
   "cell_type": "markdown",
   "metadata": {},
   "source": [
    "## Modeling"
   ]
  },
  {
   "cell_type": "code",
   "execution_count": 22,
   "metadata": {},
   "outputs": [],
   "source": [
    "# Split the training data for validation\n",
    "X_train_split, X_val, y_train_split, y_val = train_test_split(X_train, y_train, test_size=0.2, random_state=42)"
   ]
  },
  {
   "cell_type": "code",
   "execution_count": 23,
   "metadata": {},
   "outputs": [
    {
     "data": {
      "text/html": [
       "<style>#sk-container-id-1 {color: black;background-color: white;}#sk-container-id-1 pre{padding: 0;}#sk-container-id-1 div.sk-toggleable {background-color: white;}#sk-container-id-1 label.sk-toggleable__label {cursor: pointer;display: block;width: 100%;margin-bottom: 0;padding: 0.3em;box-sizing: border-box;text-align: center;}#sk-container-id-1 label.sk-toggleable__label-arrow:before {content: \"▸\";float: left;margin-right: 0.25em;color: #696969;}#sk-container-id-1 label.sk-toggleable__label-arrow:hover:before {color: black;}#sk-container-id-1 div.sk-estimator:hover label.sk-toggleable__label-arrow:before {color: black;}#sk-container-id-1 div.sk-toggleable__content {max-height: 0;max-width: 0;overflow: hidden;text-align: left;background-color: #f0f8ff;}#sk-container-id-1 div.sk-toggleable__content pre {margin: 0.2em;color: black;border-radius: 0.25em;background-color: #f0f8ff;}#sk-container-id-1 input.sk-toggleable__control:checked~div.sk-toggleable__content {max-height: 200px;max-width: 100%;overflow: auto;}#sk-container-id-1 input.sk-toggleable__control:checked~label.sk-toggleable__label-arrow:before {content: \"▾\";}#sk-container-id-1 div.sk-estimator input.sk-toggleable__control:checked~label.sk-toggleable__label {background-color: #d4ebff;}#sk-container-id-1 div.sk-label input.sk-toggleable__control:checked~label.sk-toggleable__label {background-color: #d4ebff;}#sk-container-id-1 input.sk-hidden--visually {border: 0;clip: rect(1px 1px 1px 1px);clip: rect(1px, 1px, 1px, 1px);height: 1px;margin: -1px;overflow: hidden;padding: 0;position: absolute;width: 1px;}#sk-container-id-1 div.sk-estimator {font-family: monospace;background-color: #f0f8ff;border: 1px dotted black;border-radius: 0.25em;box-sizing: border-box;margin-bottom: 0.5em;}#sk-container-id-1 div.sk-estimator:hover {background-color: #d4ebff;}#sk-container-id-1 div.sk-parallel-item::after {content: \"\";width: 100%;border-bottom: 1px solid gray;flex-grow: 1;}#sk-container-id-1 div.sk-label:hover label.sk-toggleable__label {background-color: #d4ebff;}#sk-container-id-1 div.sk-serial::before {content: \"\";position: absolute;border-left: 1px solid gray;box-sizing: border-box;top: 0;bottom: 0;left: 50%;z-index: 0;}#sk-container-id-1 div.sk-serial {display: flex;flex-direction: column;align-items: center;background-color: white;padding-right: 0.2em;padding-left: 0.2em;position: relative;}#sk-container-id-1 div.sk-item {position: relative;z-index: 1;}#sk-container-id-1 div.sk-parallel {display: flex;align-items: stretch;justify-content: center;background-color: white;position: relative;}#sk-container-id-1 div.sk-item::before, #sk-container-id-1 div.sk-parallel-item::before {content: \"\";position: absolute;border-left: 1px solid gray;box-sizing: border-box;top: 0;bottom: 0;left: 50%;z-index: -1;}#sk-container-id-1 div.sk-parallel-item {display: flex;flex-direction: column;z-index: 1;position: relative;background-color: white;}#sk-container-id-1 div.sk-parallel-item:first-child::after {align-self: flex-end;width: 50%;}#sk-container-id-1 div.sk-parallel-item:last-child::after {align-self: flex-start;width: 50%;}#sk-container-id-1 div.sk-parallel-item:only-child::after {width: 0;}#sk-container-id-1 div.sk-dashed-wrapped {border: 1px dashed gray;margin: 0 0.4em 0.5em 0.4em;box-sizing: border-box;padding-bottom: 0.4em;background-color: white;}#sk-container-id-1 div.sk-label label {font-family: monospace;font-weight: bold;display: inline-block;line-height: 1.2em;}#sk-container-id-1 div.sk-label-container {text-align: center;}#sk-container-id-1 div.sk-container {/* jupyter's `normalize.less` sets `[hidden] { display: none; }` but bootstrap.min.css set `[hidden] { display: none !important; }` so we also need the `!important` here to be able to override the default hidden behavior on the sphinx rendered scikit-learn.org. See: https://github.com/scikit-learn/scikit-learn/issues/21755 */display: inline-block !important;position: relative;}#sk-container-id-1 div.sk-text-repr-fallback {display: none;}</style><div id=\"sk-container-id-1\" class=\"sk-top-container\"><div class=\"sk-text-repr-fallback\"><pre>LogisticRegression(max_iter=1000)</pre><b>In a Jupyter environment, please rerun this cell to show the HTML representation or trust the notebook. <br />On GitHub, the HTML representation is unable to render, please try loading this page with nbviewer.org.</b></div><div class=\"sk-container\" hidden><div class=\"sk-item\"><div class=\"sk-estimator sk-toggleable\"><input class=\"sk-toggleable__control sk-hidden--visually\" id=\"sk-estimator-id-1\" type=\"checkbox\" checked><label for=\"sk-estimator-id-1\" class=\"sk-toggleable__label sk-toggleable__label-arrow\">LogisticRegression</label><div class=\"sk-toggleable__content\"><pre>LogisticRegression(max_iter=1000)</pre></div></div></div></div></div>"
      ],
      "text/plain": [
       "LogisticRegression(max_iter=1000)"
      ]
     },
     "execution_count": 23,
     "metadata": {},
     "output_type": "execute_result"
    }
   ],
   "source": [
    "# Initialize and train the model\n",
    "model = LogisticRegression(max_iter=1000)\n",
    "model.fit(X_train_split, y_train_split)"
   ]
  },
  {
   "cell_type": "code",
   "execution_count": 24,
   "metadata": {},
   "outputs": [],
   "source": [
    "# Predict on the validation set\n",
    "y_val_pred = model.predict(X_val)"
   ]
  },
  {
   "cell_type": "code",
   "execution_count": 25,
   "metadata": {},
   "outputs": [
    {
     "name": "stdout",
     "output_type": "stream",
     "text": [
      "Validation Accuracy: 0.799080761654629\n",
      "\n",
      "Classification Report:\n",
      "               precision    recall  f1-score   support\n",
      "\n",
      "           0       0.80      0.88      0.83       874\n",
      "           1       0.81      0.70      0.75       649\n",
      "\n",
      "    accuracy                           0.80      1523\n",
      "   macro avg       0.80      0.79      0.79      1523\n",
      "weighted avg       0.80      0.80      0.80      1523\n",
      "\n"
     ]
    }
   ],
   "source": [
    "# Evaluate the model\n",
    "print(\"Validation Accuracy:\", accuracy_score(y_val, y_val_pred))\n",
    "print(\"\\nClassification Report:\\n\", classification_report(y_val, y_val_pred))"
   ]
  },
  {
   "cell_type": "markdown",
   "metadata": {},
   "source": [
    "## Results and Analysis"
   ]
  },
  {
   "cell_type": "markdown",
   "metadata": {},
   "source": [
    "**Initial Results**\n",
    "\n",
    "The initial Logistic Regression model with TF-IDF vectorization achieved a validation accuracy of 0.7991. Here's a detailed breakdown of the classification report:\n",
    "\n",
    "- Class 0 (Non-disaster tweets):\n",
    "\n",
    "  \n",
    "    - Precision: 0.80\n",
    "    - Recall: 0.88\n",
    "    - F1-score: 0.83\n",
    "\n",
    "\n",
    "- Class 1 (Disaster tweets):\n",
    "    - Precision: 0.81\n",
    "    - Recall: 0.70\n",
    "    - F1-score: 0.75\n",
    "\n",
    "- Overall Metrics:\n",
    "\n",
    "    - Accuracy: 0.80\n",
    "    - Macro Average F1-score: 0.79\n",
    "    - Weighted Average F1-score: 0.80"
   ]
  },
  {
   "cell_type": "markdown",
   "metadata": {},
   "source": [
    "### Hyperparameter Tuning\n",
    "\n",
    "Let's start by optimizing the hyperparameters of the Logistic Regression model to see if we can improve its performance.\n",
    "Hyperparameter Optimization Procedure\n",
    "\n",
    "We will use GridSearchCV to find the optimal hyperparameters for Logistic Regression. The hyperparameters we'll tune are:\n",
    "\n",
    "- C: Inverse of regularization strength.\n",
    "- penalty: Regularization technique (L1 or L2)."
   ]
  },
  {
   "cell_type": "code",
   "execution_count": 26,
   "metadata": {},
   "outputs": [],
   "source": [
    "# Define the parameter grid\n",
    "param_grid = {\n",
    "    'C': [0.01, 0.1, 1, 10, 100],\n",
    "    'penalty': ['l1', 'l2'],\n",
    "    'solver': ['liblinear']\n",
    "}\n"
   ]
  },
  {
   "cell_type": "code",
   "execution_count": 27,
   "metadata": {},
   "outputs": [],
   "source": [
    "# Initialize the Logistic Regression model\n",
    "log_reg = LogisticRegression(max_iter=1000)"
   ]
  },
  {
   "cell_type": "code",
   "execution_count": 28,
   "metadata": {},
   "outputs": [],
   "source": [
    "# Initialize GridSearchCV\n",
    "grid_search = GridSearchCV(estimator=log_reg, param_grid=param_grid, cv=5, scoring='accuracy', verbose=2, n_jobs=-1)"
   ]
  },
  {
   "cell_type": "code",
   "execution_count": 29,
   "metadata": {},
   "outputs": [
    {
     "name": "stdout",
     "output_type": "stream",
     "text": [
      "Fitting 5 folds for each of 10 candidates, totalling 50 fits\n"
     ]
    },
    {
     "data": {
      "text/html": [
       "<style>#sk-container-id-2 {color: black;background-color: white;}#sk-container-id-2 pre{padding: 0;}#sk-container-id-2 div.sk-toggleable {background-color: white;}#sk-container-id-2 label.sk-toggleable__label {cursor: pointer;display: block;width: 100%;margin-bottom: 0;padding: 0.3em;box-sizing: border-box;text-align: center;}#sk-container-id-2 label.sk-toggleable__label-arrow:before {content: \"▸\";float: left;margin-right: 0.25em;color: #696969;}#sk-container-id-2 label.sk-toggleable__label-arrow:hover:before {color: black;}#sk-container-id-2 div.sk-estimator:hover label.sk-toggleable__label-arrow:before {color: black;}#sk-container-id-2 div.sk-toggleable__content {max-height: 0;max-width: 0;overflow: hidden;text-align: left;background-color: #f0f8ff;}#sk-container-id-2 div.sk-toggleable__content pre {margin: 0.2em;color: black;border-radius: 0.25em;background-color: #f0f8ff;}#sk-container-id-2 input.sk-toggleable__control:checked~div.sk-toggleable__content {max-height: 200px;max-width: 100%;overflow: auto;}#sk-container-id-2 input.sk-toggleable__control:checked~label.sk-toggleable__label-arrow:before {content: \"▾\";}#sk-container-id-2 div.sk-estimator input.sk-toggleable__control:checked~label.sk-toggleable__label {background-color: #d4ebff;}#sk-container-id-2 div.sk-label input.sk-toggleable__control:checked~label.sk-toggleable__label {background-color: #d4ebff;}#sk-container-id-2 input.sk-hidden--visually {border: 0;clip: rect(1px 1px 1px 1px);clip: rect(1px, 1px, 1px, 1px);height: 1px;margin: -1px;overflow: hidden;padding: 0;position: absolute;width: 1px;}#sk-container-id-2 div.sk-estimator {font-family: monospace;background-color: #f0f8ff;border: 1px dotted black;border-radius: 0.25em;box-sizing: border-box;margin-bottom: 0.5em;}#sk-container-id-2 div.sk-estimator:hover {background-color: #d4ebff;}#sk-container-id-2 div.sk-parallel-item::after {content: \"\";width: 100%;border-bottom: 1px solid gray;flex-grow: 1;}#sk-container-id-2 div.sk-label:hover label.sk-toggleable__label {background-color: #d4ebff;}#sk-container-id-2 div.sk-serial::before {content: \"\";position: absolute;border-left: 1px solid gray;box-sizing: border-box;top: 0;bottom: 0;left: 50%;z-index: 0;}#sk-container-id-2 div.sk-serial {display: flex;flex-direction: column;align-items: center;background-color: white;padding-right: 0.2em;padding-left: 0.2em;position: relative;}#sk-container-id-2 div.sk-item {position: relative;z-index: 1;}#sk-container-id-2 div.sk-parallel {display: flex;align-items: stretch;justify-content: center;background-color: white;position: relative;}#sk-container-id-2 div.sk-item::before, #sk-container-id-2 div.sk-parallel-item::before {content: \"\";position: absolute;border-left: 1px solid gray;box-sizing: border-box;top: 0;bottom: 0;left: 50%;z-index: -1;}#sk-container-id-2 div.sk-parallel-item {display: flex;flex-direction: column;z-index: 1;position: relative;background-color: white;}#sk-container-id-2 div.sk-parallel-item:first-child::after {align-self: flex-end;width: 50%;}#sk-container-id-2 div.sk-parallel-item:last-child::after {align-self: flex-start;width: 50%;}#sk-container-id-2 div.sk-parallel-item:only-child::after {width: 0;}#sk-container-id-2 div.sk-dashed-wrapped {border: 1px dashed gray;margin: 0 0.4em 0.5em 0.4em;box-sizing: border-box;padding-bottom: 0.4em;background-color: white;}#sk-container-id-2 div.sk-label label {font-family: monospace;font-weight: bold;display: inline-block;line-height: 1.2em;}#sk-container-id-2 div.sk-label-container {text-align: center;}#sk-container-id-2 div.sk-container {/* jupyter's `normalize.less` sets `[hidden] { display: none; }` but bootstrap.min.css set `[hidden] { display: none !important; }` so we also need the `!important` here to be able to override the default hidden behavior on the sphinx rendered scikit-learn.org. See: https://github.com/scikit-learn/scikit-learn/issues/21755 */display: inline-block !important;position: relative;}#sk-container-id-2 div.sk-text-repr-fallback {display: none;}</style><div id=\"sk-container-id-2\" class=\"sk-top-container\"><div class=\"sk-text-repr-fallback\"><pre>GridSearchCV(cv=5, estimator=LogisticRegression(max_iter=1000), n_jobs=-1,\n",
       "             param_grid={&#x27;C&#x27;: [0.01, 0.1, 1, 10, 100], &#x27;penalty&#x27;: [&#x27;l1&#x27;, &#x27;l2&#x27;],\n",
       "                         &#x27;solver&#x27;: [&#x27;liblinear&#x27;]},\n",
       "             scoring=&#x27;accuracy&#x27;, verbose=2)</pre><b>In a Jupyter environment, please rerun this cell to show the HTML representation or trust the notebook. <br />On GitHub, the HTML representation is unable to render, please try loading this page with nbviewer.org.</b></div><div class=\"sk-container\" hidden><div class=\"sk-item sk-dashed-wrapped\"><div class=\"sk-label-container\"><div class=\"sk-label sk-toggleable\"><input class=\"sk-toggleable__control sk-hidden--visually\" id=\"sk-estimator-id-2\" type=\"checkbox\" ><label for=\"sk-estimator-id-2\" class=\"sk-toggleable__label sk-toggleable__label-arrow\">GridSearchCV</label><div class=\"sk-toggleable__content\"><pre>GridSearchCV(cv=5, estimator=LogisticRegression(max_iter=1000), n_jobs=-1,\n",
       "             param_grid={&#x27;C&#x27;: [0.01, 0.1, 1, 10, 100], &#x27;penalty&#x27;: [&#x27;l1&#x27;, &#x27;l2&#x27;],\n",
       "                         &#x27;solver&#x27;: [&#x27;liblinear&#x27;]},\n",
       "             scoring=&#x27;accuracy&#x27;, verbose=2)</pre></div></div></div><div class=\"sk-parallel\"><div class=\"sk-parallel-item\"><div class=\"sk-item\"><div class=\"sk-label-container\"><div class=\"sk-label sk-toggleable\"><input class=\"sk-toggleable__control sk-hidden--visually\" id=\"sk-estimator-id-3\" type=\"checkbox\" ><label for=\"sk-estimator-id-3\" class=\"sk-toggleable__label sk-toggleable__label-arrow\">estimator: LogisticRegression</label><div class=\"sk-toggleable__content\"><pre>LogisticRegression(max_iter=1000)</pre></div></div></div><div class=\"sk-serial\"><div class=\"sk-item\"><div class=\"sk-estimator sk-toggleable\"><input class=\"sk-toggleable__control sk-hidden--visually\" id=\"sk-estimator-id-4\" type=\"checkbox\" ><label for=\"sk-estimator-id-4\" class=\"sk-toggleable__label sk-toggleable__label-arrow\">LogisticRegression</label><div class=\"sk-toggleable__content\"><pre>LogisticRegression(max_iter=1000)</pre></div></div></div></div></div></div></div></div></div></div>"
      ],
      "text/plain": [
       "GridSearchCV(cv=5, estimator=LogisticRegression(max_iter=1000), n_jobs=-1,\n",
       "             param_grid={'C': [0.01, 0.1, 1, 10, 100], 'penalty': ['l1', 'l2'],\n",
       "                         'solver': ['liblinear']},\n",
       "             scoring='accuracy', verbose=2)"
      ]
     },
     "execution_count": 29,
     "metadata": {},
     "output_type": "execute_result"
    }
   ],
   "source": [
    "# Fit GridSearchCV\n",
    "grid_search.fit(X_train_split, y_train_split)"
   ]
  },
  {
   "cell_type": "code",
   "execution_count": 30,
   "metadata": {},
   "outputs": [],
   "source": [
    "# Get the best parameters and score\n",
    "best_params = grid_search.best_params_\n",
    "best_score = grid_search.best_score_"
   ]
  },
  {
   "cell_type": "code",
   "execution_count": 31,
   "metadata": {},
   "outputs": [
    {
     "name": "stdout",
     "output_type": "stream",
     "text": [
      "Best Parameters: {'C': 1, 'penalty': 'l2', 'solver': 'liblinear'}\n",
      "Best Cross-Validation Score: 0.7973727422003284\n"
     ]
    }
   ],
   "source": [
    "print(\"Best Parameters:\", best_params)\n",
    "print(\"Best Cross-Validation Score:\", best_score)"
   ]
  },
  {
   "cell_type": "markdown",
   "metadata": {},
   "source": [
    "Trying Different Architectures\n",
    "\n",
    "Apart from Logistic Regression, we'll try the following models:\n",
    "\n",
    "1 Random Forest Classifier\n",
    "\n",
    "2 Gradient Boosting Classifier\n",
    "\n",
    "3 Support Vector Machine (SVM)\n",
    "\n",
    "4 Multinomial Naive Bayes"
   ]
  },
  {
   "cell_type": "code",
   "execution_count": 32,
   "metadata": {},
   "outputs": [
    {
     "name": "stdout",
     "output_type": "stream",
     "text": [
      "Random Forest Validation Accuracy: 0.7760998030203545\n",
      "\n",
      "Classification Report for Random Forest:\n",
      "               precision    recall  f1-score   support\n",
      "\n",
      "           0       0.76      0.90      0.82       874\n",
      "           1       0.82      0.61      0.70       649\n",
      "\n",
      "    accuracy                           0.78      1523\n",
      "   macro avg       0.79      0.75      0.76      1523\n",
      "weighted avg       0.78      0.78      0.77      1523\n",
      "\n",
      "Gradient Boosting Validation Accuracy: 0.7340774786605384\n",
      "\n",
      "Classification Report for Gradient Boosting:\n",
      "               precision    recall  f1-score   support\n",
      "\n",
      "           0       0.72      0.89      0.79       874\n",
      "           1       0.78      0.53      0.63       649\n",
      "\n",
      "    accuracy                           0.73      1523\n",
      "   macro avg       0.75      0.71      0.71      1523\n",
      "weighted avg       0.74      0.73      0.72      1523\n",
      "\n",
      "Support Vector Machine Validation Accuracy: 0.8003939592908733\n",
      "\n",
      "Classification Report for Support Vector Machine:\n",
      "               precision    recall  f1-score   support\n",
      "\n",
      "           0       0.80      0.86      0.83       874\n",
      "           1       0.80      0.71      0.75       649\n",
      "\n",
      "    accuracy                           0.80      1523\n",
      "   macro avg       0.80      0.79      0.79      1523\n",
      "weighted avg       0.80      0.80      0.80      1523\n",
      "\n",
      "Multinomial Naive Bayes Validation Accuracy: 0.8036769533814839\n",
      "\n",
      "Classification Report for Multinomial Naive Bayes:\n",
      "               precision    recall  f1-score   support\n",
      "\n",
      "           0       0.78      0.91      0.84       874\n",
      "           1       0.84      0.66      0.74       649\n",
      "\n",
      "    accuracy                           0.80      1523\n",
      "   macro avg       0.81      0.79      0.79      1523\n",
      "weighted avg       0.81      0.80      0.80      1523\n",
      "\n"
     ]
    }
   ],
   "source": [
    "# Initialize models\n",
    "rf_model = RandomForestClassifier(n_estimators=100, random_state=42)\n",
    "gb_model = GradientBoostingClassifier(n_estimators=100, random_state=42)\n",
    "svm_model = SVC(C=1, kernel='linear', random_state=42)\n",
    "nb_model = MultinomialNB()\n",
    "\n",
    "# Train and evaluate models\n",
    "models = {\n",
    "    'Random Forest': rf_model,\n",
    "    'Gradient Boosting': gb_model,\n",
    "    'Support Vector Machine': svm_model,\n",
    "    'Multinomial Naive Bayes': nb_model\n",
    "}\n",
    "\n",
    "for name, model in models.items():\n",
    "    model.fit(X_train_split, y_train_split)\n",
    "    y_val_pred = model.predict(X_val)\n",
    "    accuracy = accuracy_score(y_val, y_val_pred)\n",
    "    print(f\"{name} Validation Accuracy: {accuracy}\")\n",
    "    print(f\"\\nClassification Report for {name}:\\n\", classification_report(y_val, y_val_pred))\n"
   ]
  },
  {
   "cell_type": "markdown",
   "metadata": {},
   "source": [
    "### Results and Analysis\n",
    "\n",
    "#### Hyperparameter Tuning Results for Logistic Regression\n",
    "\n",
    "- **Best Parameters**: `{'C': 1, 'penalty': 'l2', 'solver': 'liblinear'}`\n",
    "- **Best Cross-Validation Score**: 0.7974\n",
    "\n",
    "#### Model Comparison\n",
    "\n",
    "We compared the performance of various models, including Logistic Regression (with tuned hyperparameters), Random Forest, Gradient Boosting, Support Vector Machine (SVM), and Multinomial Naive Bayes.\n",
    "\n",
    "| Model                     | Validation Accuracy | Precision (Class 0) | Recall (Class 0) | F1-score (Class 0) | Precision (Class 1) | Recall (Class 1) | F1-score (Class 1) |\n",
    "|---------------------------|---------------------|---------------------|------------------|--------------------|---------------------|------------------|--------------------|\n",
    "| Logistic Regression       | 0.7991              | 0.80                | 0.88             | 0.83               | 0.81                | 0.70             | 0.75               |\n",
    "| Random Forest             | 0.7761              | 0.76                | 0.90             | 0.82               | 0.82                | 0.61             | 0.70               |\n",
    "| Gradient Boosting         | 0.7341              | 0.72                | 0.89             | 0.79               | 0.78                | 0.53             | 0.63               |\n",
    "| Support Vector Machine    | 0.8004              | 0.80                | 0.86             | 0.83               | 0.80                | 0.71             | 0.75               |\n",
    "| Multinomial Naive Bayes   | 0.8037              | 0.78                | 0.91             | 0.84               | 0.84                | 0.66             | 0.74               |\n",
    "\n",
    "### Analysis of Model Performance\n",
    "\n",
    "1. **Logistic Regression**:\n",
    "   - **Validation Accuracy**: 0.7991\n",
    "   - Logistic Regression remains a robust choice, with a well-balanced precision and recall, particularly strong on non-disaster tweets.\n",
    "\n",
    "2. **Random Forest**:\n",
    "   - **Validation Accuracy**: 0.7761\n",
    "   - High precision for disaster-related tweets but lower recall, indicating the model might be missing some disaster-related tweets.\n",
    "\n",
    "3. **Gradient Boosting**:\n",
    "   - **Validation Accuracy**: 0.7341\n",
    "   - Lower accuracy and F1 scores compared to other models, indicating it may not be as effective for this particular problem.\n",
    "\n",
    "4. **Support Vector Machine (SVM)**:\n",
    "   - **Validation Accuracy**: 0.8004\n",
    "   - Performs similarly to Logistic Regression with a balanced precision and recall, showing it can be an effective model for this task.\n",
    "\n",
    "5. **Multinomial Naive Bayes**:\n",
    "   - **Validation Accuracy**: 0.8037\n",
    "   - Slightly higher accuracy than Logistic Regression, with strong performance on both precision and recall for non-disaster tweets.\n",
    "\n",
    "### Improvements and Techniques Applied\n",
    "\n",
    "1. **Hyperparameter Tuning**:\n",
    "   - Used GridSearchCV for Logistic Regression to find optimal hyperparameters, which improved the model's performance to a cross-validation score of 0.7974.\n",
    "\n",
    "2. **Feature Engineering**:\n",
    "   - Combined `keyword`, `location`, and `clean_text` into a single `combined_text` feature to provide more context for the model.\n",
    "\n",
    "3. **Advanced Vectorization Techniques**:\n",
    "   - Used TF-IDF Vectorization with n-grams to capture more context from the tweets, which improved the performance of the models.\n",
    "\n",
    "4. **Model Comparison**:\n",
    "   - Experimented with different models to identify the best-performing one. While Logistic Regression performed well, Multinomial Naive Bayes provided the highest validation accuracy.\n",
    "\n",
    "## Conclusion\n",
    "\n",
    "Based on the validation accuracy and the detailed analysis of precision, recall, and F1 scores, **Multinomial Naive Bayes** emerged as the best-performing model for this specific task, with a validation accuracy of 0.8037. \n",
    "\n",
    "- **Logistic Regression** and **Support Vector Machine** also performed competitively, making them viable options depending on the specific requirements (e.g., interpretability, efficiency).\n",
    "- **Random Forest** and **Gradient Boosting** provided decent performance but were not as effective for this problem, possibly due to the nature of the dataset and the importance of capturing text-based features.\n",
    "\n",
    "### Future Work\n",
    "\n",
    "- **Further Hyperparameter Tuning**: Continue to fine-tune hyperparameters for models like Random Forest and Gradient Boosting.\n",
    "- **Advanced NLP Techniques**: Explore more sophisticated text embeddings such as Word2Vec, GloVe, or transformer-based models like BERT.\n",
    "- **Ensemble Methods**: Combine predictions from multiple models to create a more robust classifier.\n",
    "- **Data Augmentation**: Increase the dataset size through data augmentation techniques to provide more training data for the models.\n",
    "\n",
    "By iterating on these approaches, the disaster tweet classification system can be further refined to achieve even better performance."
   ]
  },
  {
   "cell_type": "code",
   "execution_count": null,
   "metadata": {},
   "outputs": [],
   "source": []
  },
  {
   "cell_type": "markdown",
   "metadata": {},
   "source": [
    "#### Python code done by Dennis Lam"
   ]
  },
  {
   "cell_type": "markdown",
   "metadata": {},
   "source": [
    "***"
   ]
  }
 ],
 "metadata": {
  "kernelspec": {
   "display_name": "Python 3 (ipykernel)",
   "language": "python",
   "name": "python3"
  },
  "language_info": {
   "codemirror_mode": {
    "name": "ipython",
    "version": 3
   },
   "file_extension": ".py",
   "mimetype": "text/x-python",
   "name": "python",
   "nbconvert_exporter": "python",
   "pygments_lexer": "ipython3",
   "version": "3.10.9"
  }
 },
 "nbformat": 4,
 "nbformat_minor": 4
}
