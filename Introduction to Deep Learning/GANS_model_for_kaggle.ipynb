{
 "cells": [
  {
   "cell_type": "code",
   "execution_count": 34,
   "metadata": {},
   "outputs": [],
   "source": [
    "import os, random, json, PIL, shutil, re\n",
    "import numpy as np\n",
    "import pandas as pd\n",
    "import seaborn as sns\n",
    "import matplotlib.pyplot as plt\n",
    "import glob\n",
    "import cv2\n",
    "import torch\n",
    "from torch.utils.data import Dataset, DataLoader\n",
    "import os\n",
    "import random\n",
    "import time\n",
    "from tqdm import tqdm\n",
    "import torchvision\n",
    "import torchvision.transforms as transforms\n",
    "import torch.nn as nn\n",
    "import torch.nn.functional as F\n",
    "import torch.optim as optim\n",
    "from PIL import Image\n",
    "import sklearn\n",
    "from sklearn.model_selection import train_test_split\n",
    "from sklearn.metrics import accuracy_score, roc_auc_score\n",
    "import copy\n",
    "from collections import OrderedDict\n",
    "import time\n",
    "from torchvision import datasets\n",
    "import numpy as np\n",
    "from torchvision.utils import make_grid, save_image\n",
    "from statistics import mean"
   ]
  },
  {
   "cell_type": "code",
   "execution_count": 35,
   "metadata": {},
   "outputs": [],
   "source": [
    "def downsample_block(n_channels):\n",
    "    return nn.Sequential(\n",
    "        nn.Conv2d(n_channels, 2*n_channels, 3, stride=2, padding=1),\n",
    "        nn.InstanceNorm2d(n_channels),\n",
    "        nn.ReLU())\n",
    "    \n",
    "\n",
    "def upsample_block(n_channels):\n",
    "    return nn.Sequential(\n",
    "        nn.ConvTranspose2d(2*n_channels, n_channels, 3, stride=2, padding=1, output_padding=1),\n",
    "        nn.InstanceNorm2d(n_channels),\n",
    "        nn.ReLU()\n",
    "    )\n",
    "\n",
    "def residual_block(n_channels):\n",
    "    return nn.Sequential(\n",
    "        nn.ReflectionPad2d(padding=1),\n",
    "        nn.Conv2d(n_channels, n_channels, 3, stride=1, padding=0),\n",
    "        nn.InstanceNorm2d(n_channels),\n",
    "        nn.ReLU(),\n",
    "        nn.ReflectionPad2d(padding=1),\n",
    "        nn.Conv2d(n_channels, n_channels, 3, stride=1, padding=0),\n",
    "        nn.InstanceNorm2d(n_channels),\n",
    "    )\n",
    "    \n",
    "\n",
    "def patch_layer(n_channels):\n",
    "    \n",
    "    return nn.Sequential(\n",
    "          nn.Conv2d(n_channels,2*n_channels,4,padding=1,stride=2),\n",
    "          nn.InstanceNorm2d(2*n_channels),\n",
    "          nn.LeakyReLU(negative_slope=0.2)\n",
    "      )"
   ]
  },
  {
   "cell_type": "code",
   "execution_count": 36,
   "metadata": {},
   "outputs": [],
   "source": [
    "class Generator(nn.Module):\n",
    "    def __init__(self):\n",
    "      super().__init__()\n",
    "      self.model = nn.Sequential(\n",
    "          nn.ReflectionPad2d(padding=3),\n",
    "          nn.Conv2d(3, 64, 7, stride=1, padding=0),\n",
    "          nn.InstanceNorm2d(64),\n",
    "          nn.ReLU(),\n",
    "          downsample_block(64),\n",
    "          downsample_block(128),\n",
    "          residual_block(256),\n",
    "          residual_block(256),\n",
    "          residual_block(256),\n",
    "          residual_block(256),\n",
    "          residual_block(256),\n",
    "          residual_block(256),\n",
    "          residual_block(256),\n",
    "          residual_block(256),\n",
    "          residual_block(256),\n",
    "          upsample_block(128),\n",
    "          upsample_block(64),\n",
    "          nn.ReflectionPad2d(padding=3),\n",
    "          nn.Conv2d(64, 3, 7, stride=1, padding=0),\n",
    "          nn.Sigmoid(),\n",
    "      )\n",
    "\n",
    "    def forward(self, X):\n",
    "      return self.model(X)"
   ]
  },
  {
   "cell_type": "code",
   "execution_count": 37,
   "metadata": {},
   "outputs": [],
   "source": [
    "class Discriminator(nn.Module):\n",
    "   \n",
    "    def __init__(self):\n",
    "      super().__init__()\n",
    "      self.model = nn.Sequential(\n",
    "          nn.Conv2d(3,64,4,padding=1,stride=2),\n",
    "          nn.LeakyReLU(negative_slope=0.2),\n",
    "          patch_layer(64),\n",
    "          patch_layer(128),\n",
    "          patch_layer(256),\n",
    "          nn.Conv2d(512,1,4,padding=1),\n",
    "      )\n",
    "\n",
    "    def forward(self, X):\n",
    "      x = self.model(X)\n",
    "      x = x.mean([-2,-1])\n",
    "      return x"
   ]
  },
  {
   "cell_type": "code",
   "execution_count": 38,
   "metadata": {},
   "outputs": [],
   "source": [
    "class GAN():\n",
    "\n",
    "  def __init__(self, loss_lambda = 0.8, buffer_dim = 50):\n",
    "      self.device = \"cuda\" if torch.cuda.is_available() else \"cpu\"\n",
    "      self.G_xy = Generator().to(self.device)\n",
    "      self.G_yx = Generator().to(self.device)\n",
    "      self.D_xy = Discriminator().to(self.device)\n",
    "      self.D_yx = Discriminator().to(self.device)\n",
    "      self.losses = []\n",
    "      self.buffer_dim = buffer_dim\n",
    "      self.fake_x_buffer = []\n",
    "      self.fake_y_buffer = []\n",
    "      self.G_loss_decaying_average = 0.5\n",
    "      self.loss_average_lambda = loss_lambda\n",
    "      \n",
    "  def train_generator(self,X,Y,optimisers):\n",
    "      optimisers['G_xy_optimiser'].zero_grad()\n",
    "      optimisers['G_yx_optimiser'].zero_grad()\n",
    "      \n",
    "      fake_y = self.G_xy(X)\n",
    "      fake_x = self.G_yx(Y)\n",
    "      self.update_buffers(fake_x[torch.randint(bs,(1,))],fake_y[torch.randint(bs,(1,))])\n",
    "      xy_loss = torch.mean((self.D_xy(fake_y) - 1) ** 2)\n",
    "      yx_loss = torch.mean((self.D_yx(fake_x) - 1) ** 2)\n",
    "      recon_x = self.G_yx(fake_y)\n",
    "      recon_y = self.G_xy(fake_x)\n",
    "      cyc_loss = cyc_lambda*(torch.mean(torch.abs(recon_y - Y)) + torch.mean(torch.abs(recon_x - X)))\n",
    "      id_loss = id_lambda*(torch.mean(torch.abs(self.G_xy(Y) - Y)) + torch.mean(torch.abs(self.G_yx(X) - X)))\n",
    "\n",
    "      loss = xy_loss + yx_loss + cyc_loss + id_loss\n",
    "      loss.backward()\n",
    "\n",
    "      optimisers['G_xy_optimiser'].step()\n",
    "      optimisers['G_yx_optimiser'].step()\n",
    "\n",
    "      return xy_loss, yx_loss, cyc_loss, id_loss\n",
    "\n",
    "  def train_discriminator(self,X,Y,optimisers):\n",
    "      optimisers['D_xy_optimiser'].zero_grad()\n",
    "      optimisers['D_yx_optimiser'].zero_grad()\n",
    "\n",
    "      fake_x = self.fake_x_buffer[torch.randint(len(self.fake_x_buffer),(bs,))]\n",
    "      fake_y = self.fake_y_buffer[torch.randint(len(self.fake_y_buffer),(bs,))]\n",
    "\n",
    "      d_xy_loss = torch.mean(self.D_xy(fake_y) ** 2) + torch.mean((self.D_xy(Y) - 1) ** 2)\n",
    "      d_yx_loss = torch.mean(self.D_yx(fake_x) ** 2) + torch.mean((self.D_yx(X) - 1) ** 2)\n",
    "\n",
    "      loss = d_xy_loss + d_yx_loss\n",
    "      loss.backward()\n",
    "\n",
    "      optimisers['D_xy_optimiser'].step()\n",
    "      optimisers['D_yx_optimiser'].step()\n",
    "\n",
    "      return d_xy_loss, d_yx_loss\n",
    "\n",
    "  def plot_loss(self, losses):\n",
    "      x = []\n",
    "      xy_loss = []\n",
    "      yx_loss = []\n",
    "      cyc_loss = []\n",
    "      id_loss = []\n",
    "      d_xy_loss = []\n",
    "      d_yx_loss = []\n",
    "      for i in range(len(losses)):\n",
    "        x.append(i)\n",
    "        xy_loss.append(losses[i][0])\n",
    "        yx_loss.append(losses[i][1])\n",
    "        cyc_loss.append(losses[i][2])\n",
    "        id_loss.append(losses[i][3])\n",
    "        d_xy_loss.append(losses[i][4])\n",
    "        d_yx_loss.append(losses[i][5])\n",
    "      plt.plot(x,xy_loss, label='XY_Loss')\n",
    "      plt.plot(x,yx_loss, label='YX_Loss')\n",
    "      plt.plot(x,cyc_loss, label='Cyc_Loss')\n",
    "      plt.plot(x,id_loss, label='ID_Loss')\n",
    "      plt.plot(x,d_xy_loss, label='Discriminator_XY_Loss')\n",
    "      plt.plot(x,d_yx_loss, label='Discriminator_YX_Loss')\n",
    "      plt.title('Loss Progression')\n",
    "      plt.xlabel('Steps')\n",
    "      plt.ylabel('Loss')\n",
    "      plt.legend()\n",
    "      plt.show()\n",
    "  \n",
    "  def load_weights(self):\n",
    "      self.G_xy.load_state_dict(torch.load(drive_path + 'G_xy.pt', map_location=torch.device(self.device)))\n",
    "      self.G_yx.load_state_dict(torch.load(drive_path + 'G_yx.pt', map_location=torch.device(self.device)))\n",
    "      self.D_xy.load_state_dict(torch.load(drive_path + 'D_xy.pt', map_location=torch.device(self.device)))\n",
    "      self.D_yx.load_state_dict(torch.load(drive_path + 'D_yx.pt', map_location=torch.device(self.device)))\n",
    "      print(\"Weights Loaded\")\n",
    "\n",
    "  def save_weights(self):\n",
    "      torch.save(self.G_xy.state_dict(), drive_path + 'G_xy.pt')\n",
    "      torch.save(self.G_yx.state_dict(), drive_path + 'G_yx.pt')\n",
    "      torch.save(self.D_xy.state_dict(), drive_path + 'D_xy.pt')\n",
    "      torch.save(self.D_yx.state_dict(), drive_path + 'D_yx.pt')\n",
    "      print(\"Weights Saved\")\n",
    "  \n",
    "  def initiate_buffers(self,X,Y):\n",
    "      self.fake_x_buffer = self.G_yx(Y.to(self.device)).detach()\n",
    "      self.fake_y_buffer = self.G_xy(X.to(self.device)).detach()\n",
    "  \n",
    "  def update_buffers(self,X,Y):\n",
    "      self.fake_x_buffer = torch.cat((self.fake_x_buffer,X.detach()),dim=0)\n",
    "      self.fake_y_buffer = torch.cat((self.fake_y_buffer,Y.detach()),dim=0)\n",
    "      if len(self.fake_x_buffer) > self.buffer_dim:\n",
    "        self.fake_x_buffer = self.fake_x_buffer[1:]\n",
    "      if len(self.fake_y_buffer) > self.buffer_dim:\n",
    "        self.fake_y_buffer = self.fake_y_buffer[1:]\n",
    "\n",
    "  def train(self, optimisers, epochs):\n",
    "      \n",
    "      if len(self.fake_x_buffer) == 0:\n",
    "        self.initiate_buffers(next(iter(input_dataloader)),next(iter(target_dataloader)))\n",
    "      for epoch in range(epochs):\n",
    "        start = time.time()\n",
    "        xy_loss, yx_loss, cyc_loss, id_loss, d_xy_loss, d_yx_loss = [],[],[],[],[],[]\n",
    "        for batch, (X,Y) in enumerate(zip(input_dataloader,target_dataloader)):\n",
    "          X,Y = X.to(self.device), Y.to(self.device)\n",
    "          xy_loss_b, yx_loss_b, cyc_loss_b, id_loss_b = self.train_generator(X,Y,optimisers)\n",
    "          self.G_loss_decaying_average = (1 - self.loss_average_lambda) * (xy_loss_b + yx_loss_b) + self.loss_average_lambda * self.G_loss_decaying_average\n",
    "          if self.G_loss_decaying_average < 0.5:\n",
    "            d_xy_loss_b, d_yx_loss_b = self.train_discriminator(X,Y,optimisers)\n",
    "            d_xy_loss.append(d_xy_loss_b.item())\n",
    "            d_yx_loss.append(d_yx_loss_b.item())\n",
    "          xy_loss.append(xy_loss_b.item())\n",
    "          yx_loss.append(yx_loss_b.item())\n",
    "          cyc_loss.append(cyc_loss_b.item())\n",
    "          id_loss.append(id_loss_b.item())\n",
    "        xy_loss = mean(xy_loss)\n",
    "        yx_loss = mean(yx_loss)\n",
    "        cyc_loss = mean(cyc_loss)/cyc_lambda\n",
    "        id_loss = mean(id_loss)/id_lambda\n",
    "        if len(d_xy_loss) == 0:\n",
    "          d_xy_loss = 0\n",
    "        else:\n",
    "          d_xy_loss = mean(d_xy_loss)\n",
    "        if len(d_yx_loss) == 0:\n",
    "          d_yx_loss = 0\n",
    "        else:\n",
    "          d_yx_loss = mean(d_yx_loss)\n",
    "        epoch_losses = [xy_loss,yx_loss,cyc_loss,id_loss, d_xy_loss, d_yx_loss]\n",
    "        self.losses.append(epoch_losses)\n",
    "        finish = time.time()\n",
    "        print('[Epoch {0}/{1} {2:6.3f}s] G Loss: {3:6.3f}, D Loss: {4:6.3f}, Cyc Loss: {5:6.3f}, ID Loss: {6:6.3f}'.format(\n",
    "            epoch+1,\n",
    "            epochs,\n",
    "            finish - start,\n",
    "            epoch_losses[0] + epoch_losses[1],\n",
    "            epoch_losses[4] + epoch_losses[5],\n",
    "            epoch_losses[2],\n",
    "            epoch_losses[3]\n",
    "        ))\n",
    "      self.plot_loss(self.losses)"
   ]
  },
  {
   "cell_type": "code",
   "execution_count": 43,
   "metadata": {},
   "outputs": [],
   "source": [
    "epochs = 15                          \n",
    "image_size = 256                     \n",
    "lr = 0.0001                           \n",
    "beta1 = 0.5                           \n",
    "beta2 = 0.999                         \n",
    "bs = 2                                \n",
    "cyc_lambda = 10                      \n",
    "id_lambda = 1                        \n",
    "use_saved_weights = False   "
   ]
  },
  {
   "cell_type": "code",
   "execution_count": 44,
   "metadata": {},
   "outputs": [],
   "source": [
    "class Dataset(Dataset):\n",
    "\n",
    "  def __init__(self, directory_path):\n",
    "    path_list = os.listdir(directory_path)\n",
    "    abspath = os.path.abspath(directory_path) \n",
    "    self.img_dir = directory_path\n",
    "    self.img_list = [os.path.join(abspath, path) for path in path_list]\n",
    "    self.transform = transforms.Compose([\n",
    "          transforms.Resize(image_size),\n",
    "          transforms.ToTensor(),\n",
    "    ])\n",
    "\n",
    "  def __len__(self):\n",
    "    return len(self.img_list)\n",
    "  \n",
    "  def __getitem__(self, idx):\n",
    "    path = self.img_list[idx]\n",
    "    img = Image.open(path)\n",
    "    return self.transform(img)"
   ]
  },
  {
   "cell_type": "code",
   "execution_count": 45,
   "metadata": {},
   "outputs": [],
   "source": [
    "input_images = Dataset('gan-getting-started/' + 'photo_jpg')\n",
    "target_images = Dataset('gan-getting-started/' + 'monet_jpg')\n",
    "input_dataloader = DataLoader(input_images, batch_size=bs, shuffle=True)\n",
    "target_dataloader = DataLoader(target_images, batch_size=bs, shuffle=True)\n",
    "model = GAN()\n",
    "optimisers = {\n",
    "    'G_xy_optimiser': torch.optim.Adam(model.G_xy.parameters(),lr=lr, betas=(beta1,beta2)),\n",
    "    'G_yx_optimiser': torch.optim.Adam(model.G_yx.parameters(),lr=lr, betas=(beta1,beta2)),\n",
    "    'D_xy_optimiser': torch.optim.Adam(model.D_xy.parameters(),lr=lr, betas=(beta1,beta2)),\n",
    "    'D_yx_optimiser': torch.optim.Adam(model.D_yx.parameters(),lr=lr, betas=(beta1,beta2))\n",
    "}"
   ]
  },
  {
   "cell_type": "code",
   "execution_count": 46,
   "metadata": {},
   "outputs": [
    {
     "name": "stdout",
     "output_type": "stream",
     "text": [
      "[Epoch 1/15 81.700s] G Loss:  0.725, D Loss:  0.523, Cyc Loss:  0.349, ID Loss:  0.351\n",
      "[Epoch 2/15 84.388s] G Loss:  0.207, D Loss:  0.436, Cyc Loss:  0.313, ID Loss:  0.306\n",
      "[Epoch 3/15 84.100s] G Loss:  0.205, D Loss:  0.414, Cyc Loss:  0.304, ID Loss:  0.297\n",
      "[Epoch 4/15 78.236s] G Loss:  0.198, D Loss:  0.373, Cyc Loss:  0.312, ID Loss:  0.307\n",
      "[Epoch 5/15 80.373s] G Loss:  0.215, D Loss:  0.443, Cyc Loss:  0.297, ID Loss:  0.307\n",
      "[Epoch 6/15 84.850s] G Loss:  0.193, D Loss:  0.425, Cyc Loss:  0.285, ID Loss:  0.300\n",
      "[Epoch 7/15 84.841s] G Loss:  0.208, D Loss:  0.413, Cyc Loss:  0.280, ID Loss:  0.295\n",
      "[Epoch 8/15 84.806s] G Loss:  0.208, D Loss:  0.376, Cyc Loss:  0.283, ID Loss:  0.299\n",
      "[Epoch 9/15 84.760s] G Loss:  0.181, D Loss:  0.380, Cyc Loss:  0.276, ID Loss:  0.291\n",
      "[Epoch 10/15 84.748s] G Loss:  0.163, D Loss:  0.324, Cyc Loss:  0.268, ID Loss:  0.285\n",
      "[Epoch 11/15 84.732s] G Loss:  0.173, D Loss:  0.337, Cyc Loss:  0.257, ID Loss:  0.276\n",
      "[Epoch 12/15 84.769s] G Loss:  0.177, D Loss:  0.332, Cyc Loss:  0.264, ID Loss:  0.283\n",
      "[Epoch 13/15 84.681s] G Loss:  0.171, D Loss:  0.355, Cyc Loss:  0.254, ID Loss:  0.266\n",
      "[Epoch 14/15 84.716s] G Loss:  0.195, D Loss:  0.347, Cyc Loss:  0.246, ID Loss:  0.265\n",
      "[Epoch 15/15 84.748s] G Loss:  0.178, D Loss:  0.334, Cyc Loss:  0.247, ID Loss:  0.272\n"
     ]
    },
    {
     "data": {
      "image/png": "[encoded data removed]",
      "text/plain": [
       "<Figure size 640x480 with 1 Axes>"
      ]
     },
     "metadata": {},
     "output_type": "display_data"
    }
   ],
   "source": [
    "model.train(optimisers, epochs=epochs)"
   ]
  },
  {
   "cell_type": "code",
   "execution_count": 47,
   "metadata": {},
   "outputs": [],
   "source": [
    "device = \"cuda\" if torch.cuda.is_available() else \"cpu\""
   ]
  },
  {
   "cell_type": "code",
   "execution_count": 48,
   "metadata": {},
   "outputs": [],
   "source": [
    "def save_pictures(input_images):\n",
    "    if not os.path.isdir('images'):\n",
    "        os.makedirs('images')\n",
    "    os.chdir('images')\n",
    "    for i in tqdm(range(len(input_images))):\n",
    "        img = input_images[i]\n",
    "        fake_img = model.G_xy(img.to(device)).cpu().squeeze().detach()\n",
    "        img_name = f'image-{i+1}.jpg'\n",
    "        save_image(fake_img,img_name)"
   ]
  },
  {
   "cell_type": "code",
   "execution_count": 49,
   "metadata": {},
   "outputs": [
    {
     "data": {
      "text/plain": [
       "'E:\\\\kaggle_I’m Something of a Painter Myself'"
      ]
     },
     "execution_count": 49,
     "metadata": {},
     "output_type": "execute_result"
    }
   ],
   "source": [
    "os.chdir('E:\\kaggle_I’m Something of a Painter Myself')\n",
    "os.getcwd()"
   ]
  },
  {
   "cell_type": "code",
   "execution_count": 50,
   "metadata": {},
   "outputs": [
    {
     "name": "stderr",
     "output_type": "stream",
     "text": [
      "100%|██████████| 7038/7038 [02:22<00:00, 49.42it/s]\n"
     ]
    },
    {
     "data": {
      "text/plain": [
       "'kaggle/working/images.zip'"
      ]
     },
     "execution_count": 50,
     "metadata": {},
     "output_type": "execute_result"
    }
   ],
   "source": [
    "\n",
    "save_pictures(input_images)\n",
    "os.chdir('E:\\kaggle_I’m Something of a Painter Myself')\n",
    "shutil.make_archive('kaggle/working/'+'images','zip', base_dir='images')"
   ]
  },
  {
   "cell_type": "code",
   "execution_count": 51,
   "metadata": {},
   "outputs": [],
   "source": [
    "torch.save(model, 'model.pth')"
   ]
  },
  {
   "cell_type": "code",
   "execution_count": 52,
   "metadata": {},
   "outputs": [],
   "source": [
    "m = torch.load('model.pth')"
   ]
  },
  {
   "cell_type": "code",
   "execution_count": 53,
   "metadata": {},
   "outputs": [
    {
     "data": {
      "text/plain": [
       "<__main__.GAN at 0x1df24522c90>"
      ]
     },
     "execution_count": 53,
     "metadata": {},
     "output_type": "execute_result"
    }
   ],
   "source": []
  },
  {
   "cell_type": "code",
   "execution_count": null,
   "metadata": {},
   "outputs": [],
   "source": []
  }
 ],
 "metadata": {
  "kernelspec": {
   "display_name": "Python 3 (ipykernel)",
   "language": "python",
   "name": "python3"
  },
  "language_info": {
   "codemirror_mode": {
    "name": "ipython",
    "version": 3
   },
   "file_extension": ".py",
   "mimetype": "text/x-python",
   "name": "python",
   "nbconvert_exporter": "python",
   "pygments_lexer": "ipython3",
   "version": "3.9.12"
  }
 },
 "nbformat": 4,
 "nbformat_minor": 2
}
