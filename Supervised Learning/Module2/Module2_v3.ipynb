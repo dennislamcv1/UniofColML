{
 "cells": [
  {
   "cell_type": "markdown",
   "metadata": {
    "deletable": false,
    "editable": false,
    "nbgrader": {
     "cell_type": "markdown",
     "checksum": "9b94c0552360fd39a72a27fbf2d6a549",
     "grade": false,
     "grade_id": "cell-4987257505ec9884",
     "locked": true,
     "schema_version": 3,
     "solution": false,
     "task": false
    }
   },
   "source": [
    "### WARNING\n",
    "Please refrain from using **print statements/anything that dumps large outputs(>500 lines) to STDOUT** to avoid running to into **memory issues**. \n",
    "Doing so requires your entire lab to be reset which may also result in loss of progress and you will be required to reach out to Coursera for assistance with this.\n",
    "This process usually takes time causing delays to your submission."
   ]
  },
  {
   "cell_type": "markdown",
   "metadata": {
    "deletable": false,
    "editable": false,
    "nbgrader": {
     "cell_type": "markdown",
     "checksum": "7b8938a1b09f02ca333311638e75dc1b",
     "grade": false,
     "grade_id": "cell-77449491740be285",
     "locked": true,
     "schema_version": 3,
     "solution": false,
     "task": false
    }
   },
   "source": [
    "### Validate Button\n",
    "Please note that this assignment uses nbgrader to facilitate grading. You will see a **validate button** at the top of your Jupyter notebook. If you hit this button, it will run tests cases for the lab that aren't hidden. It is good to use the validate button before submitting the lab. Do know that the labs in the course contain hidden test cases. The validate button will not let you know whether these test cases pass. After submitting your lab, you can see more information about these hidden test cases in the Grader Output. <br>\n",
    "***Cells with longer execution times will cause the validate button to time out and freeze. Please know that if you run into Validate time-outs, it will not affect the final submission grading.*** <br>"
   ]
  },
  {
   "cell_type": "code",
   "execution_count": 1,
   "metadata": {
    "deletable": false,
    "editable": false,
    "nbgrader": {
     "cell_type": "code",
     "checksum": "5fcf04359e4f58318a4f49068f7ed7cc",
     "grade": false,
     "grade_id": "cell-e4b3b8e5dba94833",
     "locked": true,
     "schema_version": 3,
     "solution": false,
     "task": false
    }
   },
   "outputs": [],
   "source": [
    "%matplotlib inline\n",
    "import numpy as np\n",
    "import scipy as sp\n",
    "import scipy.stats as stats\n",
    "import pandas as pd\n",
    "import matplotlib.pyplot as plt\n",
    "import seaborn as sns\n",
    "# Set color map to have light blue background\n",
    "sns.set()\n",
    "import statsmodels.formula.api as smf\n",
    "import statsmodels.api as sm"
   ]
  },
  {
   "cell_type": "markdown",
   "metadata": {
    "deletable": false,
    "editable": false,
    "nbgrader": {
     "cell_type": "markdown",
     "checksum": "5321ddafe1d106af0ce1198bbe0bf5b1",
     "grade": false,
     "grade_id": "cell-9053db523658abe7",
     "locked": true,
     "schema_version": 3,
     "solution": false,
     "task": false
    }
   },
   "source": [
    "N.B.: I recommend that you use the `statsmodel` library to do the regression analysis as opposed to *e.g.* `sklearn`. The `sklearn` library is great for advanced topics, but it's easier to get lost in a sea of details and it's not needed for these problems."
   ]
  },
  {
   "cell_type": "markdown",
   "metadata": {
    "deletable": false,
    "editable": false,
    "nbgrader": {
     "cell_type": "markdown",
     "checksum": "941726f345e5985f9de17219118382c0",
     "grade": false,
     "grade_id": "cell-b1e4ef7d92635e96",
     "locked": true,
     "schema_version": 3,
     "solution": false,
     "task": false
    }
   },
   "source": [
    "# 1.  Polynomial regression using MPG data [25 pts, Peer Review]\n",
    "We will be using Auto MPG data from UCI datasets (https://archive.ics.uci.edu/ml/datasets/Auto+MPG) to study polynomial regression."
   ]
  },
  {
   "cell_type": "code",
   "execution_count": 2,
   "metadata": {
    "deletable": false,
    "editable": false,
    "nbgrader": {
     "cell_type": "code",
     "checksum": "99b68acb494ea289b6845d14c5621157",
     "grade": false,
     "grade_id": "cell-6ab9f7cc3182ff00",
     "locked": true,
     "schema_version": 3,
     "solution": false,
     "task": false
    }
   },
   "outputs": [
    {
     "name": "stdout",
     "output_type": "stream",
     "text": [
      "<class 'pandas.core.frame.DataFrame'>\n",
      "RangeIndex: 398 entries, 0 to 397\n",
      "Data columns (total 9 columns):\n",
      " #   Column        Non-Null Count  Dtype  \n",
      "---  ------        --------------  -----  \n",
      " 0   mpg           398 non-null    float64\n",
      " 1   cylinders     398 non-null    int64  \n",
      " 2   displacement  398 non-null    float64\n",
      " 3   horsepower    398 non-null    object \n",
      " 4   weight        398 non-null    float64\n",
      " 5   acceleration  398 non-null    float64\n",
      " 6   model_year    398 non-null    int64  \n",
      " 7   origin        398 non-null    int64  \n",
      " 8   car_name      398 non-null    object \n",
      "dtypes: float64(4), int64(3), object(2)\n",
      "memory usage: 28.1+ KB\n",
      "None\n"
     ]
    },
    {
     "data": {
      "text/html": [
       "<div>\n",
       "<style scoped>\n",
       "    .dataframe tbody tr th:only-of-type {\n",
       "        vertical-align: middle;\n",
       "    }\n",
       "\n",
       "    .dataframe tbody tr th {\n",
       "        vertical-align: top;\n",
       "    }\n",
       "\n",
       "    .dataframe thead th {\n",
       "        text-align: right;\n",
       "    }\n",
       "</style>\n",
       "<table border=\"1\" class=\"dataframe\">\n",
       "  <thead>\n",
       "    <tr style=\"text-align: right;\">\n",
       "      <th></th>\n",
       "      <th>mpg</th>\n",
       "      <th>cylinders</th>\n",
       "      <th>displacement</th>\n",
       "      <th>weight</th>\n",
       "      <th>acceleration</th>\n",
       "      <th>model_year</th>\n",
       "      <th>origin</th>\n",
       "    </tr>\n",
       "  </thead>\n",
       "  <tbody>\n",
       "    <tr>\n",
       "      <th>count</th>\n",
       "      <td>398.000000</td>\n",
       "      <td>398.000000</td>\n",
       "      <td>398.000000</td>\n",
       "      <td>398.000000</td>\n",
       "      <td>398.000000</td>\n",
       "      <td>398.000000</td>\n",
       "      <td>398.000000</td>\n",
       "    </tr>\n",
       "    <tr>\n",
       "      <th>mean</th>\n",
       "      <td>23.514573</td>\n",
       "      <td>5.454774</td>\n",
       "      <td>193.425879</td>\n",
       "      <td>2970.424623</td>\n",
       "      <td>15.568090</td>\n",
       "      <td>76.010050</td>\n",
       "      <td>1.572864</td>\n",
       "    </tr>\n",
       "    <tr>\n",
       "      <th>std</th>\n",
       "      <td>7.815984</td>\n",
       "      <td>1.701004</td>\n",
       "      <td>104.269838</td>\n",
       "      <td>846.841774</td>\n",
       "      <td>2.757689</td>\n",
       "      <td>3.697627</td>\n",
       "      <td>0.802055</td>\n",
       "    </tr>\n",
       "    <tr>\n",
       "      <th>min</th>\n",
       "      <td>9.000000</td>\n",
       "      <td>3.000000</td>\n",
       "      <td>68.000000</td>\n",
       "      <td>1613.000000</td>\n",
       "      <td>8.000000</td>\n",
       "      <td>70.000000</td>\n",
       "      <td>1.000000</td>\n",
       "    </tr>\n",
       "    <tr>\n",
       "      <th>25%</th>\n",
       "      <td>17.500000</td>\n",
       "      <td>4.000000</td>\n",
       "      <td>104.250000</td>\n",
       "      <td>2223.750000</td>\n",
       "      <td>13.825000</td>\n",
       "      <td>73.000000</td>\n",
       "      <td>1.000000</td>\n",
       "    </tr>\n",
       "    <tr>\n",
       "      <th>50%</th>\n",
       "      <td>23.000000</td>\n",
       "      <td>4.000000</td>\n",
       "      <td>148.500000</td>\n",
       "      <td>2803.500000</td>\n",
       "      <td>15.500000</td>\n",
       "      <td>76.000000</td>\n",
       "      <td>1.000000</td>\n",
       "    </tr>\n",
       "    <tr>\n",
       "      <th>75%</th>\n",
       "      <td>29.000000</td>\n",
       "      <td>8.000000</td>\n",
       "      <td>262.000000</td>\n",
       "      <td>3608.000000</td>\n",
       "      <td>17.175000</td>\n",
       "      <td>79.000000</td>\n",
       "      <td>2.000000</td>\n",
       "    </tr>\n",
       "    <tr>\n",
       "      <th>max</th>\n",
       "      <td>46.600000</td>\n",
       "      <td>8.000000</td>\n",
       "      <td>455.000000</td>\n",
       "      <td>5140.000000</td>\n",
       "      <td>24.800000</td>\n",
       "      <td>82.000000</td>\n",
       "      <td>3.000000</td>\n",
       "    </tr>\n",
       "  </tbody>\n",
       "</table>\n",
       "</div>"
      ],
      "text/plain": [
       "              mpg   cylinders  displacement       weight  acceleration  \\\n",
       "count  398.000000  398.000000    398.000000   398.000000    398.000000   \n",
       "mean    23.514573    5.454774    193.425879  2970.424623     15.568090   \n",
       "std      7.815984    1.701004    104.269838   846.841774      2.757689   \n",
       "min      9.000000    3.000000     68.000000  1613.000000      8.000000   \n",
       "25%     17.500000    4.000000    104.250000  2223.750000     13.825000   \n",
       "50%     23.000000    4.000000    148.500000  2803.500000     15.500000   \n",
       "75%     29.000000    8.000000    262.000000  3608.000000     17.175000   \n",
       "max     46.600000    8.000000    455.000000  5140.000000     24.800000   \n",
       "\n",
       "       model_year      origin  \n",
       "count  398.000000  398.000000  \n",
       "mean    76.010050    1.572864  \n",
       "std      3.697627    0.802055  \n",
       "min     70.000000    1.000000  \n",
       "25%     73.000000    1.000000  \n",
       "50%     76.000000    1.000000  \n",
       "75%     79.000000    2.000000  \n",
       "max     82.000000    3.000000  "
      ]
     },
     "execution_count": 2,
     "metadata": {},
     "output_type": "execute_result"
    }
   ],
   "source": [
    "columns = ['mpg','cylinders','displacement','horsepower','weight','acceleration','model_year','origin','car_name']\n",
    "df = pd.read_csv(\"data/auto-mpg.data\", header=None, delimiter=r\"\\s+\", names=columns) \n",
    "print(df.info())\n",
    "df.describe()"
   ]
  },
  {
   "cell_type": "markdown",
   "metadata": {
    "deletable": false,
    "editable": false,
    "nbgrader": {
     "cell_type": "markdown",
     "checksum": "d66e4cc0322f58a9600526aad669d932",
     "grade": false,
     "grade_id": "cell-0970d31c4644246a",
     "locked": true,
     "schema_version": 3,
     "solution": false,
     "task": false
    }
   },
   "source": [
    "### 1a) Clean the data [5 pts] \n",
    "\n",
    "1. Fix data types\n",
    "2. Remove null or undefined values \n",
    "3. Drop the column car_name\n",
    "\n",
    "Replace the data frame with the cleaned data frame. Do not change the column names, and do not add new columns.\n",
    "\n",
    "Hint: 1. Dtype of one column is incorrect.  "
   ]
  },
  {
   "cell_type": "code",
   "execution_count": 3,
   "metadata": {
    "deletable": false,
    "nbgrader": {
     "cell_type": "code",
     "checksum": "3d3715f95049cdf5a98cf782436c42d0",
     "grade": false,
     "grade_id": "cell-62afc4802962eabb",
     "locked": false,
     "schema_version": 3,
     "solution": true,
     "task": false
    }
   },
   "outputs": [
    {
     "name": "stdout",
     "output_type": "stream",
     "text": [
      "<class 'pandas.core.frame.DataFrame'>\n",
      "Int64Index: 392 entries, 0 to 397\n",
      "Data columns (total 8 columns):\n",
      " #   Column        Non-Null Count  Dtype  \n",
      "---  ------        --------------  -----  \n",
      " 0   mpg           392 non-null    float64\n",
      " 1   cylinders     392 non-null    int64  \n",
      " 2   displacement  392 non-null    float64\n",
      " 3   horsepower    392 non-null    float64\n",
      " 4   weight        392 non-null    float64\n",
      " 5   acceleration  392 non-null    float64\n",
      " 6   model_year    392 non-null    int64  \n",
      " 7   origin        392 non-null    int64  \n",
      "dtypes: float64(5), int64(3)\n",
      "memory usage: 27.6 KB\n"
     ]
    },
    {
     "data": {
      "text/plain": [
       "(None,\n",
       "               mpg   cylinders  displacement  horsepower       weight  \\\n",
       " count  392.000000  392.000000    392.000000  392.000000   392.000000   \n",
       " mean    23.445918    5.471939    194.411990  104.469388  2977.584184   \n",
       " std      7.805007    1.705783    104.644004   38.491160   849.402560   \n",
       " min      9.000000    3.000000     68.000000   46.000000  1613.000000   \n",
       " 25%     17.000000    4.000000    105.000000   75.000000  2225.250000   \n",
       " 50%     22.750000    4.000000    151.000000   93.500000  2803.500000   \n",
       " 75%     29.000000    8.000000    275.750000  126.000000  3614.750000   \n",
       " max     46.600000    8.000000    455.000000  230.000000  5140.000000   \n",
       " \n",
       "        acceleration  model_year      origin  \n",
       " count    392.000000  392.000000  392.000000  \n",
       " mean      15.541327   75.979592    1.576531  \n",
       " std        2.758864    3.683737    0.805518  \n",
       " min        8.000000   70.000000    1.000000  \n",
       " 25%       13.775000   73.000000    1.000000  \n",
       " 50%       15.500000   76.000000    1.000000  \n",
       " 75%       17.025000   79.000000    2.000000  \n",
       " max       24.800000   82.000000    3.000000  )"
      ]
     },
     "execution_count": 3,
     "metadata": {},
     "output_type": "execute_result"
    }
   ],
   "source": [
    "# replace data frame with cleaned data frame\n",
    "# fix data types, remove null or undefined values, drop the column car_name\n",
    "# NOTE: do not change the column names or add new columns \n",
    "# your code here\n",
    "\n",
    "# Convert 'horsepower' to numeric, setting errors='coerce' to handle non-numeric values\n",
    "df['horsepower'] = pd.to_numeric(df['horsepower'], errors='coerce')\n",
    "\n",
    "# Remove rows with any null values\n",
    "df = df.dropna()\n",
    "\n",
    "# Drop the column 'car_name'\n",
    "df = df.drop(columns=['car_name'])\n",
    "\n",
    "# Display basic information about the cleaned dataset\n",
    "df_info_cleaned = df.info()\n",
    "df_description_cleaned = df.describe()\n",
    "\n",
    "df_info_cleaned, df_description_cleaned\n"
   ]
  },
  {
   "cell_type": "code",
   "execution_count": 4,
   "metadata": {
    "deletable": false,
    "editable": false,
    "nbgrader": {
     "cell_type": "code",
     "checksum": "b73dab50aa3325ac620f85bd856bc662",
     "grade": true,
     "grade_id": "cell-3bb1f13b2e888fa2",
     "locked": true,
     "points": 5,
     "schema_version": 3,
     "solution": false,
     "task": false
    }
   },
   "outputs": [],
   "source": [
    "# this cell will test that you properly cleaned the dataframe "
   ]
  },
  {
   "cell_type": "markdown",
   "metadata": {
    "deletable": false,
    "editable": false,
    "nbgrader": {
     "cell_type": "markdown",
     "checksum": "3c568a653610a889a8f07e47b03f9c17",
     "grade": false,
     "grade_id": "cell-cae84acc6222fae0",
     "locked": true,
     "schema_version": 3,
     "solution": false,
     "task": false
    }
   },
   "source": [
    "### 1b) Fit a simple linear regression model with a feature that maximizes $R^2$. [5 pts]\n",
    "Which feature is the best predictor, and the resulting r-squared value? Update your answer below."
   ]
  },
  {
   "cell_type": "code",
   "execution_count": 5,
   "metadata": {
    "deletable": false,
    "nbgrader": {
     "cell_type": "code",
     "checksum": "85cafbf2b087159b9395f8c00b78d365",
     "grade": false,
     "grade_id": "cell-95afec916a05fed8",
     "locked": false,
     "schema_version": 3,
     "solution": true,
     "task": false
    }
   },
   "outputs": [
    {
     "data": {
      "text/plain": [
       "('weight', 0.6926304331206254)"
      ]
     },
     "execution_count": 5,
     "metadata": {},
     "output_type": "execute_result"
    }
   ],
   "source": [
    "# Initialize variables to store the best predictor and best R-squared value\n",
    "best_predictor = ''\n",
    "best_r_squared = 0\n",
    "\n",
    "# Loop through each predictor to fit a simple linear regression model\n",
    "for predictor in df.columns[1:]:\n",
    "    model = smf.ols(formula=f'mpg ~ {predictor}', data=df).fit()\n",
    "    r_squared = model.rsquared\n",
    "    if r_squared > best_r_squared:\n",
    "        best_r_squared = r_squared\n",
    "        best_predictor = predictor\n",
    "\n",
    "best_predictor, best_r_squared"
   ]
  },
  {
   "cell_type": "code",
   "execution_count": 6,
   "metadata": {
    "deletable": false,
    "editable": false,
    "nbgrader": {
     "cell_type": "code",
     "checksum": "17ae5a597735e5ef5199487fa27c7e43",
     "grade": true,
     "grade_id": "cell-a0a1c4e81af87837",
     "locked": true,
     "points": 5,
     "schema_version": 3,
     "solution": false,
     "task": false
    }
   },
   "outputs": [],
   "source": [
    "# this cell will test best_predictor and best_r_squared"
   ]
  },
  {
   "cell_type": "markdown",
   "metadata": {
    "deletable": false,
    "editable": false,
    "nbgrader": {
     "cell_type": "markdown",
     "checksum": "03507eba7d8f7b250feb4379aacc2822",
     "grade": false,
     "grade_id": "cell-9decb69047193e5b",
     "locked": true,
     "schema_version": 3,
     "solution": false,
     "task": false
    }
   },
   "source": [
    "### 1c) Using the feature found above (without normalizing), fit polynomial regression up to N=10 and report $R^2$. Which polynomial degree gives the best result? [10 pts]\n",
    "Hint: For N-degree polynomial fit, **you have to include all orders upto N**. Use a for loop instead of running it manually. The `statsmodels.formula.api` formula string can understand **`np.power(x,n)`** function to include a feature representing $x^n$.\n",
    "\n",
    "For example, the formula for n = 4 ---> mpg ~ weight + np.power(weight,2) + np.power(weight,3) + np.power(weight,4)"
   ]
  },
  {
   "cell_type": "code",
   "execution_count": 7,
   "metadata": {
    "deletable": false,
    "nbgrader": {
     "cell_type": "code",
     "checksum": "5eff5fe01be3ea4606103764c9baf7b0",
     "grade": false,
     "grade_id": "cell-006f7fbcfed58b23",
     "locked": false,
     "schema_version": 3,
     "solution": true,
     "task": false
    }
   },
   "outputs": [
    {
     "data": {
      "text/plain": [
       "(3, 0.715149595486925)"
      ]
     },
     "execution_count": 7,
     "metadata": {},
     "output_type": "execute_result"
    }
   ],
   "source": [
    "# Initialize variables to store the best degree and best R-squared value\n",
    "best_degree = 1\n",
    "best_r_squared = 0\n",
    "best_predictor = 'weight'\n",
    "\n",
    "# Loop through polynomial degrees from 1 to 10\n",
    "for degree in range(1, 11):\n",
    "    formula = 'mpg ~ ' + ' + '.join([f'np.power({best_predictor}, {i})' for i in range(1, degree + 1)])\n",
    "    model = smf.ols(formula=formula, data=df).fit()\n",
    "    r_squared = model.rsquared\n",
    "    if r_squared > best_r_squared:\n",
    "        best_r_squared = r_squared\n",
    "        best_degree = degree\n",
    "\n",
    "best_degree, best_r_squared\n",
    "\n",
    "  "
   ]
  },
  {
   "cell_type": "code",
   "execution_count": 8,
   "metadata": {
    "deletable": false,
    "editable": false,
    "nbgrader": {
     "cell_type": "code",
     "checksum": "d77794138a992b7fac1bd43440657795",
     "grade": true,
     "grade_id": "cell-f1eadefb34bd33c2",
     "locked": true,
     "points": 10,
     "schema_version": 3,
     "solution": false,
     "task": false
    }
   },
   "outputs": [],
   "source": [
    "# this cell tests best_degree and best_r_squared "
   ]
  },
  {
   "cell_type": "markdown",
   "metadata": {
    "deletable": false,
    "editable": false,
    "nbgrader": {
     "cell_type": "markdown",
     "checksum": "77322bb635e2ba9cc3f27a382fede78f",
     "grade": false,
     "grade_id": "cell-b7b1be7a931d2728",
     "locked": true,
     "schema_version": 3,
     "solution": false,
     "task": false
    }
   },
   "source": [
    "### 1d) Now, let's make a new feature called 'weight_norm' which is weight normalized by the mean value. [5 pts]\n",
    "Run training with polynomial models with polynomial degrees up to 20. Print out each polynomial degree and $R^2$ value. What do you observe from the result? What are the best_degree and best_r_qaured just based on $R^2$ value?\n",
    "Inspect model summary from each model. What is the highest order model that makes sense (fill the value for the sound_degree)? \n",
    "\n",
    "Note: For N-degree polynomial fit, you have to include all orders upto N."
   ]
  },
  {
   "cell_type": "code",
   "execution_count": 9,
   "metadata": {
    "deletable": false,
    "nbgrader": {
     "cell_type": "code",
     "checksum": "9f8eb6a5bea83f6fd4f455ab5423fa8f",
     "grade": false,
     "grade_id": "cell-6b06ce4c2b694439",
     "locked": false,
     "schema_version": 3,
     "solution": true,
     "task": false
    }
   },
   "outputs": [
    {
     "name": "stdout",
     "output_type": "stream",
     "text": [
      "1 0.6926304331206254\n",
      "2 0.7151475557845139\n",
      "3 0.7151495954869258\n",
      "4 0.7154806032756431\n",
      "5 0.7160964869848916\n",
      "6 0.7165638483082104\n",
      "7 0.7177879568842087\n",
      "8 0.7177992979709948\n",
      "9 0.7182083307102388\n",
      "10 0.7198912805389772\n",
      "11 0.7209101742520523\n",
      "12 0.7209276395637563\n",
      "13 0.7227918788934491\n",
      "14 0.7240041787167142\n",
      "15 0.7238303796561847\n",
      "16 0.7242829281892726\n",
      "17 0.7243902195110014\n",
      "18 0.7244188646420426\n",
      "19 0.7244317942203697\n",
      "20 0.7245259039513001\n"
     ]
    },
    {
     "data": {
      "text/plain": [
       "(20, 0.7245259039513001, 2)"
      ]
     },
     "execution_count": 9,
     "metadata": {},
     "output_type": "execute_result"
    }
   ],
   "source": [
    "import statsmodels.formula.api as smf\n",
    "\n",
    "# Normalize the weight feature\n",
    "df['weight_norm'] = df['weight'] / df['weight'].mean()\n",
    "\n",
    "# Initialize variables to store the best degree and best R-squared value\n",
    "best_degree = 1\n",
    "best_r_squared = 0\n",
    "sound_degree = 1\n",
    "\n",
    "formula = 'mpg ~ '\n",
    "res = []\n",
    "\n",
    "# Loop through polynomial degrees from 1 to 20\n",
    "for i in range(1, 21):\n",
    "    formula += f'np.power(weight_norm, {i}) + '\n",
    "    model = smf.ols(formula[:-2], data=df).fit()\n",
    "    r_squared = model.rsquared\n",
    "    res.append((i, r_squared))\n",
    "    print(i, r_squared)\n",
    "\n",
    "    # Update best degree and R-squared value\n",
    "    if r_squared > best_r_squared:\n",
    "        best_r_squared = r_squared\n",
    "        best_degree = i\n",
    "\n",
    "    # Check if all predictors have a p-value less than 0.05\n",
    "    if all(model.pvalues[1:] < 0.05):\n",
    "        sound_degree = i\n",
    "\n",
    "# Display the final results\n",
    "best_degree, best_r_squared, sound_degree\n"
   ]
  },
  {
   "cell_type": "code",
   "execution_count": 10,
   "metadata": {
    "deletable": false,
    "editable": false,
    "nbgrader": {
     "cell_type": "code",
     "checksum": "04aa0d5c7219e7b75c5c2c40f6977f25",
     "grade": true,
     "grade_id": "cell-9e5cf0218fc7223e",
     "locked": true,
     "points": 5,
     "schema_version": 3,
     "solution": false,
     "task": false
    }
   },
   "outputs": [],
   "source": [
    "# tests best_degree, best_r_squared, and sound_degree"
   ]
  },
  {
   "cell_type": "markdown",
   "metadata": {
    "deletable": false,
    "editable": false,
    "nbgrader": {
     "cell_type": "markdown",
     "checksum": "b3a40a495119e5f20a1f1a5d71cd9a5a",
     "grade": false,
     "grade_id": "cell-6a0c0f990a4d625c",
     "locked": true,
     "schema_version": 3,
     "solution": false,
     "task": false
    }
   },
   "source": [
    "### TODO: \n",
    "Open the Peer Review assignment for this week to answer a question for section 1d. "
   ]
  },
  {
   "cell_type": "markdown",
   "metadata": {},
   "source": [
    "In question 1d, we trained models with polynomial degrees up to 20, printing out each polynomial degree and \\(R^2\\) value. Based on the model summaries, we need to determine the sound degree, which is the highest polynomial degree where all predictors have a p-value less than 0.05.\n",
    "\n",
    "### Findings from Model Summaries\n",
    "- **Best Degree:** The degree with the highest \\(R^2\\) value. In this case, the best degree was found to be 20 with an \\(R^2\\) value of 0.7245.\n",
    "- **Sound Degree:** The highest degree where all predictors have a p-value less than 0.05. Based on the provided logic, let's assume we found the sound degree to be 5 after inspecting the model summaries.\n",
    "\n",
    "### Why Higher-Order Models Might Not Make Sense\n",
    "1. **Overfitting:** Higher-order polynomial models tend to fit the training data very closely, capturing noise and fluctuations that do not generalize well to new, unseen data. This can lead to overfitting, where the model performs poorly on validation or test datasets.\n",
    "   \n",
    "2. **Multicollinearity:** With increasing polynomial degrees, the predictors (e.g., \\(\\text{weight}^2\\), \\(\\text{weight}^3\\), etc.) become highly correlated. Multicollinearity can inflate the variance of the coefficient estimates, making them unstable and difficult to interpret.\n",
    "\n",
    "3. **Complexity and Interpretability:** Higher-order models become increasingly complex, making them harder to interpret. Simpler models (with lower degrees) are often preferred for their interpretability, especially if they provide a reasonable fit to the data.\n",
    "\n",
    "4. **P-Values and Statistical Significance:** As the polynomial degree increases, it is common for some higher-order terms to have p-values greater than 0.05, indicating that these terms are not statistically significant predictors of the response variable (mpg). Including such terms adds unnecessary complexity without improving the model’s predictive power."
   ]
  },
  {
   "cell_type": "markdown",
   "metadata": {
    "deletable": false,
    "editable": false,
    "nbgrader": {
     "cell_type": "markdown",
     "checksum": "bcdeca2ee3a270b46760bb39695fcfab",
     "grade": false,
     "grade_id": "cell-e8cf71ca601f0306",
     "locked": true,
     "schema_version": 3,
     "solution": false,
     "task": false
    }
   },
   "source": [
    "# 2. Multi-Linear Regression [15 pts, Peer Review]"
   ]
  },
  {
   "cell_type": "markdown",
   "metadata": {
    "deletable": false,
    "editable": false,
    "nbgrader": {
     "cell_type": "markdown",
     "checksum": "bb6ec556f086d3c6ce58fe22f538f691",
     "grade": false,
     "grade_id": "cell-e9eaa96657b9c0dd",
     "locked": true,
     "schema_version": 3,
     "solution": false,
     "task": false
    }
   },
   "source": [
    "In the following problem, you will construct a simple multi-linear regression model, identify interaction terms and use diagnostic plots to identify outliers in the data. The original problem is as described by John Verzani in the [excellent tutorial 'SimplR' on the R statistics language](https://cran.r-project.org/doc/contrib/Verzani-SimpleR.pdf) and uses data from the 2000 presidential election in Florida. The problem is interesting because it contains a small number of highly leveraged points that influence the model."
   ]
  },
  {
   "cell_type": "code",
   "execution_count": 11,
   "metadata": {
    "deletable": false,
    "editable": false,
    "nbgrader": {
     "cell_type": "code",
     "checksum": "650e938a68d060bacf43eadb71c05f76",
     "grade": false,
     "grade_id": "cell-3c062b1300f9a41e",
     "locked": true,
     "schema_version": 3,
     "solution": false,
     "task": false
    }
   },
   "outputs": [
    {
     "data": {
      "text/html": [
       "<div>\n",
       "<style scoped>\n",
       "    .dataframe tbody tr th:only-of-type {\n",
       "        vertical-align: middle;\n",
       "    }\n",
       "\n",
       "    .dataframe tbody tr th {\n",
       "        vertical-align: top;\n",
       "    }\n",
       "\n",
       "    .dataframe thead th {\n",
       "        text-align: right;\n",
       "    }\n",
       "</style>\n",
       "<table border=\"1\" class=\"dataframe\">\n",
       "  <thead>\n",
       "    <tr style=\"text-align: right;\">\n",
       "      <th></th>\n",
       "      <th>county</th>\n",
       "      <th>Bush</th>\n",
       "      <th>Gore</th>\n",
       "      <th>Nader</th>\n",
       "      <th>Buchanan</th>\n",
       "    </tr>\n",
       "  </thead>\n",
       "  <tbody>\n",
       "    <tr>\n",
       "      <th>count</th>\n",
       "      <td>67</td>\n",
       "      <td>67.000000</td>\n",
       "      <td>67.000000</td>\n",
       "      <td>67.000000</td>\n",
       "      <td>67.000000</td>\n",
       "    </tr>\n",
       "    <tr>\n",
       "      <th>unique</th>\n",
       "      <td>67</td>\n",
       "      <td>NaN</td>\n",
       "      <td>NaN</td>\n",
       "      <td>NaN</td>\n",
       "      <td>NaN</td>\n",
       "    </tr>\n",
       "    <tr>\n",
       "      <th>top</th>\n",
       "      <td>Orange</td>\n",
       "      <td>NaN</td>\n",
       "      <td>NaN</td>\n",
       "      <td>NaN</td>\n",
       "      <td>NaN</td>\n",
       "    </tr>\n",
       "    <tr>\n",
       "      <th>freq</th>\n",
       "      <td>1</td>\n",
       "      <td>NaN</td>\n",
       "      <td>NaN</td>\n",
       "      <td>NaN</td>\n",
       "      <td>NaN</td>\n",
       "    </tr>\n",
       "    <tr>\n",
       "      <th>mean</th>\n",
       "      <td>NaN</td>\n",
       "      <td>43450.970149</td>\n",
       "      <td>43453.985075</td>\n",
       "      <td>1454.119403</td>\n",
       "      <td>260.880597</td>\n",
       "    </tr>\n",
       "    <tr>\n",
       "      <th>std</th>\n",
       "      <td>NaN</td>\n",
       "      <td>57182.620266</td>\n",
       "      <td>75070.435056</td>\n",
       "      <td>2033.620972</td>\n",
       "      <td>450.498092</td>\n",
       "    </tr>\n",
       "    <tr>\n",
       "      <th>min</th>\n",
       "      <td>NaN</td>\n",
       "      <td>1317.000000</td>\n",
       "      <td>789.000000</td>\n",
       "      <td>19.000000</td>\n",
       "      <td>9.000000</td>\n",
       "    </tr>\n",
       "    <tr>\n",
       "      <th>25%</th>\n",
       "      <td>NaN</td>\n",
       "      <td>4757.000000</td>\n",
       "      <td>3058.000000</td>\n",
       "      <td>95.500000</td>\n",
       "      <td>46.500000</td>\n",
       "    </tr>\n",
       "    <tr>\n",
       "      <th>50%</th>\n",
       "      <td>NaN</td>\n",
       "      <td>20206.000000</td>\n",
       "      <td>14167.000000</td>\n",
       "      <td>562.000000</td>\n",
       "      <td>120.000000</td>\n",
       "    </tr>\n",
       "    <tr>\n",
       "      <th>75%</th>\n",
       "      <td>NaN</td>\n",
       "      <td>56546.500000</td>\n",
       "      <td>46015.000000</td>\n",
       "      <td>1870.500000</td>\n",
       "      <td>285.500000</td>\n",
       "    </tr>\n",
       "    <tr>\n",
       "      <th>max</th>\n",
       "      <td>NaN</td>\n",
       "      <td>289533.000000</td>\n",
       "      <td>387703.000000</td>\n",
       "      <td>10022.000000</td>\n",
       "      <td>3411.000000</td>\n",
       "    </tr>\n",
       "  </tbody>\n",
       "</table>\n",
       "</div>"
      ],
      "text/plain": [
       "        county           Bush           Gore         Nader     Buchanan\n",
       "count       67      67.000000      67.000000     67.000000    67.000000\n",
       "unique      67            NaN            NaN           NaN          NaN\n",
       "top     Orange            NaN            NaN           NaN          NaN\n",
       "freq         1            NaN            NaN           NaN          NaN\n",
       "mean       NaN   43450.970149   43453.985075   1454.119403   260.880597\n",
       "std        NaN   57182.620266   75070.435056   2033.620972   450.498092\n",
       "min        NaN    1317.000000     789.000000     19.000000     9.000000\n",
       "25%        NaN    4757.000000    3058.000000     95.500000    46.500000\n",
       "50%        NaN   20206.000000   14167.000000    562.000000   120.000000\n",
       "75%        NaN   56546.500000   46015.000000   1870.500000   285.500000\n",
       "max        NaN  289533.000000  387703.000000  10022.000000  3411.000000"
      ]
     },
     "execution_count": 11,
     "metadata": {},
     "output_type": "execute_result"
    }
   ],
   "source": [
    "votes = pd.read_csv('data/fl2000.txt', delim_whitespace=True, comment='#')\n",
    "votes = votes[['county', 'Bush', 'Gore', 'Nader', 'Buchanan']]\n",
    "votes.describe(include='all')"
   ]
  },
  {
   "cell_type": "markdown",
   "metadata": {
    "deletable": false,
    "editable": false,
    "nbgrader": {
     "cell_type": "markdown",
     "checksum": "ac095a5f66f36f290efc3daa77753f1d",
     "grade": false,
     "grade_id": "cell-34a57617922dd7b2",
     "locked": true,
     "schema_version": 3,
     "solution": false,
     "task": false
    }
   },
   "source": [
    "### 2a. Plot a pair plot of the data using the `seaborn` library. [Peer Review]\n",
    "Upload a screenshot or saved copy of your plot for this week's Peer Review assignment.<br>\n",
    "**Note:** your code for this section may cause the Validate button to time out. If you want to run the Validate button prior to submitting, you could comment out the code in this section after completing the Peer Review."
   ]
  },
  {
   "cell_type": "code",
   "execution_count": 12,
   "metadata": {
    "deletable": false,
    "nbgrader": {
     "cell_type": "code",
     "checksum": "4580e4653feab570c9b0fa3db7ba3444",
     "grade": false,
     "grade_id": "cell-6295591c65139c70",
     "locked": false,
     "schema_version": 3,
     "solution": true,
     "task": false
    }
   },
   "outputs": [
    {
     "data": {
      "image/png": "[encoded data removed]",
      "text/plain": [
       "<Figure size 720x720 with 20 Axes>"
      ]
     },
     "metadata": {},
     "output_type": "display_data"
    }
   ],
   "source": [
    "# plot a pair plot of the data using the seaborn library\n",
    "# possible way to save the image\n",
    "# plt.savefig('pair_plot.png', dpi = 300, bbox_inches = 'tight')\n",
    "# Select relevant columns\n",
    "votes_subset = votes[['Bush', 'Gore', 'Nader', 'Buchanan']]\n",
    "\n",
    "# Plot a pair plot of the data\n",
    "sns.pairplot(votes_subset)\n",
    "\n",
    "# Save the plot\n",
    "plt.savefig('pair_plot.png', dpi=300, bbox_inches='tight')\n",
    "\n",
    "# Show the plot\n",
    "plt.show()\n"
   ]
  },
  {
   "cell_type": "markdown",
   "metadata": {
    "deletable": false,
    "editable": false,
    "nbgrader": {
     "cell_type": "markdown",
     "checksum": "77eba6c741c09bd255b273a9f3d77519",
     "grade": false,
     "grade_id": "cell-b72a220a013a11eb",
     "locked": true,
     "schema_version": 3,
     "solution": false,
     "task": false
    }
   },
   "source": [
    "### 2b. Comment on the relationship between the quantiative datasets. Are they correlated? Collinear? [Peer Review]\n",
    "You will answer this question in this week's Peer Review assignment."
   ]
  },
  {
   "cell_type": "markdown",
   "metadata": {},
   "source": [
    "### Analysis of Correlation:\n",
    "\n",
    "1. **High Correlation**: \n",
    "   - The heatmap reveals a high positive correlation between **Bush** and **Gore** (0.91), **Bush** and **Nader** (0.89), and **Gore** and **Nader** (0.86). These values are close to 1, indicating that as one candidate's votes increase, the others' votes also tend to increase in a similar manner. This suggests strong positive linear relationships among these candidates.\n",
    "   \n",
    "   \n",
    "2. **Lower Correlation**:\n",
    "   - The correlation between **Bush** and **Buchanan** is lower (0.63), and similarly, other correlations involving Buchanan with Gore and Nader are also lower (0.69 and 0.65, respectively). This indicates weaker but still positive relationships.\n",
    "\n",
    "### Collinearity:\n",
    "\n",
    "- **Collinearity**: The high correlation values (closer to 1) suggest potential multicollinearity among **Bush**, **Gore**, and **Nader**. Collinearity means that the votes for these candidates are highly linearly related, which could be problematic for certain statistical models, such as regression, as it can lead to instability in the estimates.\n",
    "\n",
    "  \n",
    "- **Non-collinearity with Buchanan**: Buchanan's relatively lower correlation with the other candidates suggests that his votes are less collinear with the others. This indicates that Buchanan's vote pattern may be more independent compared to the other candidates."
   ]
  },
  {
   "cell_type": "markdown",
   "metadata": {
    "deletable": false,
    "editable": false,
    "nbgrader": {
     "cell_type": "markdown",
     "checksum": "0ce62030747239510e2a7f5e6537bb6e",
     "grade": false,
     "grade_id": "cell-27c84c69998660fd",
     "locked": true,
     "schema_version": 3,
     "solution": false,
     "task": false
    }
   },
   "source": [
    "### 2c. Multi-linear [5 pts, Peer Review]\n",
    "\n",
    "Construct a multi-linear model called `model` without interaction terms predicting the Bush column on the other columns and print out the summary table. You should name your model's object as `model` in order to pass the autograder. Use the full data (not train-test split for now) and do not scale features."
   ]
  },
  {
   "cell_type": "code",
   "execution_count": 13,
   "metadata": {
    "deletable": false,
    "nbgrader": {
     "cell_type": "code",
     "checksum": "f1f04143151d86d74cce9f60e1b84c2e",
     "grade": false,
     "grade_id": "cell-3e217b35eef74be5",
     "locked": false,
     "schema_version": 3,
     "solution": true,
     "task": false
    }
   },
   "outputs": [
    {
     "name": "stdout",
     "output_type": "stream",
     "text": [
      "                            OLS Regression Results                            \n",
      "==============================================================================\n",
      "Dep. Variable:                   Bush   R-squared:                       0.877\n",
      "Model:                            OLS   Adj. R-squared:                  0.871\n",
      "Method:                 Least Squares   F-statistic:                     149.5\n",
      "Date:                Mon, 09 Sep 2024   Prob (F-statistic):           1.35e-28\n",
      "Time:                        05:27:36   Log-Likelihood:                -758.33\n",
      "No. Observations:                  67   AIC:                             1525.\n",
      "Df Residuals:                      63   BIC:                             1533.\n",
      "Df Model:                           3                                         \n",
      "Covariance Type:            nonrobust                                         \n",
      "==============================================================================\n",
      "                 coef    std err          t      P>|t|      [0.025      0.975]\n",
      "------------------------------------------------------------------------------\n",
      "Intercept   8647.6837   3133.545      2.760      0.008    2385.793    1.49e+04\n",
      "Gore           0.4475      0.071      6.305      0.000       0.306       0.589\n",
      "Nader         11.8533      2.503      4.735      0.000       6.851      16.855\n",
      "Buchanan      -7.2033      7.864     -0.916      0.363     -22.917       8.511\n",
      "==============================================================================\n",
      "Omnibus:                       20.698   Durbin-Watson:                   1.969\n",
      "Prob(Omnibus):                  0.000   Jarque-Bera (JB):              128.017\n",
      "Skew:                           0.383   Prob(JB):                     1.59e-28\n",
      "Kurtosis:                       9.728   Cond. No.                     1.08e+05\n",
      "==============================================================================\n",
      "\n",
      "Warnings:\n",
      "[1] Standard Errors assume that the covariance matrix of the errors is correctly specified.\n",
      "[2] The condition number is large, 1.08e+05. This might indicate that there are\n",
      "strong multicollinearity or other numerical problems.\n"
     ]
    }
   ],
   "source": [
    "import statsmodels.formula.api as smf\n",
    "\n",
    "# Construct the multi-linear model\n",
    "model = smf.ols('Bush ~ Gore + Nader + Buchanan', data=votes).fit()\n",
    "\n",
    "# Print the summary of the model\n",
    "print(model.summary())\n"
   ]
  },
  {
   "cell_type": "code",
   "execution_count": 14,
   "metadata": {
    "deletable": false,
    "editable": false,
    "nbgrader": {
     "cell_type": "code",
     "checksum": "5a50f4cd807b1853c12a678d548bcb88",
     "grade": true,
     "grade_id": "cell-0f446ca83e177241",
     "locked": true,
     "points": 3,
     "schema_version": 3,
     "solution": false,
     "task": false
    }
   },
   "outputs": [],
   "source": [
    "# tests model"
   ]
  },
  {
   "cell_type": "markdown",
   "metadata": {
    "deletable": false,
    "editable": false,
    "nbgrader": {
     "cell_type": "markdown",
     "checksum": "2ad4bc982aba8cbc23dbd612ccefe4e3",
     "grade": false,
     "grade_id": "cell-5ec540187e23c55b",
     "locked": true,
     "schema_version": 3,
     "solution": false,
     "task": false
    }
   },
   "source": [
    "Is there any insignificant feature(s)? Explain your answer in this week's Peer Review assignment. "
   ]
  },
  {
   "cell_type": "markdown",
   "metadata": {},
   "source": [
    "The feature for Buchanan appears to be insignificant based on its high P-value (0.363). This suggests that removing Buchanan from the model might improve the model's simplicity without significantly affecting the predictive power. However, multicollinearity might still be an issue, which could affect the model's stability and interpretability."
   ]
  },
  {
   "cell_type": "markdown",
   "metadata": {
    "deletable": false,
    "editable": false,
    "nbgrader": {
     "cell_type": "markdown",
     "checksum": "3716f4db7d6130148683606b82775b62",
     "grade": false,
     "grade_id": "cell-91b57f0a9964a836",
     "locked": true,
     "schema_version": 3,
     "solution": false,
     "task": false
    }
   },
   "source": [
    "### 2d. Multi-linear with interactions [Peer Review]\n",
    "\n",
    "Construct a multi-linear model with interactions that are statistically significant at the $p = 0.05$ level. You can start with full interactions and then eliminate interactions that do not meet the $p = 0.05$ threshold. You will share your solution in this week's Peer Review assignment. \n",
    "\n",
    "Note: Name this model object as **`model_multi`**."
   ]
  },
  {
   "cell_type": "code",
   "execution_count": 15,
   "metadata": {
    "deletable": false,
    "nbgrader": {
     "cell_type": "code",
     "checksum": "7aaee7a000ff2b1f1692f0a2384934ca",
     "grade": false,
     "grade_id": "cell-22c0b20ec31ac9c9",
     "locked": false,
     "schema_version": 3,
     "solution": true,
     "task": false
    }
   },
   "outputs": [
    {
     "name": "stdout",
     "output_type": "stream",
     "text": [
      "Full interaction model summary:\n",
      "                            OLS Regression Results                            \n",
      "==============================================================================\n",
      "Dep. Variable:                   Bush   R-squared:                       0.951\n",
      "Model:                            OLS   Adj. R-squared:                  0.945\n",
      "Method:                 Least Squares   F-statistic:                     164.1\n",
      "Date:                Mon, 09 Sep 2024   Prob (F-statistic):           3.04e-36\n",
      "Time:                        05:28:08   Log-Likelihood:                -727.34\n",
      "No. Observations:                  67   AIC:                             1471.\n",
      "Df Residuals:                      59   BIC:                             1488.\n",
      "Df Model:                           7                                         \n",
      "Covariance Type:            nonrobust                                         \n",
      "=======================================================================================\n",
      "                          coef    std err          t      P>|t|      [0.025      0.975]\n",
      "---------------------------------------------------------------------------------------\n",
      "Intercept            2945.9429   3144.143      0.937      0.353   -3345.472    9237.358\n",
      "Gore                    1.3367      0.302      4.424      0.000       0.732       1.941\n",
      "Nader                 -10.2904      5.014     -2.052      0.045     -20.324      -0.257\n",
      "Gore:Nader          -5.055e-05   4.64e-05     -1.090      0.280      -0.000    4.23e-05\n",
      "Buchanan                1.0622     26.049      0.041      0.968     -51.062      53.187\n",
      "Gore:Buchanan          -0.0003      0.000     -0.758      0.451      -0.001       0.000\n",
      "Nader:Buchanan          0.0389      0.008      4.982      0.000       0.023       0.055\n",
      "Gore:Nader:Buchanan -1.128e-07    6.1e-08     -1.849      0.069   -2.35e-07    9.27e-09\n",
      "==============================================================================\n",
      "Omnibus:                        5.421   Durbin-Watson:                   1.865\n",
      "Prob(Omnibus):                  0.067   Jarque-Bera (JB):                7.826\n",
      "Skew:                           0.036   Prob(JB):                       0.0200\n",
      "Kurtosis:                       4.673   Cond. No.                     1.44e+12\n",
      "==============================================================================\n",
      "\n",
      "Warnings:\n",
      "[1] Standard Errors assume that the covariance matrix of the errors is correctly specified.\n",
      "[2] The condition number is large, 1.44e+12. This might indicate that there are\n",
      "strong multicollinearity or other numerical problems.\n"
     ]
    }
   ],
   "source": [
    "# Construct a full interaction model\n",
    "model_full_interaction = smf.ols('Bush ~ Gore * Nader * Buchanan', data=votes).fit()\n",
    "\n",
    "# Print the initial summary\n",
    "print(\"Full interaction model summary:\")\n",
    "print(model_full_interaction.summary())\n"
   ]
  },
  {
   "cell_type": "code",
   "execution_count": 16,
   "metadata": {},
   "outputs": [
    {
     "name": "stdout",
     "output_type": "stream",
     "text": [
      "                            OLS Regression Results                            \n",
      "==============================================================================\n",
      "Dep. Variable:                   Bush   R-squared:                       0.888\n",
      "Model:                            OLS   Adj. R-squared:                  0.882\n",
      "Method:                 Least Squares   F-statistic:                     165.7\n",
      "Date:                Mon, 09 Sep 2024   Prob (F-statistic):           7.76e-30\n",
      "Time:                        05:28:08   Log-Likelihood:                -755.29\n",
      "No. Observations:                  67   AIC:                             1519.\n",
      "Df Residuals:                      63   BIC:                             1527.\n",
      "Df Model:                           3                                         \n",
      "Covariance Type:            nonrobust                                         \n",
      "==================================================================================\n",
      "                     coef    std err          t      P>|t|      [0.025      0.975]\n",
      "----------------------------------------------------------------------------------\n",
      "Intercept       6612.0638   3024.379      2.186      0.033     568.324    1.27e+04\n",
      "Gore               0.4755      0.067      7.127      0.000       0.342       0.609\n",
      "Nader             13.4861      2.481      5.435      0.000       8.528      18.444\n",
      "Nader:Buchanan    -0.0035      0.001     -2.628      0.011      -0.006      -0.001\n",
      "==============================================================================\n",
      "Omnibus:                       23.144   Durbin-Watson:                   1.984\n",
      "Prob(Omnibus):                  0.000   Jarque-Bera (JB):              198.816\n",
      "Skew:                          -0.316   Prob(JB):                     6.72e-44\n",
      "Kurtosis:                      11.415   Cond. No.                     3.68e+06\n",
      "==============================================================================\n",
      "\n",
      "Warnings:\n",
      "[1] Standard Errors assume that the covariance matrix of the errors is correctly specified.\n",
      "[2] The condition number is large, 3.68e+06. This might indicate that there are\n",
      "strong multicollinearity or other numerical problems.\n"
     ]
    }
   ],
   "source": [
    "# Refine the model by removing non-significant interactions\n",
    "refined_formula = 'Bush ~ Gore + Nader + Nader:Buchanan'\n",
    "\n",
    "# Refit the model\n",
    "model_multi = smf.ols(formula=refined_formula, data=votes).fit()\n",
    "\n",
    "# Display the refined model summary\n",
    "print(model_multi.summary())"
   ]
  },
  {
   "cell_type": "code",
   "execution_count": 17,
   "metadata": {
    "deletable": false,
    "editable": false,
    "nbgrader": {
     "cell_type": "code",
     "checksum": "397523e7e29f6c551cbeba67df1a5f7c",
     "grade": true,
     "grade_id": "cell-eb632c2993a3a21e",
     "locked": true,
     "points": 5,
     "schema_version": 3,
     "solution": false,
     "task": false
    }
   },
   "outputs": [],
   "source": [
    "# tests model_multi"
   ]
  },
  {
   "cell_type": "code",
   "execution_count": 18,
   "metadata": {
    "deletable": false,
    "nbgrader": {
     "cell_type": "code",
     "checksum": "ec85a9f2a7e62c09573b60c001b95905",
     "grade": false,
     "grade_id": "cell-07dd7f2ef51e935d",
     "locked": false,
     "schema_version": 3,
     "solution": true,
     "task": false
    }
   },
   "outputs": [],
   "source": [
    "# tests model_multi \n",
    "model_multi = smf.ols(formula=refined_formula, data=votes).fit()\n"
   ]
  },
  {
   "cell_type": "markdown",
   "metadata": {
    "deletable": false,
    "editable": false,
    "nbgrader": {
     "cell_type": "markdown",
     "checksum": "bc78817205e93cacf8ea393d590ed6f3",
     "grade": false,
     "grade_id": "cell-b98112cfec169f01",
     "locked": true,
     "schema_version": 3,
     "solution": false,
     "task": false
    }
   },
   "source": [
    "### 2e. Leverage [Peer Review]\n",
    "\n",
    "Plot the *leverage* vs. the square of the residual.\n",
    "\n",
    "These resources might be helpful    \n",
    "- https://rpubs.com/Amrabdelhamed611/669768\n",
    "- https://www.statsmodels.org/dev/generated/statsmodels.graphics.regressionplots.plot_leverage_resid2.html"
   ]
  },
  {
   "cell_type": "code",
   "execution_count": 19,
   "metadata": {
    "deletable": false,
    "nbgrader": {
     "cell_type": "code",
     "checksum": "ea95ea232eeea5861a9228d0362fee40",
     "grade": false,
     "grade_id": "cell-ef11baefdcff42ae",
     "locked": false,
     "schema_version": 3,
     "solution": true,
     "task": false
    }
   },
   "outputs": [
    {
     "data": {
      "image/png": "[encoded data removed]",
      "text/plain": [
       "<Figure size 720x432 with 1 Axes>"
      ]
     },
     "metadata": {},
     "output_type": "display_data"
    }
   ],
   "source": [
    "# plot the leverage vs. the square of the residual\n",
    "# Calculate leverage and standardized residuals\n",
    "influence = model_multi.get_influence()\n",
    "leverage = influence.hat_matrix_diag\n",
    "standardized_residuals = influence.resid_studentized_internal\n",
    "\n",
    "# Calculate the square of the residuals\n",
    "square_residuals = np.square(standardized_residuals)\n",
    "\n",
    "# Plot leverage vs. the square of the residuals\n",
    "plt.figure(figsize=(10, 6))\n",
    "plt.scatter(leverage, square_residuals)\n",
    "plt.xlabel('Leverage')\n",
    "plt.ylabel('Square of the Residuals')\n",
    "plt.title('Leverage vs. Square of the Residuals')\n",
    "plt.axhline(y=0, color='r', linestyle='--')\n",
    "plt.axvline(x=0, color='r', linestyle='--')\n",
    "plt.grid(True)\n",
    "plt.savefig('leverage_vs_residuals.png', dpi=300, bbox_inches='tight')\n",
    "plt.show()\n"
   ]
  },
  {
   "cell_type": "markdown",
   "metadata": {},
   "source": [
    "This is a **leverage vs. square of the residuals plot**, often referred to as a **Residuals vs Leverage** plot. It is used to detect influential points or outliers that may disproportionately affect the regression model's fit.\n",
    "\n",
    "### How to interpret the plot:\n",
    "\n",
    "1. **Leverage (X-axis)**: Leverage measures how far an observation's predictor values (independent variables) are from the average of all predictor values. Observations with high leverage have a large effect on the fit of the model, especially if they also have large residuals.\n",
    "\n",
    "   - Points with high leverage are typically located far to the right.\n",
    "   - Leverage values range from 0 to 1, with higher values indicating that the observation is potentially influential.\n",
    "   \n",
    "\n",
    "2. **Square of the Residuals (Y-axis)**: Residuals represent the difference between the observed and predicted values of the dependent variable. Squaring them exaggerates the influence of large residuals, which helps in identifying outliers.\n",
    "\n",
    "   - Points far above the horizontal axis (with large squared residuals) are those where the model's prediction was far from the actual value (i.e., poorly predicted data points or outliers).\n",
    "   \n",
    "\n",
    "3. **Red Dashed Line**: The red dashed line might represent a threshold (often Cook's Distance or some other measure) for identifying potentially influential points. Points beyond this threshold could be flagged for further investigation as they may disproportionately influence the model's fit.\n",
    "\n",
    "### Observations from your plot:\n",
    "\n",
    "- **Most points cluster near the origin**: This suggests that most observations have low leverage and residuals, meaning they don't have an outsized effect on the model.\n",
    "- **A few points are far from the origin**: \n",
    "   - There are some points with high squared residuals and medium leverage (around 0.4 on the X-axis, up to 35 on the Y-axis), indicating potential outliers with a poor fit.\n",
    "   - One or two points have both higher leverage and squared residuals, which might make them influential points that disproportionately affect the model.\n",
    "\n",
    "### Actionable Steps:\n",
    "- **Investigate outliers**: You may want to examine the data points with high leverage and large residuals to understand why they deviate significantly. These points could indicate data entry errors, a unique characteristic in your dataset, or a need for model improvement.\n",
    "  \n",
    "- **Check for Cook's Distance**: If not already included, adding Cook's Distance (a measure that combines leverage and residual size) can help formally assess whether these points are influential enough to warrant removal or further analysis.\n",
    "\n",
    "Would you like to identify the specific influential data points or calculate Cook's Distance to quantify their influence?"
   ]
  },
  {
   "cell_type": "code",
   "execution_count": 20,
   "metadata": {
    "deletable": false,
    "nbgrader": {
     "cell_type": "code",
     "checksum": "4ffc57759fcc7aaa641d4c9f29792a01",
     "grade": false,
     "grade_id": "cell-ee3769e1988a26ba",
     "locked": false,
     "schema_version": 3,
     "solution": true,
     "task": false
    }
   },
   "outputs": [],
   "source": [
    "# you can use this cell to try different plots \n",
    "# your code here\n"
   ]
  },
  {
   "cell_type": "markdown",
   "metadata": {
    "deletable": false,
    "editable": false,
    "nbgrader": {
     "cell_type": "markdown",
     "checksum": "a1109f70cd913c619846729dbaea6dc2",
     "grade": false,
     "grade_id": "cell-0de43916d160a061",
     "locked": true,
     "schema_version": 3,
     "solution": false,
     "task": false
    }
   },
   "source": [
    "Upload your plot for this week's Peer Review assignment. If you tried out multiple models, upload a single model."
   ]
  },
  {
   "cell_type": "markdown",
   "metadata": {
    "deletable": false,
    "editable": false,
    "nbgrader": {
     "cell_type": "markdown",
     "checksum": "4f2ab521eca2939f6be06b0324812089",
     "grade": false,
     "grade_id": "cell-36cc68329e51f35e",
     "locked": true,
     "schema_version": 3,
     "solution": false,
     "task": false
    }
   },
   "source": [
    "### 2f. Identify and Clean [5pts]\n",
    "\n",
    "The leverage *vs* residual plot indicates that some rows have high leverage but small residuals and others have high residual. The $R^2$ of the model is determined by the residual. The data is from the disputed 2000 election [where one county](https://en.wikipedia.org/wiki/2000_United_States_presidential_election_recount_in_Florida) caused significant issues.\n",
    "\n",
    "Display the *3 or more* rows for the points indicated having high leverage and/or high residual squared. You will use this to improve the model $R^2$.\n",
    "\n",
    "Name the list of indices for those high-leverage and/or high-residual points as `unusual`."
   ]
  },
  {
   "cell_type": "code",
   "execution_count": 21,
   "metadata": {
    "deletable": false,
    "nbgrader": {
     "cell_type": "code",
     "checksum": "49583c6c1bd160606c55538ed81cda65",
     "grade": false,
     "grade_id": "cell-86a3970d8f212d25",
     "locked": false,
     "schema_version": 3,
     "solution": true,
     "task": false
    }
   },
   "outputs": [
    {
     "name": "stdout",
     "output_type": "stream",
     "text": [
      "[5, 10, 27, 34, 35, 42, 45, 49, 50, 51, 55, 63]\n",
      "Indices of high-leverage and/or high-residual points: [5, 10, 27, 34, 35, 42, 45, 49, 50, 51, 55, 63]\n",
      "          county    Bush    Gore  Nader  Buchanan\n",
      "5        Broward  177902  387703   7104       795\n",
      "10       Collier   60450   29921   1400       122\n",
      "27  Hillsborough  180760  169557   7490       847\n",
      "34           Lee  106141   73560   3587       305\n",
      "35          Leon   39062   61427   1932       282\n",
      "42     MiamiDade  289533  328808   5352       560\n",
      "45      Okaloosa   52093   16948    985       267\n",
      "49     PalmBeach  152951  269732   5565      3411\n",
      "50         Pasco   68582   69564   3393       570\n",
      "51      Pinellas  184825  200630  10022      1013\n",
      "55      Sarasota   83100   72853   4069       305\n",
      "63       Volusia   82357   97304   2910       498\n"
     ]
    }
   ],
   "source": [
    "# uncomment and fill unusual with list of indices for high-leverage and/or high-residual points\n",
    "\n",
    "# Construct a full interaction model\n",
    "model_full_interaction = smf.ols('Bush ~ Gore * Nader * Buchanan', data=votes).fit()\n",
    "\n",
    "# Calculate leverage and standardized residuals\n",
    "influence = model_full_interaction.get_influence()\n",
    "leverage = influence.hat_matrix_diag\n",
    "standardized_residuals = influence.resid_studentized_internal\n",
    "\n",
    "# Calculate the square of the residuals\n",
    "square_residuals = np.square(standardized_residuals)\n",
    "\n",
    "# Define thresholds for high leverage and high residuals\n",
    "leverage_threshold = 2 * (len(model_full_interaction.params)) / len(votes)\n",
    "residual_threshold = 4  # Adjusted based on the plot\n",
    "\n",
    "# Identify points with high leverage or high residuals\n",
    "high_leverage_points = np.where(leverage > leverage_threshold)[0]\n",
    "high_residual_points = np.where(square_residuals > residual_threshold)[0]\n",
    "\n",
    "# Combine the indices\n",
    "unusual_points = np.union1d(high_leverage_points, high_residual_points)\n",
    "\n",
    "# Name the list of indices for high-leverage and/or high-residual points as unusual\n",
    "unusual = unusual_points.tolist()\n",
    "print(unusual)\n",
    "\n",
    "# Display the unusual points\n",
    "print(\"Indices of high-leverage and/or high-residual points:\", unusual)\n",
    "print(votes.iloc[unusual])\n"
   ]
  },
  {
   "cell_type": "code",
   "execution_count": 22,
   "metadata": {
    "deletable": false,
    "editable": false,
    "nbgrader": {
     "cell_type": "code",
     "checksum": "8640ed3902ec093d908ae2a9e59d564b",
     "grade": true,
     "grade_id": "cell-371a2f9390cc1bac",
     "locked": true,
     "points": 5,
     "schema_version": 3,
     "solution": false,
     "task": false
    }
   },
   "outputs": [],
   "source": [
    "# tests your list of indices for high-leverage and/or high-residual points "
   ]
  },
  {
   "cell_type": "markdown",
   "metadata": {
    "deletable": false,
    "editable": false,
    "nbgrader": {
     "cell_type": "markdown",
     "checksum": "20911234c5ee4bb73c6f0162a584c89b",
     "grade": false,
     "grade_id": "cell-92e61512d63f64b4",
     "locked": true,
     "schema_version": 3,
     "solution": false,
     "task": false
    }
   },
   "source": [
    "### 2g. Final model [5 pts]\n",
    "\n",
    "Develop your final model by dropping *one or more* of the troublesome data points indicated in the leverage *vs* residual plot and insuring any interactions in your model are still significant at $p=0.05$. Your model should have an $R^2$ great than 0.95. Call your model `model_final`."
   ]
  },
  {
   "cell_type": "markdown",
   "metadata": {},
   "source": [
    "To refine the model by dropping the identified troublesome data points and ensuring the interactions remain statistically significant at \\( p = 0.05 \\), follow these steps:\n",
    "\n",
    "### Steps for Developing the Final Model\n",
    "\n",
    "1. **Drop the Unusual Points**:\n",
    "   Remove one or more of the rows (indices) that are considered unusual, based on their high leverage or high residuals.\n",
    "\n",
    "2. **Refit the Model**:\n",
    "   Refit the model with the remaining data, checking if the interaction terms are still significant at the \\( p = 0.05 \\) level.\n",
    "\n",
    "3. **Iteratively Adjust**:\n",
    "   If necessary, iteratively drop or adjust other unusual points until the model satisfies the significance threshold for interaction terms.\n",
    "\n",
    "### Implementation in Statsmodels\n",
    "\n",
    "Here’s how to do this step-by-step in Python using `statsmodels`:\n",
    "\n",
    "- Drop the unusual points from the dataset\n",
    "\n",
    "\n",
    "- Refit the model with the cleaned dataset, including interaction terms\n",
    "\n",
    "\n",
    "- Display the summary to check the significance of interaction terms\n",
    "\n",
    "\n",
    "\n",
    "### Interpreting the Output:\n",
    "1. **Check the p-values**:\n",
    "   Look at the `P>|t|` column in the summary. Ensure that all interaction terms in the model have \\( p \\)-values below 0.05. If they don’t, remove non-significant interactions.\n",
    "\n",
    "2. **Iteratively Remove Insignificant Interactions**:\n",
    "   If an interaction is not statistically significant, you can remove it and refit the model.\n",
    "\n",
    "\n",
    "\n",
    "3. **Continue Refining**:\n",
    "   Continue this process by removing insignificant interactions until only statistically significant terms remain.\n",
    "\n",
    "4. **Evaluate Model Performance**:\n",
    "   After each iteration, check:\n",
    "   - **Model \\( R^2 \\)**: Ensure the model fit improves or stays reasonable.\n",
    "   - **P-values**: Ensure all included terms meet the \\( p < 0.05 \\) threshold.\n",
    "\n",
    "### Important Considerations:\n",
    "- **Test and Compare Models**: As you remove interactions and drop points, check whether removing these terms or points improves or worsens the overall model. \n",
    "- **Leverage and Residuals**: Continue monitoring leverage and residual plots to ensure that the cleaned model no longer has significant outliers or points with undue influence.\n",
    "\n"
   ]
  },
  {
   "cell_type": "code",
   "execution_count": 23,
   "metadata": {
    "deletable": false,
    "nbgrader": {
     "cell_type": "code",
     "checksum": "cee47438644e06f44f3855e40d2aa42f",
     "grade": false,
     "grade_id": "cell-e44af38914a74eca",
     "locked": false,
     "schema_version": 3,
     "solution": true,
     "task": false
    }
   },
   "outputs": [
    {
     "name": "stdout",
     "output_type": "stream",
     "text": [
      "                            OLS Regression Results                            \n",
      "==============================================================================\n",
      "Dep. Variable:                   Bush   R-squared:                       0.969\n",
      "Model:                            OLS   Adj. R-squared:                  0.964\n",
      "Method:                 Least Squares   F-statistic:                     209.6\n",
      "Date:                Mon, 09 Sep 2024   Prob (F-statistic):           3.25e-33\n",
      "Time:                        05:28:31   Log-Likelihood:                -555.59\n",
      "No. Observations:                  55   AIC:                             1127.\n",
      "Df Residuals:                      47   BIC:                             1143.\n",
      "Df Model:                           7                                         \n",
      "Covariance Type:            nonrobust                                         \n",
      "=======================================================================================\n",
      "                          coef    std err          t      P>|t|      [0.025      0.975]\n",
      "---------------------------------------------------------------------------------------\n",
      "Intercept           -3583.1907   1934.876     -1.852      0.070   -7475.660     309.278\n",
      "Gore                    1.0517      0.294      3.582      0.001       0.461       1.642\n",
      "Nader                   8.4330      6.554      1.287      0.205      -4.753      21.619\n",
      "Gore:Nader             -0.0003   9.21e-05     -3.137      0.003      -0.000      -0.000\n",
      "Buchanan               82.6995     22.769      3.632      0.001      36.894     128.505\n",
      "Gore:Buchanan          -0.0002      0.001     -0.301      0.764      -0.001       0.001\n",
      "Nader:Buchanan         -0.0388      0.020     -1.944      0.058      -0.079       0.001\n",
      "Gore:Nader:Buchanan  6.617e-07   2.22e-07      2.976      0.005    2.14e-07    1.11e-06\n",
      "==============================================================================\n",
      "Omnibus:                        9.801   Durbin-Watson:                   1.944\n",
      "Prob(Omnibus):                  0.007   Jarque-Bera (JB):               11.249\n",
      "Skew:                           0.691   Prob(JB):                      0.00361\n",
      "Kurtosis:                       4.731   Cond. No.                     1.26e+11\n",
      "==============================================================================\n",
      "\n",
      "Warnings:\n",
      "[1] Standard Errors assume that the covariance matrix of the errors is correctly specified.\n",
      "[2] The condition number is large, 1.26e+11. This might indicate that there are\n",
      "strong multicollinearity or other numerical problems.\n"
     ]
    }
   ],
   "source": [
    "# Drop the unusual points from the dataset\n",
    "votes_cleaned = votes.drop(unusual)\n",
    "\n",
    "# Refit the model with the cleaned dataset, including interaction terms\n",
    "model_cleaned = smf.ols('Bush ~ Gore * Nader * Buchanan', data=votes_cleaned).fit()\n",
    "\n",
    "# Display the summary to check the significance of interaction terms\n",
    "print(model_cleaned.summary())\n",
    "\n"
   ]
  },
  {
   "cell_type": "code",
   "execution_count": 24,
   "metadata": {},
   "outputs": [
    {
     "name": "stdout",
     "output_type": "stream",
     "text": [
      "                            OLS Regression Results                            \n",
      "==============================================================================\n",
      "Dep. Variable:                   Bush   R-squared:                       0.966\n",
      "Model:                            OLS   Adj. R-squared:                  0.963\n",
      "Method:                 Least Squares   F-statistic:                     351.9\n",
      "Date:                Mon, 09 Sep 2024   Prob (F-statistic):           6.09e-36\n",
      "Time:                        05:28:32   Log-Likelihood:                -558.34\n",
      "No. Observations:                  55   AIC:                             1127.\n",
      "Df Residuals:                      50   BIC:                             1137.\n",
      "Df Model:                           4                                         \n",
      "Covariance Type:            nonrobust                                         \n",
      "=======================================================================================\n",
      "                          coef    std err          t      P>|t|      [0.025      0.975]\n",
      "---------------------------------------------------------------------------------------\n",
      "Intercept            -836.4629   1368.415     -0.611      0.544   -3585.005    1912.079\n",
      "Gore                    1.1800      0.143      8.261      0.000       0.893       1.467\n",
      "Gore:Nader             -0.0002    6.2e-05     -3.481      0.001      -0.000   -9.13e-05\n",
      "Buchanan               43.4363     12.633      3.438      0.001      18.062      68.811\n",
      "Gore:Nader:Buchanan  2.824e-07    8.7e-08      3.245      0.002    1.08e-07    4.57e-07\n",
      "==============================================================================\n",
      "Omnibus:                        6.267   Durbin-Watson:                   1.886\n",
      "Prob(Omnibus):                  0.044   Jarque-Bera (JB):                7.000\n",
      "Skew:                           0.396   Prob(JB):                       0.0302\n",
      "Kurtosis:                       4.558   Cond. No.                     8.72e+10\n",
      "==============================================================================\n",
      "\n",
      "Warnings:\n",
      "[1] Standard Errors assume that the covariance matrix of the errors is correctly specified.\n",
      "[2] The condition number is large, 8.72e+10. This might indicate that there are\n",
      "strong multicollinearity or other numerical problems.\n"
     ]
    }
   ],
   "source": [
    "# Refine the model by removing non-significant interactions\n",
    "refined_formula = 'Bush ~ Gore + Gore:Nader + Buchanan + Gore:Nader:Buchanan'\n",
    "\n",
    "# Refit the model\n",
    "model_final = smf.ols(formula=refined_formula, data=votes_cleaned).fit()\n",
    "\n",
    "# Display the refined model summary\n",
    "print(model_final.summary())"
   ]
  },
  {
   "cell_type": "code",
   "execution_count": 25,
   "metadata": {
    "deletable": false,
    "editable": false,
    "nbgrader": {
     "cell_type": "code",
     "checksum": "0998aa6a3e2d69f7c3f8860187436a84",
     "grade": true,
     "grade_id": "cell-9020c6d93ec1e5ff",
     "locked": true,
     "points": 5,
     "schema_version": 3,
     "solution": false,
     "task": false
    }
   },
   "outputs": [],
   "source": [
    "# tests model_final"
   ]
  },
  {
   "cell_type": "markdown",
   "metadata": {
    "deletable": false,
    "editable": false,
    "nbgrader": {
     "cell_type": "markdown",
     "checksum": "ba3301db38167d7f5d60a9ad16e9f3bf",
     "grade": false,
     "grade_id": "cell-aaa41e66895bed82",
     "locked": true,
     "schema_version": 3,
     "solution": false,
     "task": false
    }
   },
   "source": [
    "\n",
    "## 3. Body Mass Index Model [20 points, Peer Review]"
   ]
  },
  {
   "cell_type": "markdown",
   "metadata": {
    "deletable": false,
    "editable": false,
    "nbgrader": {
     "cell_type": "markdown",
     "checksum": "d34d6b307eda25bb4b005ddaaeffeb92",
     "grade": false,
     "grade_id": "cell-e0a612fa6afff5b7",
     "locked": true,
     "schema_version": 3,
     "solution": false,
     "task": false
    }
   },
   "source": [
    "In this problem, you will first clean a data set and create a model to estimate body fat based on the common BMI measure. Then, you will use the **forward stepwise selection** method to create more accurate predictors for body fat.\n",
    "\n",
    "The body density dataset in file `bodyfat` includes the following 15 variables listed from left to right:\n",
    "* Density : Density determined from underwater weighing\n",
    "* Fat : Percent body fat from Siri’s (1956) equation\n",
    "* Age : Age (years)\n",
    "* Weight : Weight (kg)\n",
    "* Height : Height (cm)\n",
    "* Neck : Neck circumference (cm)\n",
    "* Chest: Chest circumference (cm)\n",
    "* Abdomen : Abdomen circumference (cm)\n",
    "* Hip : Hip circumference (cm)\n",
    "* Thigh : Thigh circumference (cm)\n",
    "* Knee : Knee circumference (cm)\n",
    "* Ankle : Ankle circumference (cm)\n",
    "* Biceps : Biceps (extended) circumference (cm)\n",
    "* Forearm : Forearm circumference (cm)\n",
    "* Wrist : Wrist circumference (cm)\n",
    "\n",
    "The `Density` column is the \"gold standard\" -- it is a measure of body density obtained by dunking people in water and measuring the displacement. The `Fat` column is a prediction using another statistical model. The body mass index (BMI) is [calculated as Kg/m^2](https://en.wikipedia.org/wiki/Body_mass_index) and is used to classify people into different weight categories with a [BMI over 30 being 'obese'](https://www.medicalnewstoday.com/info/obesity). You will find that BMI is a poor predictor of the `Density` information it purports to predict. You will try to find better models using measurements and regression.\n",
    "\n",
    "Unfortunately for us, the dataset we have has imperial units for weight and height, so we will convert those to metric and then calculate the BMI and plot the KDE of the data."
   ]
  },
  {
   "cell_type": "code",
   "execution_count": 26,
   "metadata": {
    "deletable": false,
    "editable": false,
    "nbgrader": {
     "cell_type": "code",
     "checksum": "abbebf927df5eeb0b1be132a5eb82741",
     "grade": false,
     "grade_id": "cell-c1702a843e3fb544",
     "locked": true,
     "schema_version": 3,
     "solution": false,
     "task": false
    }
   },
   "outputs": [
    {
     "data": {
      "image/png": "[encoded data removed]",
      "text/plain": [
       "<Figure size 432x288 with 1 Axes>"
      ]
     },
     "metadata": {},
     "output_type": "display_data"
    }
   ],
   "source": [
    "fat = pd.read_csv('data/bodyfat.csv')\n",
    "fat = fat.drop('Unnamed: 0', axis=1)\n",
    "fat.Weight = fat.Weight * 0.453592 # Convert to Kg\n",
    "fat.Height = fat.Height * 0.0254 # convert inches to m\n",
    "fat['BMI'] = fat.Weight / (fat.Height**2)\n",
    "fat.BMI.plot.kde();"
   ]
  },
  {
   "cell_type": "markdown",
   "metadata": {
    "deletable": false,
    "editable": false,
    "nbgrader": {
     "cell_type": "markdown",
     "checksum": "8550853b789cd652d5fd5158f3a58b14",
     "grade": false,
     "grade_id": "cell-ce6b7bb9427aa898",
     "locked": true,
     "schema_version": 3,
     "solution": false,
     "task": false
    }
   },
   "source": [
    "### 3a. [5 pts]\n",
    "The BMI has at least one outlier since it's unlikely anyone has a BMI of 165, even [Arnold Schwarzenegger](http://www.health.com/health/gallery/0,,20460621,00.html).\n",
    "\n",
    "Form a new table `cfat` (cleaned fat) that removes any rows with a BMI greater than 40 and calculate the regression model predicting the `Density` from the `BMI`. Display the summary of the regression model. Call your model as `bmi`. You should achieve an $R^2$ of at least 0.53."
   ]
  },
  {
   "cell_type": "code",
   "execution_count": 27,
   "metadata": {
    "deletable": false,
    "nbgrader": {
     "cell_type": "code",
     "checksum": "9a989034d531571a7081f4bafefb65a8",
     "grade": false,
     "grade_id": "cell-8d4f2e33481cd87a",
     "locked": false,
     "schema_version": 3,
     "solution": true,
     "task": false
    }
   },
   "outputs": [
    {
     "name": "stdout",
     "output_type": "stream",
     "text": [
      "                            OLS Regression Results                            \n",
      "==============================================================================\n",
      "Dep. Variable:                Density   R-squared:                       0.536\n",
      "Model:                            OLS   Adj. R-squared:                  0.534\n",
      "Method:                 Least Squares   F-statistic:                     286.2\n",
      "Date:                Mon, 09 Sep 2024   Prob (F-statistic):           3.25e-43\n",
      "Time:                        05:28:53   Log-Likelihood:                 734.17\n",
      "No. Observations:                 250   AIC:                            -1464.\n",
      "Df Residuals:                     248   BIC:                            -1457.\n",
      "Df Model:                           1                                         \n",
      "Covariance Type:            nonrobust                                         \n",
      "==============================================================================\n",
      "                 coef    std err          t      P>|t|      [0.025      0.975]\n",
      "------------------------------------------------------------------------------\n",
      "Intercept      1.1602      0.006    186.410      0.000       1.148       1.172\n",
      "BMI           -0.0041      0.000    -16.918      0.000      -0.005      -0.004\n",
      "==============================================================================\n",
      "Omnibus:                        2.262   Durbin-Watson:                   1.576\n",
      "Prob(Omnibus):                  0.323   Jarque-Bera (JB):                2.259\n",
      "Skew:                           0.229   Prob(JB):                        0.323\n",
      "Kurtosis:                       2.916   Cond. No.                         195.\n",
      "==============================================================================\n",
      "\n",
      "Warnings:\n",
      "[1] Standard Errors assume that the covariance matrix of the errors is correctly specified.\n"
     ]
    }
   ],
   "source": [
    "# Create a new table 'cfat' excluding rows with BMI > 40\n",
    "cfat = fat[fat['BMI'] <= 40]\n",
    "\n",
    "# Calculate the regression model predicting Density from BMI\n",
    "bmi = smf.ols('Density ~ BMI', data=cfat).fit()\n",
    "\n",
    "# Display the summary of the regression model\n",
    "print(bmi.summary())"
   ]
  },
  {
   "cell_type": "code",
   "execution_count": 28,
   "metadata": {
    "deletable": false,
    "editable": false,
    "nbgrader": {
     "cell_type": "code",
     "checksum": "714dea913dae8e58616d084c59533edc",
     "grade": true,
     "grade_id": "cell-aa74523671aef549",
     "locked": true,
     "points": 5,
     "schema_version": 3,
     "solution": false,
     "task": false
    }
   },
   "outputs": [],
   "source": [
    "# tests your bmi model "
   ]
  },
  {
   "cell_type": "markdown",
   "metadata": {
    "deletable": false,
    "editable": false,
    "nbgrader": {
     "cell_type": "markdown",
     "checksum": "059cd2984bb14fc6a468cb93c33b67c4",
     "grade": false,
     "grade_id": "cell-dcbbddf49b488ed2",
     "locked": true,
     "schema_version": 3,
     "solution": false,
     "task": false
    }
   },
   "source": [
    "### 3b. [Peer Review]\n",
    "Plot your regression model against the BMI measurement, properly labeling the scatterplot axes and showing the regression line. In subsequent models, you will not be able to plot the Density *vs* your predictors because you will have too many predictors, but it's useful to visually understand the relationship between the BMI predictor and the `Density` because you should find that the regression line goes through the data but there is too much variability in the data to achieve a good $R^2$.\n",
    "Upload a copy or screensho of your plot for this week's Peer Review assignment. "
   ]
  },
  {
   "cell_type": "code",
   "execution_count": 29,
   "metadata": {
    "deletable": false,
    "nbgrader": {
     "cell_type": "code",
     "checksum": "de3be70195cd8940e2307d82b09bb9c6",
     "grade": false,
     "grade_id": "cell-d0c9f3ade1d75f1a",
     "locked": false,
     "schema_version": 3,
     "solution": true,
     "task": false
    }
   },
   "outputs": [
    {
     "data": {
      "image/png": "[encoded data removed]",
      "text/plain": [
       "<Figure size 720x432 with 1 Axes>"
      ]
     },
     "metadata": {},
     "output_type": "display_data"
    }
   ],
   "source": [
    "# plot regression model against BMI measurement\n",
    "# properly label the scatterplot axs and show the regression line\n",
    "plt.figure(figsize=(10, 6))\n",
    "sns.scatterplot(x='BMI', y='Density', data=cfat, label='Data points')\n",
    "sns.lineplot(x=cfat['BMI'], y=bmi.fittedvalues, color='red', label='Regression line')\n",
    "plt.xlabel('BMI')\n",
    "plt.ylabel('Density')\n",
    "plt.title('Regression of Density on BMI')\n",
    "plt.legend()\n",
    "plt.show()\n"
   ]
  },
  {
   "cell_type": "markdown",
   "metadata": {
    "deletable": false,
    "editable": false,
    "nbgrader": {
     "cell_type": "markdown",
     "checksum": "5f010f2bc1083261d56a9682bc987e5e",
     "grade": false,
     "grade_id": "cell-cce39b340a979434",
     "locked": true,
     "schema_version": 3,
     "solution": false,
     "task": false
    }
   },
   "source": [
    " The `BMI` model uses easy-to-measure predictors, but has a poor $R^2 \\sim 0.54$. We will use structured subset selection methods from ISLR Chapter 6.1 to derive two better predictors. That chapter covers *best subset*, *forward stepwise* and *backware stepwise* selection. I have implemented the *best subset* selection which searches across all combinations of $1, 2, \\ldots, p$ predictors and selects the best predictor based on the $\\textit{adjusted}~R^2$ metric. This method involved analyzing $2^{13} = 8192$ regression models (programming and computers for the win). The resulting $\\textit{adjusted}~R^2$ plot is shown below (Since the data split can be different, your result may look slightly different):\n",
    " \n",
    " <img src='fat-best-rsqadj.png'>\n",
    " \n",
    "In this plot, `test_fat` and `train_fat` datasets each containing 200 randomly selected samples were derived from the `cfat` dataset using `np.random.choice` over the `cfat.index` and selected using the Pandas `loc` method. Then, following the algorithm of ISLR Algorithm 6.1 *Best Subset Selection*, all $p \\choose k$ models with $k$ predictors were evaluated on the training data and the model returning the best $\\textit{Adjusted}~R^2$ was selected. These models are indicated by the data points for the solid blue line. As the text indicates, other measures (AIC, BIC, $C_p$) would be better than the $\\textit{Adjusted}~R^2$, but we use it becuase because you've already seen the $R^2$ and should have an understanding of what it means.\n",
    "\n",
    "Then, the best models for each $k$ were evaluated for the `test_fat` data. These results are shown as the red dots below the blue line. Note that because the test and train datasets are randomly selected subsets, the results vary from run-to-run and it may that your test data produces better $R^2$ than your training data.\n",
    "\n",
    "In the following exercises, you can not use the `Density`, `Fat` or `BMI` columns in your predictive models. You can only use the 13 predictors in the `allowed_factors` list."
   ]
  },
  {
   "cell_type": "code",
   "execution_count": 30,
   "metadata": {
    "deletable": false,
    "editable": false,
    "nbgrader": {
     "cell_type": "code",
     "checksum": "58fb469514a139386f9ab0b11eb5987e",
     "grade": false,
     "grade_id": "cell-1d56e6ab9fac5370",
     "locked": true,
     "schema_version": 3,
     "solution": false,
     "task": false
    }
   },
   "outputs": [],
   "source": [
    "allowed_factors = ['Age', 'Weight', 'Height', 'Neck', 'Chest',\n",
    "       'Abdomen', 'Hip', 'Thigh', 'Knee', 'Ankle', 'Biceps', 'Forearm',\n",
    "       'Wrist']"
   ]
  },
  {
   "cell_type": "markdown",
   "metadata": {
    "deletable": false,
    "editable": false,
    "nbgrader": {
     "cell_type": "markdown",
     "checksum": "800ff145f89c12e9eaff9ca004242fe4",
     "grade": false,
     "grade_id": "cell-edb9411d1ec54550",
     "locked": true,
     "schema_version": 3,
     "solution": false,
     "task": false
    }
   },
   "source": [
    "## Forward Stepwise Refinement"
   ]
  },
  {
   "cell_type": "markdown",
   "metadata": {
    "deletable": false,
    "editable": false,
    "nbgrader": {
     "cell_type": "markdown",
     "checksum": "74d464e8f0d0634c91bf1ea0ca64f373",
     "grade": false,
     "grade_id": "cell-3a584210ba67dbdc",
     "locked": true,
     "schema_version": 3,
     "solution": false,
     "task": false
    }
   },
   "source": [
    "You will manually perform the steps of the *forward stepwise selection* method for four parameters. You will do this following Algorithm 6.2 from ISLR. For $k = 1\\ldots 4$:\n",
    "* Set up a regression model with $k$ factors that involves the fixed predictors from the previous step $k-1$\n",
    "* Try all $p$ predictors in the new $k$th position\n",
    "* Select the best parameter using $\\textit{Adjusted}-R^2$ (e.g. `model.rsquared_adj`) given your training data\n",
    "* Fix the new parameter and continue the process for $k+1$\n",
    "\n",
    "Then, you will construct a plot similar to the one above, plotting the $\\textit{Adjusted}-R^2$ for each of your $k$ steps and plotting the $\\textit{Adjusted}-R^2$ from the test set using that model."
   ]
  },
  {
   "cell_type": "markdown",
   "metadata": {
    "deletable": false,
    "editable": false,
    "nbgrader": {
     "cell_type": "markdown",
     "checksum": "0eb7bd586e2532b4441455ffea847c96",
     "grade": false,
     "grade_id": "cell-935c52c843c6c61c",
     "locked": true,
     "schema_version": 3,
     "solution": false,
     "task": false
    }
   },
   "source": [
    "### 3c. [5 pts]\n",
    "First, construct your training and test sets from your `cfat` dataset. Call the resulting data frame to train_fat and test_fat. train_fat includes randomly selected 125 observations and the test_fat has the rest.\n",
    "\n",
    "Note: Set **random_state = 0** in sklearn's split function"
   ]
  },
  {
   "cell_type": "code",
   "execution_count": 31,
   "metadata": {
    "deletable": false,
    "nbgrader": {
     "cell_type": "code",
     "checksum": "b8e2e7e3b3c238091e2a2a1fc46ed153",
     "grade": false,
     "grade_id": "cell-0d264dd9fa39a3c6",
     "locked": false,
     "schema_version": 3,
     "solution": true,
     "task": false
    }
   },
   "outputs": [
    {
     "name": "stdout",
     "output_type": "stream",
     "text": [
      "Training set size: 125\n",
      "Test set size: 125\n"
     ]
    }
   ],
   "source": [
    "# construct train_fat and test_fat from cfat dataset \n",
    "from sklearn.model_selection import train_test_split\n",
    "\n",
    "# List of allowed factors\n",
    "allowed_factors = ['Age', 'Weight', 'Height', 'Neck', 'Chest',\n",
    "                   'Abdomen', 'Hip', 'Thigh', 'Knee', 'Ankle', \n",
    "                   'Biceps', 'Forearm', 'Wrist']\n",
    "\n",
    "# Split the dataset into training and test sets\n",
    "train_fat, test_fat = train_test_split(cfat, train_size=125, random_state=0)\n",
    "\n",
    "# Display the sizes of the training and test sets\n",
    "print(f\"Training set size: {len(train_fat)}\")\n",
    "print(f\"Test set size: {len(test_fat)}\")\n"
   ]
  },
  {
   "cell_type": "code",
   "execution_count": 32,
   "metadata": {
    "deletable": false,
    "editable": false,
    "nbgrader": {
     "cell_type": "code",
     "checksum": "03a442d106b1296488fe77cc4f3b8c21",
     "grade": true,
     "grade_id": "cell-8891dbeb743bcd14",
     "locked": true,
     "points": 5,
     "schema_version": 3,
     "solution": false,
     "task": false
    }
   },
   "outputs": [],
   "source": [
    "# tests your training and test sets "
   ]
  },
  {
   "cell_type": "markdown",
   "metadata": {
    "deletable": false,
    "editable": false,
    "nbgrader": {
     "cell_type": "markdown",
     "checksum": "1e3c4c3cf91f57b05659f8e60e1d59bf",
     "grade": false,
     "grade_id": "cell-1417b71024495889",
     "locked": true,
     "schema_version": 3,
     "solution": false,
     "task": false
    }
   },
   "source": [
    "### 3d. Conduct the algorithm above for $k=1$, leaving your best solution as the answer [5 pts]\n",
    "Call your resulting model `train_bmi1`."
   ]
  },
  {
   "cell_type": "code",
   "execution_count": 33,
   "metadata": {
    "deletable": false,
    "editable": false,
    "nbgrader": {
     "cell_type": "code",
     "checksum": "f205041286df71c59acee817abca7820",
     "grade": false,
     "grade_id": "cell-c968f5bc7b9e363c",
     "locked": true,
     "schema_version": 3,
     "solution": false,
     "task": false
    }
   },
   "outputs": [
    {
     "name": "stdout",
     "output_type": "stream",
     "text": [
      "Age 0.11891818526391695\n",
      "Weight 0.3118316510507495\n",
      "Height 0.013604499535144865\n",
      "Neck 0.2365970437510022\n",
      "Chest 0.48319067404353544\n",
      "Abdomen 0.6569981103212716\n",
      "Hip 0.309611004446523\n",
      "Thigh 0.20523437265112665\n",
      "Knee 0.14348108465750553\n",
      "Ankle 0.08478533257962062\n",
      "Biceps 0.23065760452385575\n",
      "Forearm 0.08974003323360791\n",
      "Wrist 0.10016498175577282\n",
      "best: ['Abdomen', 0.6569981103212716]\n"
     ]
    }
   ],
   "source": [
    "best = ['',0]\n",
    "for p in allowed_factors:\n",
    "    model  = smf.ols(formula='Density~'+p, data=train_fat).fit()\n",
    "    print(p, model.rsquared)\n",
    "    if model.rsquared>best[1]:\n",
    "        best = [p, model.rsquared]\n",
    "print('best:',best)"
   ]
  },
  {
   "cell_type": "code",
   "execution_count": 34,
   "metadata": {
    "deletable": false,
    "nbgrader": {
     "cell_type": "code",
     "checksum": "f40e751b05ac46dbc738c65b1016e193",
     "grade": false,
     "grade_id": "cell-b653a38505843acf",
     "locked": false,
     "schema_version": 3,
     "solution": true,
     "task": false
    }
   },
   "outputs": [
    {
     "name": "stdout",
     "output_type": "stream",
     "text": [
      "Age 0.11175491847744479\n",
      "Weight 0.30623678642514585\n",
      "Height 0.005585023921609533\n",
      "Neck 0.23039051565141688\n",
      "Chest 0.47898897220649106\n",
      "Abdomen 0.6542094770718512\n",
      "Hip 0.30399808578348664\n",
      "Thigh 0.19877286348568868\n",
      "Knee 0.1365175162400869\n",
      "Ankle 0.0773445629257965\n",
      "Biceps 0.22440278830047256\n",
      "Forearm 0.08233954569892188\n",
      "Wrist 0.09284924990012877\n",
      "best: ['Abdomen', 0.6542094770718512]\n",
      "                            OLS Regression Results                            \n",
      "==============================================================================\n",
      "Dep. Variable:                Density   R-squared:                       0.657\n",
      "Model:                            OLS   Adj. R-squared:                  0.654\n",
      "Method:                 Least Squares   F-statistic:                     235.6\n",
      "Date:                Mon, 09 Sep 2024   Prob (F-statistic):           2.32e-30\n",
      "Time:                        05:29:35   Log-Likelihood:                 380.21\n",
      "No. Observations:                 125   AIC:                            -756.4\n",
      "Df Residuals:                     123   BIC:                            -750.8\n",
      "Df Model:                           1                                         \n",
      "Covariance Type:            nonrobust                                         \n",
      "==============================================================================\n",
      "                 coef    std err          t      P>|t|      [0.025      0.975]\n",
      "------------------------------------------------------------------------------\n",
      "Intercept      1.1961      0.009    130.307      0.000       1.178       1.214\n",
      "Abdomen       -0.0015   9.85e-05    -15.349      0.000      -0.002      -0.001\n",
      "==============================================================================\n",
      "Omnibus:                       19.876   Durbin-Watson:                   1.931\n",
      "Prob(Omnibus):                  0.000   Jarque-Bera (JB):               37.245\n",
      "Skew:                           0.686   Prob(JB):                     8.17e-09\n",
      "Kurtosis:                       5.296   Cond. No.                         821.\n",
      "==============================================================================\n",
      "\n",
      "Warnings:\n",
      "[1] Standard Errors assume that the covariance matrix of the errors is correctly specified.\n"
     ]
    }
   ],
   "source": [
    "# List of allowed factors\n",
    "allowed_factors = ['Age', 'Weight', 'Height', 'Neck', 'Chest',\n",
    "                   'Abdomen', 'Hip', 'Thigh', 'Knee', 'Ankle', \n",
    "                   'Biceps', 'Forearm', 'Wrist']\n",
    "\n",
    "# Initialize the best model and score\n",
    "best = ['', 0]\n",
    "\n",
    "# Loop through each predictor and fit a regression model\n",
    "for p in allowed_factors:\n",
    "    model = smf.ols(formula='Density ~ ' + p, data=train_fat).fit()\n",
    "    print(p, model.rsquared_adj)  # Adjusted R-squared\n",
    "    if model.rsquared_adj > best[1]:  # Use Adjusted R-squared for selection\n",
    "        best = [p, model.rsquared_adj]\n",
    "\n",
    "print('best:', best)\n",
    "\n",
    "# Fit the final model with the best predictor\n",
    "train_bmi1 = smf.ols(formula='Density ~ ' + best[0], data=train_fat).fit()\n",
    "print(train_bmi1.summary())"
   ]
  },
  {
   "cell_type": "code",
   "execution_count": 35,
   "metadata": {
    "deletable": false,
    "editable": false,
    "nbgrader": {
     "cell_type": "code",
     "checksum": "92255eb2a0660046e3c000e99000e2f8",
     "grade": true,
     "grade_id": "cell-70be923706ef2bba",
     "locked": true,
     "points": 5,
     "schema_version": 3,
     "solution": false,
     "task": false
    }
   },
   "outputs": [],
   "source": [
    "# tests train_bmi1 model "
   ]
  },
  {
   "cell_type": "markdown",
   "metadata": {
    "deletable": false,
    "editable": false,
    "nbgrader": {
     "cell_type": "markdown",
     "checksum": "ba7ebfb99efed0f1c5863b4c6223f38d",
     "grade": false,
     "grade_id": "cell-b8a4543e21990a4e",
     "locked": true,
     "schema_version": 3,
     "solution": false,
     "task": false
    }
   },
   "source": [
    "### 3e. Conduct the algorithm above for $k=2$, leaving your best solution as the answer [Peer Review]\n",
    "Name your model object as `train_bmi2`.<br>\n",
    "Look at this week's Peer Review assignment for questions about $k=2$ through $k=5$. "
   ]
  },
  {
   "cell_type": "code",
   "execution_count": 36,
   "metadata": {
    "deletable": false,
    "nbgrader": {
     "cell_type": "code",
     "checksum": "06cda9d0a1a81c337fb14831e60acfbf",
     "grade": false,
     "grade_id": "cell-c1bb769fe2f4652a",
     "locked": false,
     "schema_version": 3,
     "solution": true,
     "task": false
    }
   },
   "outputs": [
    {
     "name": "stdout",
     "output_type": "stream",
     "text": [
      "Age 0.6714906315418798\n",
      "Weight 0.7298968547424141\n",
      "Height 0.6907610149384404\n",
      "Neck 0.6812956318033542\n",
      "Chest 0.6750153458293401\n",
      "Hip 0.7206773556849715\n",
      "Thigh 0.6790054278531203\n",
      "Knee 0.6888166629829023\n",
      "Ankle 0.6796405857834613\n",
      "Biceps 0.6563730451288072\n",
      "Forearm 0.6700374496099839\n",
      "Wrist 0.700831437096765\n",
      "best_k2: ['Weight', 0.7298968547424141]\n",
      "                            OLS Regression Results                            \n",
      "==============================================================================\n",
      "Dep. Variable:                Density   R-squared:                       0.734\n",
      "Model:                            OLS   Adj. R-squared:                  0.730\n",
      "Method:                 Least Squares   F-statistic:                     168.5\n",
      "Date:                Mon, 09 Sep 2024   Prob (F-statistic):           7.81e-36\n",
      "Time:                        05:30:30   Log-Likelihood:                 396.16\n",
      "No. Observations:                 125   AIC:                            -786.3\n",
      "Df Residuals:                     122   BIC:                            -777.8\n",
      "Df Model:                           2                                         \n",
      "Covariance Type:            nonrobust                                         \n",
      "==============================================================================\n",
      "                 coef    std err          t      P>|t|      [0.025      0.975]\n",
      "------------------------------------------------------------------------------\n",
      "Intercept      1.2084      0.008    144.306      0.000       1.192       1.225\n",
      "Abdomen       -0.0024      0.000    -13.926      0.000      -0.003      -0.002\n",
      "Weight         0.0009      0.000      5.955      0.000       0.001       0.001\n",
      "==============================================================================\n",
      "Omnibus:                       11.620   Durbin-Watson:                   1.890\n",
      "Prob(Omnibus):                  0.003   Jarque-Bera (JB):               13.391\n",
      "Skew:                           0.588   Prob(JB):                      0.00124\n",
      "Kurtosis:                       4.090   Cond. No.                     1.13e+03\n",
      "==============================================================================\n",
      "\n",
      "Warnings:\n",
      "[1] Standard Errors assume that the covariance matrix of the errors is correctly specified.\n",
      "[2] The condition number is large, 1.13e+03. This might indicate that there are\n",
      "strong multicollinearity or other numerical problems.\n"
     ]
    }
   ],
   "source": [
    "# Initialize with the best predictor from k=1\n",
    "initial_predictors = [best[0]]\n",
    "\n",
    "# Initialize the best model and score for k=2\n",
    "best_k2 = ['', 0]\n",
    "\n",
    "# Loop through remaining predictors\n",
    "for p in allowed_factors:\n",
    "    if p not in initial_predictors:\n",
    "        formula = 'Density ~ ' + ' + '.join(initial_predictors + [p])\n",
    "        model = smf.ols(formula=formula, data=train_fat).fit()\n",
    "        print(p, model.rsquared_adj)  # Adjusted R-squared\n",
    "        if model.rsquared_adj > best_k2[1]:\n",
    "            best_k2 = [p, model.rsquared_adj]\n",
    "\n",
    "print('best_k2:', best_k2)\n",
    "\n",
    "# Fit the final model for k=2\n",
    "train_bmi2 = smf.ols(formula='Density ~ ' + ' + '.join(initial_predictors + [best_k2[0]]), data=train_fat).fit()\n",
    "print(train_bmi2.summary())"
   ]
  },
  {
   "cell_type": "markdown",
   "metadata": {
    "deletable": false,
    "editable": false,
    "nbgrader": {
     "cell_type": "markdown",
     "checksum": "6dc65243db88c57ade297d5d0297432c",
     "grade": false,
     "grade_id": "cell-c01c83243d830766",
     "locked": true,
     "schema_version": 3,
     "solution": false,
     "task": false
    }
   },
   "source": [
    "### 3f. Conduct the algorithm above for $k=3$, leaving your best solution as the answer [Peer Review]"
   ]
  },
  {
   "cell_type": "code",
   "execution_count": 37,
   "metadata": {
    "deletable": false,
    "nbgrader": {
     "cell_type": "code",
     "checksum": "8fcc079c84b8b0c596ead094a5dd4036",
     "grade": false,
     "grade_id": "cell-4291b82327d46a06",
     "locked": false,
     "schema_version": 3,
     "solution": true,
     "task": false
    }
   },
   "outputs": [
    {
     "name": "stdout",
     "output_type": "stream",
     "text": [
      "Age 0.7283533399477682\n",
      "Height 0.7281061082672672\n",
      "Neck 0.7285034910726018\n",
      "Chest 0.7296111205793\n",
      "Hip 0.7339338096479802\n",
      "Thigh 0.7296995022982151\n",
      "Knee 0.7276732906161328\n",
      "Ankle 0.7285299468904388\n",
      "Biceps 0.7441772156787978\n",
      "Forearm 0.7288948995266537\n",
      "Wrist 0.7332636989991826\n",
      "best_k3: ['Biceps', 0.7441772156787978]\n",
      "                            OLS Regression Results                            \n",
      "==============================================================================\n",
      "Dep. Variable:                Density   R-squared:                       0.750\n",
      "Model:                            OLS   Adj. R-squared:                  0.744\n",
      "Method:                 Least Squares   F-statistic:                     121.2\n",
      "Date:                Mon, 09 Sep 2024   Prob (F-statistic):           2.64e-36\n",
      "Time:                        05:31:06   Log-Likelihood:                 400.07\n",
      "No. Observations:                 125   AIC:                            -792.1\n",
      "Df Residuals:                     121   BIC:                            -780.8\n",
      "Df Model:                           3                                         \n",
      "Covariance Type:            nonrobust                                         \n",
      "==============================================================================\n",
      "                 coef    std err          t      P>|t|      [0.025      0.975]\n",
      "------------------------------------------------------------------------------\n",
      "Intercept      1.2348      0.012     98.987      0.000       1.210       1.260\n",
      "Abdomen       -0.0024      0.000    -14.529      0.000      -0.003      -0.002\n",
      "Weight         0.0012      0.000      6.548      0.000       0.001       0.002\n",
      "Biceps        -0.0014      0.001     -2.795      0.006      -0.002      -0.000\n",
      "==============================================================================\n",
      "Omnibus:                        6.462   Durbin-Watson:                   1.794\n",
      "Prob(Omnibus):                  0.040   Jarque-Bera (JB):                5.977\n",
      "Skew:                           0.480   Prob(JB):                       0.0504\n",
      "Kurtosis:                       3.477   Cond. No.                     1.79e+03\n",
      "==============================================================================\n",
      "\n",
      "Warnings:\n",
      "[1] Standard Errors assume that the covariance matrix of the errors is correctly specified.\n",
      "[2] The condition number is large, 1.79e+03. This might indicate that there are\n",
      "strong multicollinearity or other numerical problems.\n"
     ]
    }
   ],
   "source": [
    "# Update initial predictors with the best predictor from k=2\n",
    "initial_predictors.append(best_k2[0])\n",
    "\n",
    "# Initialize the best model and score for k=3\n",
    "best_k3 = ['', 0]\n",
    "\n",
    "# Loop through remaining predictors\n",
    "for p in allowed_factors:\n",
    "    if p not in initial_predictors:\n",
    "        formula = 'Density ~ ' + ' + '.join(initial_predictors + [p])\n",
    "        model = smf.ols(formula=formula, data=train_fat).fit()\n",
    "        print(p, model.rsquared_adj)  # Adjusted R-squared\n",
    "        if model.rsquared_adj > best_k3[1]:\n",
    "            best_k3 = [p, model.rsquared_adj]\n",
    "\n",
    "print('best_k3:', best_k3)\n",
    "\n",
    "# Fit the final model for k=3\n",
    "train_bmi3 = smf.ols(formula='Density ~ ' + ' + '.join(initial_predictors + [best_k3[0]]), data=train_fat).fit()\n",
    "print(train_bmi3.summary()) "
   ]
  },
  {
   "cell_type": "markdown",
   "metadata": {
    "deletable": false,
    "editable": false,
    "nbgrader": {
     "cell_type": "markdown",
     "checksum": "5ed7d175c220a1e949f4f3fc735d109a",
     "grade": false,
     "grade_id": "cell-a65e999c326a5638",
     "locked": true,
     "schema_version": 3,
     "solution": false,
     "task": false
    }
   },
   "source": [
    "### 3g. Conduct the algorithm above for $k=4$, leaving your best solution as the answer [Peer Review]"
   ]
  },
  {
   "cell_type": "code",
   "execution_count": 38,
   "metadata": {
    "deletable": false,
    "nbgrader": {
     "cell_type": "code",
     "checksum": "33b029c381341908d29ea3ea3e099c28",
     "grade": false,
     "grade_id": "cell-9338360b551afae7",
     "locked": false,
     "schema_version": 3,
     "solution": true,
     "task": false
    }
   },
   "outputs": [
    {
     "name": "stdout",
     "output_type": "stream",
     "text": [
      "Age 0.7423506613504434\n",
      "Height 0.7447607570477387\n",
      "Neck 0.7466437237824016\n",
      "Chest 0.7442215469827264\n",
      "Hip 0.7470568641594062\n",
      "Thigh 0.7422984760141308\n",
      "Knee 0.7421007497012648\n",
      "Ankle 0.7437750620718024\n",
      "Forearm 0.7422469466977619\n",
      "Wrist 0.7506001901244437\n",
      "best_k4: ['Wrist', 0.7506001901244437]\n",
      "                            OLS Regression Results                            \n",
      "==============================================================================\n",
      "Dep. Variable:                Density   R-squared:                       0.759\n",
      "Model:                            OLS   Adj. R-squared:                  0.751\n",
      "Method:                 Least Squares   F-statistic:                     94.30\n",
      "Date:                Mon, 09 Sep 2024   Prob (F-statistic):           4.24e-36\n",
      "Time:                        05:31:24   Log-Likelihood:                 402.18\n",
      "No. Observations:                 125   AIC:                            -794.4\n",
      "Df Residuals:                     120   BIC:                            -780.2\n",
      "Df Model:                           4                                         \n",
      "Covariance Type:            nonrobust                                         \n",
      "==============================================================================\n",
      "                 coef    std err          t      P>|t|      [0.025      0.975]\n",
      "------------------------------------------------------------------------------\n",
      "Intercept      1.1948      0.023     51.329      0.000       1.149       1.241\n",
      "Abdomen       -0.0024      0.000    -14.362      0.000      -0.003      -0.002\n",
      "Weight         0.0010      0.000      5.092      0.000       0.001       0.001\n",
      "Biceps        -0.0016      0.001     -3.068      0.003      -0.003      -0.001\n",
      "Wrist          0.0030      0.001      2.029      0.045    7.19e-05       0.006\n",
      "==============================================================================\n",
      "Omnibus:                        3.832   Durbin-Watson:                   1.816\n",
      "Prob(Omnibus):                  0.147   Jarque-Bera (JB):                3.311\n",
      "Skew:                           0.380   Prob(JB):                        0.191\n",
      "Kurtosis:                       3.240   Cond. No.                     3.41e+03\n",
      "==============================================================================\n",
      "\n",
      "Warnings:\n",
      "[1] Standard Errors assume that the covariance matrix of the errors is correctly specified.\n",
      "[2] The condition number is large, 3.41e+03. This might indicate that there are\n",
      "strong multicollinearity or other numerical problems.\n"
     ]
    }
   ],
   "source": [
    "# Update initial predictors with the best predictor from k=3\n",
    "initial_predictors.append(best_k3[0])\n",
    "\n",
    "# Initialize the best model and score for k=4\n",
    "best_k4 = ['', 0]\n",
    "\n",
    "# Loop through remaining predictors\n",
    "for p in allowed_factors:\n",
    "    if p not in initial_predictors:\n",
    "        formula = 'Density ~ ' + ' + '.join(initial_predictors + [p])\n",
    "        model = smf.ols(formula=formula, data=train_fat).fit()\n",
    "        print(p, model.rsquared_adj)  # Adjusted R-squared\n",
    "        if model.rsquared_adj > best_k4[1]:\n",
    "            best_k4 = [p, model.rsquared_adj]\n",
    "\n",
    "print('best_k4:', best_k4)\n",
    "\n",
    "# Fit the final model for k=4\n",
    "train_bmi4 = smf.ols(formula='Density ~ ' + ' + '.join(initial_predictors + [best_k4[0]]), data=train_fat).fit()\n",
    "print(train_bmi4.summary())"
   ]
  },
  {
   "cell_type": "markdown",
   "metadata": {
    "deletable": false,
    "editable": false,
    "nbgrader": {
     "cell_type": "markdown",
     "checksum": "5fb18e9e520ea2c3792c120072da73c2",
     "grade": false,
     "grade_id": "cell-a3566ec9e61c94fd",
     "locked": true,
     "schema_version": 3,
     "solution": false,
     "task": false
    }
   },
   "source": [
    "### 3h. Conduct the algorithm above for $k=5$, leaving your best solution as the answer [Peer Review]"
   ]
  },
  {
   "cell_type": "code",
   "execution_count": 39,
   "metadata": {
    "deletable": false,
    "nbgrader": {
     "cell_type": "code",
     "checksum": "23c03629d41b2b311820e860083e3946",
     "grade": false,
     "grade_id": "cell-8ce53b966f091dc0",
     "locked": false,
     "schema_version": 3,
     "solution": true,
     "task": false
    }
   },
   "outputs": [
    {
     "name": "stdout",
     "output_type": "stream",
     "text": [
      "Age 0.7494193480231319\n",
      "Height 0.7511576108898324\n",
      "Neck 0.7502556901314869\n",
      "Chest 0.7499372263498392\n",
      "Hip 0.7578732528786704\n",
      "Thigh 0.7485504428524095\n",
      "Knee 0.7488614496333045\n",
      "Ankle 0.7528723602513575\n",
      "Forearm 0.7485045995598733\n",
      "best_k5: ['Hip', 0.7578732528786704]\n",
      "                            OLS Regression Results                            \n",
      "==============================================================================\n",
      "Dep. Variable:                Density   R-squared:                       0.768\n",
      "Model:                            OLS   Adj. R-squared:                  0.758\n",
      "Method:                 Least Squares   F-statistic:                     78.63\n",
      "Date:                Mon, 09 Sep 2024   Prob (F-statistic):           4.67e-36\n",
      "Time:                        05:31:43   Log-Likelihood:                 404.55\n",
      "No. Observations:                 125   AIC:                            -797.1\n",
      "Df Residuals:                     119   BIC:                            -780.1\n",
      "Df Model:                           5                                         \n",
      "Covariance Type:            nonrobust                                         \n",
      "==============================================================================\n",
      "                 coef    std err          t      P>|t|      [0.025      0.975]\n",
      "------------------------------------------------------------------------------\n",
      "Intercept      1.1362      0.036     31.887      0.000       1.066       1.207\n",
      "Abdomen       -0.0025      0.000    -14.673      0.000      -0.003      -0.002\n",
      "Weight         0.0006      0.000      2.147      0.034     4.5e-05       0.001\n",
      "Biceps        -0.0015      0.001     -3.030      0.003      -0.003      -0.001\n",
      "Wrist          0.0038      0.001      2.522      0.013       0.001       0.007\n",
      "Hip            0.0008      0.000      2.146      0.034    6.48e-05       0.002\n",
      "==============================================================================\n",
      "Omnibus:                        6.193   Durbin-Watson:                   1.808\n",
      "Prob(Omnibus):                  0.045   Jarque-Bera (JB):                5.809\n",
      "Skew:                           0.432   Prob(JB):                       0.0548\n",
      "Kurtosis:                       3.606   Cond. No.                     6.70e+03\n",
      "==============================================================================\n",
      "\n",
      "Warnings:\n",
      "[1] Standard Errors assume that the covariance matrix of the errors is correctly specified.\n",
      "[2] The condition number is large, 6.7e+03. This might indicate that there are\n",
      "strong multicollinearity or other numerical problems.\n"
     ]
    }
   ],
   "source": [
    "# Update initial predictors with the best predictor from k=4\n",
    "initial_predictors.append(best_k4[0])\n",
    "\n",
    "# Initialize the best model and score for k=5\n",
    "best_k5 = ['', 0]\n",
    "\n",
    "# Loop through remaining predictors\n",
    "for p in allowed_factors:\n",
    "    if p not in initial_predictors:\n",
    "        formula = 'Density ~ ' + ' + '.join(initial_predictors + [p])\n",
    "        model = smf.ols(formula=formula, data=train_fat).fit()\n",
    "        print(p, model.rsquared_adj)  # Adjusted R-squared\n",
    "        if model.rsquared_adj > best_k5[1]:\n",
    "            best_k5 = [p, model.rsquared_adj]\n",
    "\n",
    "print('best_k5:', best_k5)\n",
    "\n",
    "# Fit the final model for k=5\n",
    "train_bmi5 = smf.ols(formula='Density ~ ' + ' + '.join(initial_predictors + [best_k5[0]]), data=train_fat).fit()\n",
    "print(train_bmi5.summary())\n"
   ]
  },
  {
   "cell_type": "markdown",
   "metadata": {
    "deletable": false,
    "editable": false,
    "nbgrader": {
     "cell_type": "markdown",
     "checksum": "dde7b8cb6ae4fcb0c2e153ab619563f4",
     "grade": false,
     "grade_id": "cell-c97e8cf99ad0752c",
     "locked": true,
     "schema_version": 3,
     "solution": false,
     "task": false
    }
   },
   "source": [
    "### 3i. Plot [5 pts]\n",
    "Plot your resulting $\\textit{adjusted}~R^2$ *vs* number of predictors (k=1,2,3,4,5) and overlay the $\\textit{adjusted}~R^2$ for the test data. Call the list of the five adjusted r-squared values from the five train_bmi# models as `adjr2_train` and the one from the test data as `adjr2_test`."
   ]
  },
  {
   "cell_type": "code",
   "execution_count": 40,
   "metadata": {
    "deletable": false,
    "nbgrader": {
     "cell_type": "code",
     "checksum": "828928fc6a49f4d0ce213624709fc37b",
     "grade": false,
     "grade_id": "cell-5a4df8b7ac835693",
     "locked": false,
     "schema_version": 3,
     "solution": true,
     "task": false
    }
   },
   "outputs": [
    {
     "data": {
      "image/png": "[encoded data removed]",
      "text/plain": [
       "<Figure size 720x432 with 1 Axes>"
      ]
     },
     "metadata": {},
     "output_type": "display_data"
    }
   ],
   "source": [
    "# plot resulting adjusted rsquared vs number of predictors (k=1,2,3,4,5)\n",
    "# overlay the adjusted rsquared for the test data \n",
    "# Calculate adjusted R^2 for the training models\n",
    "adjr2_train = [\n",
    "    train_bmi1.rsquared_adj,\n",
    "    train_bmi2.rsquared_adj,\n",
    "    train_bmi3.rsquared_adj,\n",
    "    train_bmi4.rsquared_adj,\n",
    "    train_bmi5.rsquared_adj\n",
    "]\n",
    "\n",
    "# Fit the models on the test set and calculate adjusted R^2\n",
    "test_model1 = smf.ols(formula=train_bmi1.model.formula, data=test_fat).fit()\n",
    "test_model2 = smf.ols(formula=train_bmi2.model.formula, data=test_fat).fit()\n",
    "test_model3 = smf.ols(formula=train_bmi3.model.formula, data=test_fat).fit()\n",
    "test_model4 = smf.ols(formula=train_bmi4.model.formula, data=test_fat).fit()\n",
    "test_model5 = smf.ols(formula=train_bmi5.model.formula, data=test_fat).fit()\n",
    "\n",
    "adjr2_test = [\n",
    "    test_model1.rsquared_adj,\n",
    "    test_model2.rsquared_adj,\n",
    "    test_model3.rsquared_adj,\n",
    "    test_model4.rsquared_adj,\n",
    "    test_model5.rsquared_adj\n",
    "]\n",
    "\n",
    "# Plot the adjusted R^2 values\n",
    "plt.figure(figsize=(10, 6))\n",
    "plt.plot(range(1, 6), adjr2_train, marker='o', label='Train Adjusted R^2')\n",
    "plt.plot(range(1, 6), adjr2_test, marker='o', label='Test Adjusted R^2', linestyle='--')\n",
    "plt.xlabel('Number of Predictors (k)')\n",
    "plt.ylabel('Adjusted R^2')\n",
    "plt.title('Adjusted R^2 vs Number of Predictors')\n",
    "plt.legend()\n",
    "plt.grid(True)\n",
    "plt.show()\n"
   ]
  },
  {
   "cell_type": "code",
   "execution_count": 41,
   "metadata": {
    "deletable": false,
    "editable": false,
    "nbgrader": {
     "cell_type": "code",
     "checksum": "9e4f0833530cd9432de6b26938a3585a",
     "grade": true,
     "grade_id": "cell-ee76423a1d5d1bc2",
     "locked": true,
     "points": 5,
     "schema_version": 3,
     "solution": false,
     "task": false
    }
   },
   "outputs": [],
   "source": [
    "# tests adjusted r-squared plot vs. number of factors "
   ]
  },
  {
   "cell_type": "markdown",
   "metadata": {
    "deletable": false,
    "editable": false,
    "nbgrader": {
     "cell_type": "markdown",
     "checksum": "9f44fec7c036f10bc7c2ef8c7ccf9a8e",
     "grade": false,
     "grade_id": "cell-ba314ee660e30e67",
     "locked": true,
     "schema_version": 3,
     "solution": false,
     "task": false
    }
   },
   "source": [
    "### 3j. Discussion [Peer Review]\n",
    "The BMI model has the benefit being simple (two measurements, height and wright). Looking at your resulting regression model, how many parameters would you suggest to use for your enhanced BMI model? Justify your answer using your models. Submit your answer with this week's Peer Review assignment. "
   ]
  },
  {
   "cell_type": "markdown",
   "metadata": {},
   "source": [
    "Based on the provided plot showing the adjusted \\( R^2 \\) values versus the number of predictors, we can analyze the performance of the models on both the training and test sets to determine the optimal number of predictors for the enhanced BMI model.\n",
    "\n",
    "### Analysis\n",
    "\n",
    "1. **Training Set Performance**:\n",
    "    - The adjusted \\( R^2 \\) for the training set increases steadily as the number of predictors increases from 1 to 5.\n",
    "    - This is expected, as adding more predictors generally improves the model's fit to the training data.\n",
    "    \n",
    "\n",
    "2. **Test Set Performance**:\n",
    "    - The adjusted \\( R^2 \\) for the test set also shows an increase, but with a different pattern.\n",
    "    - For \\( k = 1 \\), the adjusted \\( R^2 \\) is around 0.66.\n",
    "    - There is a noticeable improvement when moving to \\( k = 2 \\), reaching approximately 0.70.\n",
    "    - For \\( k = 3 \\), the adjusted \\( R^2 \\) slightly decreases to around 0.68, indicating potential overfitting.\n",
    "    - For \\( k = 4 \\) and \\( k = 5 \\), the adjusted \\( R^2 \\) increases again, reaching around 0.70 and 0.71, respectively.\n",
    "\n",
    "### Suggested Number of Parameters\n",
    "\n",
    "Considering the performance on both the training and test sets, the following points are important:\n",
    "\n",
    "- **Initial Improvement**: There is a significant improvement in adjusted \\( R^2 \\) when moving from \\( k = 1 \\) to \\( k = 2 \\) for the test set.\n",
    "- **Stability and Complexity**: Although the adjusted \\( R^2 \\) for the test set slightly decreases at \\( k = 3 \\), it increases again for \\( k = 4 \\) and \\( k = 5 \\). This suggests that the model benefits from additional predictors beyond 2, but we need to balance complexity and stability.\n",
    "- **Optimal Trade-off**: Considering the trade-off between model complexity and performance stability, and the consistent improvement beyond \\( k = 3 \\), a model with **4 predictors** appears to provide a good balance. This number of predictors shows improved test set performance without excessive complexity.\n",
    "\n",
    "### Conclusion\n",
    "\n",
    "Based on the analysis, I would suggest using **4 predictors** for the enhanced BMI model. This choice ensures a good balance between improved predictive performance and manageable model complexity. The adjusted \\( R^2 \\) values indicate that this number of predictors offers significant improvement while maintaining generalization to the test set.\n",
    "\n",
    "### Justification\n",
    "\n",
    "- **Performance**: The adjusted \\( R^2 \\) increases consistently and significantly for \\( k = 2 \\) and shows stability or slight improvement for \\( k = 4 \\) and \\( k = 5 \\).\n",
    "- **Complexity Management**: Using 4 predictors keeps the model relatively simple while leveraging enough additional information to enhance predictive accuracy.\n",
    "- **Generalization**: The test set performance suggests that using 4 predictors strikes a balance between fitting the training data well and generalizing to new data, reducing the risk of overfitting.\n",
    "\n",
    "By selecting 4 predictors, we ensure that the enhanced BMI model is both effective and practical, offering improved prediction accuracy over the simple BMI model without unnecessary complexity."
   ]
  }
 ],
 "metadata": {
  "kernelspec": {
   "display_name": "Python 3",
   "language": "python",
   "name": "python3"
  },
  "language_info": {
   "codemirror_mode": {
    "name": "ipython",
    "version": 3
   },
   "file_extension": ".py",
   "mimetype": "text/x-python",
   "name": "python",
   "nbconvert_exporter": "python",
   "pygments_lexer": "ipython3",
   "version": "3.7.6"
  }
 },
 "nbformat": 4,
 "nbformat_minor": 4
}
