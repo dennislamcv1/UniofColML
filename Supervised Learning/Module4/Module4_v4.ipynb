{
 "cells": [
  {
   "cell_type": "markdown",
   "metadata": {
    "deletable": false,
    "editable": false,
    "nbgrader": {
     "cell_type": "markdown",
     "checksum": "47cb0b0401aabc3b1c1858711a64db4f",
     "grade": false,
     "grade_id": "cell-8ae6945a5595d011",
     "locked": true,
     "schema_version": 3,
     "solution": false,
     "task": false
    }
   },
   "source": [
    "### Grading\n",
    "The final score that you will receive for your programming assignment is generated in relation to the total points set in your programming assignment item—not the total point value in the nbgrader notebook.<br>\n",
    "When calculating the final score shown to learners, the programming assignment takes the percentage of earned points vs. the total points provided by nbgrader and returns a score matching the equivalent percentage of the point value for the programming assignment.<br>\n",
    "**DO NOT CHANGE VARIABLE OR METHOD SIGNATURES** The autograder will not work properly if your change the variable or method signatures. "
   ]
  },
  {
   "cell_type": "markdown",
   "metadata": {
    "deletable": false,
    "editable": false,
    "nbgrader": {
     "cell_type": "markdown",
     "checksum": "552fdda28fccb3ae061ac915c059b6e6",
     "grade": false,
     "grade_id": "cell-66bb935b7af8b9fb",
     "locked": true,
     "schema_version": 3,
     "solution": false,
     "task": false
    }
   },
   "source": [
    "### WARNING\n",
    "Please refrain from using **print statements/anything that dumps large outputs(>500 lines) to STDOUT** to avoid running to into **memory issues**. \n",
    "Doing so requires your entire lab to be reset which may also result in loss of progress and you will be required to reach out to Coursera for assistance with this.\n",
    "This process usually takes time causing delays to your submission."
   ]
  },
  {
   "cell_type": "markdown",
   "metadata": {
    "deletable": false,
    "editable": false,
    "nbgrader": {
     "cell_type": "markdown",
     "checksum": "4b279f49e6ddcabe7c100e2079f6e4d2",
     "grade": false,
     "grade_id": "cell-d853bae6a8cc9070",
     "locked": true,
     "schema_version": 3,
     "solution": false,
     "task": false
    }
   },
   "source": [
    "### Validate Button\n",
    "Please note that this assignment uses nbgrader to facilitate grading. You will see a **validate button** at the top of your Jupyter notebook. If you hit this button, it will run tests cases for the lab that aren't hidden. It is good to use the validate button before submitting the lab. Do know that the labs in the course contain hidden test cases. The validate button will not let you know whether these test cases pass. After submitting your lab, you can see more information about these hidden test cases in the Grader Output. <br>\n",
    "***Cells with longer execution times will cause the validate button to time out and freeze. Please know that if you run into Validate time-outs, it will not affect the final submission grading.*** <br>"
   ]
  },
  {
   "cell_type": "markdown",
   "metadata": {
    "deletable": false,
    "editable": false,
    "nbgrader": {
     "cell_type": "markdown",
     "checksum": "37683eeda215146b65f5026e9ebdb551",
     "grade": false,
     "grade_id": "cell-dbd2d13ca117f619",
     "locked": true,
     "schema_version": 3,
     "solution": false,
     "task": false
    }
   },
   "source": [
    "# Module 4: K-nearest neighbors"
   ]
  },
  {
   "cell_type": "markdown",
   "metadata": {
    "deletable": false,
    "editable": false,
    "nbgrader": {
     "cell_type": "markdown",
     "checksum": "d6034adfae601616aef70988388e3b07",
     "grade": false,
     "grade_id": "cell-19fba0d07cf433ba",
     "locked": true,
     "schema_version": 3,
     "solution": false,
     "task": false
    }
   },
   "source": [
    "Run the cell below to ensure that the required packages are imported."
   ]
  },
  {
   "cell_type": "code",
   "execution_count": 1,
   "metadata": {
    "deletable": false,
    "editable": false,
    "nbgrader": {
     "cell_type": "code",
     "checksum": "86084135e0186ef2a1af8d212a59371c",
     "grade": false,
     "grade_id": "cell-e64ccd51e3e81b02",
     "locked": true,
     "schema_version": 3,
     "solution": false,
     "task": false
    }
   },
   "outputs": [],
   "source": [
    "import math\n",
    "import pickle\n",
    "import gzip\n",
    "import numpy as np\n",
    "import matplotlib.pylab as plt\n",
    "%matplotlib inline\n",
    "\n",
    "# importing all the required libraries\n",
    "\n",
    "from math import exp\n",
    "import numpy as np\n",
    "import pandas as pd\n",
    "import sklearn\n",
    "from sklearn.linear_model import LogisticRegression\n",
    "from sklearn.tree import DecisionTreeClassifier\n",
    "from sklearn.datasets import load_breast_cancer\n",
    "from sklearn.model_selection import train_test_split\n",
    "import matplotlib.pyplot as plt\n",
    "%matplotlib inline\n",
    "\n",
    "from sklearn.metrics import roc_auc_score\n",
    "from sklearn.metrics import roc_curve"
   ]
  },
  {
   "cell_type": "markdown",
   "metadata": {
    "deletable": false,
    "editable": false,
    "nbgrader": {
     "cell_type": "markdown",
     "checksum": "f16a22959bf9d0a98cf14df7ac88266b",
     "grade": false,
     "grade_id": "cell-703de6192d07f99f",
     "locked": true,
     "schema_version": 3,
     "solution": false,
     "task": false
    }
   },
   "source": [
    "### Problem 1 : Building a K- Nearest neighbours classifier for handwritten digit recognition [15 pts, Peer Review] \n",
    "\n",
    "In this problem you will complete some code to build a k-nearest neighbour classifier to classify images of handwritten digits (0-9). For this purpose we will use a famous open-source dataset of handwritten digits called the MNIST that is ubiquitously used for testing a number of classification algorithms in machine learning."
   ]
  },
  {
   "cell_type": "code",
   "execution_count": 2,
   "metadata": {
    "deletable": false,
    "editable": false,
    "nbgrader": {
     "cell_type": "code",
     "checksum": "1a8b06a6e5c3891df1b08b9d4ca64867",
     "grade": false,
     "grade_id": "cell-d0067365eb87b126",
     "locked": true,
     "schema_version": 3,
     "solution": false,
     "task": false
    }
   },
   "outputs": [],
   "source": [
    "# This cell sets up the MNIST dataset \n",
    "\n",
    "class MNIST_import:\n",
    "    \"\"\"\n",
    "    sets up MNIST dataset from OpenML \n",
    "    \"\"\"\n",
    "    def __init__(self):\n",
    "        \n",
    "        df = pd.read_csv(\"data/mnist_784.csv\")\n",
    "        \n",
    "        # Create arrays for the features and the response variable\n",
    "        # store for use later \n",
    "        y = df['class'].values\n",
    "        X = df.drop('class', axis=1).values\n",
    "         \n",
    "        # Convert the labels to numeric labels\n",
    "        y = np.array(pd.to_numeric(y))\n",
    "        \n",
    "        # create training and validation sets \n",
    "        self.train_x, self.train_y = X[:5000,:], y[:5000]\n",
    "        self.val_x, self.val_y = X[5000:6000,:], y[5000:6000]\n",
    "        \n",
    "data = MNIST_import()"
   ]
  },
  {
   "cell_type": "code",
   "execution_count": 3,
   "metadata": {
    "deletable": false,
    "editable": false,
    "nbgrader": {
     "cell_type": "code",
     "checksum": "a666bb409680d5b5b14c47c2c84b9ec2",
     "grade": false,
     "grade_id": "cell-7552f1b93c13729b",
     "locked": true,
     "schema_version": 3,
     "solution": false,
     "task": false
    }
   },
   "outputs": [],
   "source": [
    "def view_digit(x, label=None):\n",
    "    fig = plt.figure(figsize=(3,3))\n",
    "    plt.imshow(x.reshape(28,28), cmap='gray');\n",
    "    plt.xticks([]); plt.yticks([]);\n",
    "    if label: plt.xlabel(\"true: {}\".format(label), fontsize=16)"
   ]
  },
  {
   "cell_type": "markdown",
   "metadata": {
    "deletable": false,
    "editable": false,
    "nbgrader": {
     "cell_type": "markdown",
     "checksum": "1b23149930b1ad2b6b94c348677522b0",
     "grade": false,
     "grade_id": "cell-b5f5237b858c449d",
     "locked": true,
     "schema_version": 3,
     "solution": false,
     "task": false
    }
   },
   "source": [
    "Display a particular digit using the above function:"
   ]
  },
  {
   "cell_type": "code",
   "execution_count": 4,
   "metadata": {
    "deletable": false,
    "nbgrader": {
     "cell_type": "code",
     "checksum": "33529119ce226244fd9100f80251920d",
     "grade": false,
     "grade_id": "cell-3e3b1bbbe1467ca7",
     "locked": false,
     "schema_version": 3,
     "solution": true,
     "task": false
    }
   },
   "outputs": [
    {
     "data": {
      "image/png": "[encoded data removed]",
      "text/plain": [
       "<Figure size 432x288 with 1 Axes>"
      ]
     },
     "metadata": {
      "needs_background": "light"
     },
     "output_type": "display_data"
    }
   ],
   "source": [
    "# Display a particular digit\n",
    "def display_digit(data, index):\n",
    "    digit = data.train_x[index].reshape(28, 28)\n",
    "    plt.imshow(digit, cmap='gray')\n",
    "    plt.title(f'Label: {data.train_y[index]}')\n",
    "    plt.show()\n",
    "\n",
    "\n",
    "# Display the digit at index 9\n",
    "training_index = 9\n",
    "display_digit(data, training_index)\n"
   ]
  },
  {
   "cell_type": "markdown",
   "metadata": {
    "deletable": false,
    "editable": false,
    "nbgrader": {
     "cell_type": "markdown",
     "checksum": "60097aa2e575b01c2d8d2f96e287b9cb",
     "grade": false,
     "grade_id": "cell-87383daf2fbafe0a",
     "locked": true,
     "schema_version": 3,
     "solution": false,
     "task": false
    }
   },
   "source": [
    "**Part 1 [5 points]**\n",
    "Fill in the code in the following cell to determine the following quantities:\n",
    "   - Number of pixels in each image\n",
    "   - Number of examples in the training set\n",
    "   - Number of examples in the test set\n",
    "   "
   ]
  },
  {
   "cell_type": "code",
   "execution_count": 5,
   "metadata": {
    "deletable": false,
    "nbgrader": {
     "cell_type": "code",
     "checksum": "253eeb6aab707aa6f5d142b8cfa226b6",
     "grade": false,
     "grade_id": "cell-217762899b37f199",
     "locked": false,
     "schema_version": 3,
     "solution": true,
     "task": false
    }
   },
   "outputs": [
    {
     "data": {
      "text/plain": [
       "784"
      ]
     },
     "execution_count": 5,
     "metadata": {},
     "output_type": "execute_result"
    }
   ],
   "source": [
    "# Calculate the required quantities\n",
    "num_training_examples = data.train_x.shape[0]\n",
    "num_test_examples = data.val_x.shape[0]\n",
    "pixels_per_image = data.train_x.shape[1]\n",
    "\n",
    "num_training_examples\n",
    "num_test_examples\n",
    "pixels_per_image"
   ]
  },
  {
   "cell_type": "code",
   "execution_count": 6,
   "metadata": {
    "deletable": false,
    "editable": false,
    "nbgrader": {
     "cell_type": "code",
     "checksum": "c94ee92e257c294077b0b3e323a890b0",
     "grade": true,
     "grade_id": "cell-025e862a5d134f86",
     "locked": true,
     "points": 5,
     "schema_version": 3,
     "solution": false,
     "task": false
    }
   },
   "outputs": [],
   "source": [
    "# tests num_training_exampls, num_test_examples and pixels_per_image"
   ]
  },
  {
   "cell_type": "markdown",
   "metadata": {
    "deletable": false,
    "editable": false,
    "nbgrader": {
     "cell_type": "markdown",
     "checksum": "4dd76b46af049fb415b4c73aeafb95b5",
     "grade": false,
     "grade_id": "cell-7b3967987775d7c7",
     "locked": true,
     "schema_version": 3,
     "solution": false,
     "task": false
    }
   },
   "source": [
    "Now that we have our MNIST data in the right form, let us move on to building our KNN classifier."
   ]
  },
  {
   "cell_type": "markdown",
   "metadata": {
    "deletable": false,
    "editable": false,
    "nbgrader": {
     "cell_type": "markdown",
     "checksum": "2442f09b3dd05f5edaf396c346346784",
     "grade": false,
     "grade_id": "cell-757b46aa24e4f614",
     "locked": true,
     "schema_version": 3,
     "solution": false,
     "task": false
    }
   },
   "source": [
    "**Part 2 [10 points]**: Modify the class above to implement a KNN classifier.  There are three methods that you need to complete: \n",
    "\n",
    "- `predict`: Given an $m \\times p$ matrix of validation data with $m$ examples each with $p$ features, return a length-$m$ vector of predicted labels by calling the `classify` function on each example. \n",
    "- `classify`: Given a single query example with $p$ features, return its predicted class label as an integer using KNN by calling the `majority` function. \n",
    "- `majority`: Given an array of indices into the training set corresponding to the $K$ training examples that are nearest to the query point, return the majority label as an integer.  If there is a tie for the majority label using $K$ nearest neighbors, reduce $K$ by 1 and try again.  Continue reducing $K$ until there is a winning label. \n",
    "\n",
    "**Notes**: \n",
    "- Don't even think about implementing nearest-neighbor search or any distance metrics yourself.  Instead, go read the documentation for Scikit-Learn's [BallTree](http://scikit-learn.org/stable/modules/generated/sklearn.neighbors.BallTree.html) object.  You will find that its implemented [query](http://scikit-learn.org/stable/modules/generated/sklearn.neighbors.BallTree.html#sklearn.neighbors.BallTree.query) method can do most of the heavy lifting for you. \n",
    "- Do not use Scikit-Learn's KNeighborsClassifier in this problem.  We're implementing this ourselves. \n",
    "- Use the visible test cases to validate your code. "
   ]
  },
  {
   "cell_type": "code",
   "execution_count": 7,
   "metadata": {
    "deletable": false,
    "nbgrader": {
     "cell_type": "code",
     "checksum": "bebfcbe8eb23d8306298a4161430358c",
     "grade": false,
     "grade_id": "cell-814a5ca0dfd2a437",
     "locked": false,
     "schema_version": 3,
     "solution": true,
     "task": false
    }
   },
   "outputs": [],
   "source": [
    "class KNN:\n",
    "    \"\"\"\n",
    "    Class to store data for regression problems \n",
    "    \"\"\"\n",
    "    def __init__(self, x_train, y_train, K=5):\n",
    "        \"\"\"\n",
    "        Creates a kNN instance\n",
    "\n",
    "        :param x_train: numpy array with shape (n_rows,1)- e.g. [[1,2],[3,4]]\n",
    "        :param y_train: numpy array with shape (n_rows,)- e.g. [1,-1]\n",
    "        :param K: The number of nearest points to consider in classification\n",
    "        \"\"\"\n",
    "        \n",
    "        # Import and build the BallTree on training features \n",
    "        from sklearn.neighbors import BallTree\n",
    "        self.balltree = BallTree(x_train)\n",
    "        \n",
    "        # Cache training labels and parameter K \n",
    "        self.y_train = y_train\n",
    "        self.K = K \n",
    "        \n",
    "        \n",
    "    def majority(self, neighbor_indices, neighbor_distances=None):\n",
    "        \"\"\"\n",
    "        Given indices of nearest neighbors in training set, return the majority label. \n",
    "        Break ties by considering 1 fewer neighbor until a clear winner is found. \n",
    "\n",
    "        :param neighbor_indices: The indices of the K nearest neighbors in self.X_train \n",
    "        :param neighbor_distances: Corresponding distances from query point to K nearest neighbors. \n",
    "        \"\"\"\n",
    "        \n",
    "        while len(neighbor_indices) > 0:\n",
    "            nearest_labels = self.y_train[neighbor_indices]\n",
    "            labels, counts = np.unique(nearest_labels, return_counts=True)\n",
    "            max_count = counts.max()\n",
    "            majority_labels = labels[counts == max_count]\n",
    "            if len(majority_labels) == 1:\n",
    "                return majority_labels[0]\n",
    "            neighbor_indices = neighbor_indices[:-1]  # Reduce K by 1\n",
    "        \n",
    "            \n",
    "        \n",
    "    def classify(self, x):\n",
    "        \"\"\"\n",
    "        Given a query point, return the predicted label \n",
    "        \n",
    "        :param x: a query point stored as an ndarray  \n",
    "        \"\"\"\n",
    "        dist, ind = self.balltree.query([x], k=self.K)\n",
    "        return self.majority(ind[0])\n",
    "        \n",
    "        \n",
    "    def predict(self, X):\n",
    "        \"\"\"\n",
    "        Given an ndarray of query points, return yhat, an ndarray of predictions \n",
    "\n",
    "        :param X: an (m x p) dimension ndarray of points to predict labels for \n",
    "        \"\"\"\n",
    "        return np.array([self.classify(x) for x in X])\n",
    "        "
   ]
  },
  {
   "cell_type": "code",
   "execution_count": 8,
   "metadata": {
    "deletable": false,
    "editable": false,
    "nbgrader": {
     "cell_type": "code",
     "checksum": "a1e3e53930d0e787d74c48ba08c6cb14",
     "grade": true,
     "grade_id": "cell-bdd65358a58b050e",
     "locked": true,
     "points": 1,
     "schema_version": 3,
     "solution": false,
     "task": false
    }
   },
   "outputs": [],
   "source": [
    "# Sample tests for KNN class\n",
    "\n",
    "import pytest\n",
    "# set-up\n",
    "X_train = np.array([[1,6], [6,4], [2,5], [1,3], [2,2], [3,1], [1,5], [2,3], [4,6], [3,5], [6,5], [0,4]])\n",
    "y_train = np.array([+1, -1, +1, +1, -1, +1, +1, -1, +1, -1, +1, -1])\n",
    "x = np.array([0,5])\n",
    "\n",
    "# test k=2,\n",
    "k2nn = KNN(X_train, y_train, K=2)\n",
    "assert -1 == pytest.approx(k2nn.classify(x)), \"KNN class doesn't perform as expected with two neighbors\"\n",
    "\n",
    "\n",
    "# test k=3\n",
    "k3nn = KNN(X_train, y_train, K=3) \n",
    "assert 1 == pytest.approx(k3nn.classify(x)), \"KNN class doesn't perform as expected with three neighbors\"\n",
    "\n",
    "\n",
    "# test 3NN Predict \n",
    "X = np.array([[2,5], [5,1]])\n",
    "k3p = KNN(X_train, y_train, K=3) \n",
    "yhat = k3p.predict(X)\n",
    "\n",
    "# correct labels for the above two points(X).\n",
    "ytrue = [1, -1]\n",
    "\n",
    "for yh, yt in zip(yhat, ytrue):\n",
    "    assert yh == yt, \"Look at the predict function in the KNN class.\""
   ]
  },
  {
   "cell_type": "code",
   "execution_count": 9,
   "metadata": {
    "deletable": false,
    "editable": false,
    "nbgrader": {
     "cell_type": "code",
     "checksum": "8cd44beb24abc8bd842279bea691e098",
     "grade": true,
     "grade_id": "cell-d92321e3b2c6d5f7",
     "locked": true,
     "points": 10,
     "schema_version": 3,
     "solution": false,
     "task": false
    }
   },
   "outputs": [],
   "source": [
    "# tests KNN class\n"
   ]
  },
  {
   "cell_type": "markdown",
   "metadata": {
    "deletable": false,
    "editable": false,
    "nbgrader": {
     "cell_type": "markdown",
     "checksum": "4c9a5a7e158286b71078023d8f510af4",
     "grade": false,
     "grade_id": "cell-ce189b2957563a2b",
     "locked": true,
     "schema_version": 3,
     "solution": false,
     "task": false
    }
   },
   "source": [
    "**Part 3 : Checking how well your classifier does**\n",
    "Use your `KNN` class to perform KNN on the validation data with $K=3$ and do the following: \n",
    "\n",
    "- **[Peer Review]** Create a **confusion matrix** (feel free to use the Scikit-Learn [confusion_matrix](http://scikit-learn.org/stable/modules/generated/sklearn.metrics.confusion_matrix.html) function). Upload a screenshot or copy of your confusion matrix for this week's Peer Review assignment.<br>\n",
    "**Note:** your code for this section may cause the Validate button to time out. If you want to run the Validate button prior to submitting, you could comment out the code in this section after completing the Peer Review."
   ]
  },
  {
   "cell_type": "code",
   "execution_count": 10,
   "metadata": {
    "deletable": false,
    "nbgrader": {
     "cell_type": "code",
     "checksum": "7f4c9391a02b6a0b7b558d3daf24e8d8",
     "grade": false,
     "grade_id": "cell-acaff11620e9a669",
     "locked": false,
     "schema_version": 3,
     "solution": true,
     "task": false
    }
   },
   "outputs": [
    {
     "name": "stdout",
     "output_type": "stream",
     "text": [
      "Confusion Matrix:\n",
      "[[112   0   0   0   0   0   1   0   0   0]\n",
      " [  0 106   0   0   0   0   0   1   0   1]\n",
      " [  1   2  86   2   0   0   0   2   0   0]\n",
      " [  1   1   0 111   0   2   0   0   0   0]\n",
      " [  0   2   0   0  82   0   0   0   0   4]\n",
      " [  0   0   0   2   2  75   1   0   0   0]\n",
      " [  0   0   0   0   0   1 104   0   2   0]\n",
      " [  0   2   0   0   0   1   0  93   0   5]\n",
      " [  1   1   0   1   1   0   2   1  81   1]\n",
      " [  1   0   0   1   2   0   0   2   0 100]]\n"
     ]
    }
   ],
   "source": [
    "# use your KNN class to perform KNN on the validation data with K = 3\n",
    "# knn = \n",
    "# val_yhat = \n",
    "\n",
    "# create a confusion matrix \n",
    "\n",
    "from sklearn.metrics import accuracy_score, classification_report, confusion_matrix\n",
    "from sklearn.neighbors import BallTree\n",
    "\n",
    "# Perform KNN with K=3\n",
    "knn_classifier = KNN(data.train_x, data.train_y, K=3)\n",
    "\n",
    "# Predict on validation data\n",
    "val_yhat = knn_classifier.predict(data.val_x)\n",
    "\n",
    "# Create confusion matrix\n",
    "conf_matrix = confusion_matrix(data.val_y, val_yhat)\n",
    "print('Confusion Matrix:')\n",
    "print(conf_matrix)\n"
   ]
  },
  {
   "cell_type": "code",
   "execution_count": 11,
   "metadata": {},
   "outputs": [
    {
     "name": "stdout",
     "output_type": "stream",
     "text": [
      "(1000, 784)\n"
     ]
    }
   ],
   "source": [
    "print(data.val_x.shape)"
   ]
  },
  {
   "cell_type": "markdown",
   "metadata": {
    "deletable": false,
    "editable": false,
    "nbgrader": {
     "cell_type": "markdown",
     "checksum": "0495640cf8371a30a7da5b25e07cefe8",
     "grade": false,
     "grade_id": "cell-92d48cabe43f95ef",
     "locked": true,
     "schema_version": 3,
     "solution": false,
     "task": false
    }
   },
   "source": [
    "Based on your confusion matrix, which digits seem to get confused with other digits the most? Put your answer in this week's Peer Review assignment."
   ]
  },
  {
   "cell_type": "markdown",
   "metadata": {},
   "source": [
    "Based on the provided confusion matrix, we can analyze which digits are most often confused with others. Here is a detailed breakdown:\n",
    "\n",
    "```\n",
    "Confusion Matrix:\n",
    "[[112   0   0   0   0   0   1   0   0   0]\n",
    " [  0 106   0   0   0   0   0   1   0   1]\n",
    " [  1   2  86   2   0   0   0   2   0   0]\n",
    " [  1   1   0 111   0   2   0   0   0   0]\n",
    " [  0   2   0   0  82   0   0   0   0   4]\n",
    " [  0   0   0   2   2  75   1   0   0   0]\n",
    " [  0   0   0   0   0   1 104   0   2   0]\n",
    " [  0   2   0   0   0   1   0  93   0   5]\n",
    " [  1   1   0   1   1   0   2   1  81   1]\n",
    " [  1   0   0   1   2   0   0   2   0 100]]\n",
    "```\n",
    "\n",
    "### Analysis:\n",
    "- **Digit 0**: Rarely confused, with only 1 instance being misclassified as digit 6.\n",
    "- **Digit 1**: Mostly correctly classified, with very few confusions.\n",
    "- **Digit 2**: Some confusion with digits 1 and 3.\n",
    "- **Digit 3**: Few confusions with digits 1 and 5.\n",
    "- **Digit 4**: Confused with digit 9.\n",
    "- **Digit 5**: Confused with digits 3 and 4.\n",
    "- **Digit 6**: Confused with digits 5 and 8.\n",
    "- **Digit 7**: Confused with digits 1 and 9.\n",
    "- **Digit 8**: Confused with digits 0, 1, 3, 4, 6, and 9.\n",
    "- **Digit 9**: Confused with digits 4, 7, and 8.\n",
    "\n",
    "### Common Confusions:\n",
    "- **Digit 2** with digits 1 and 3.\n",
    "- **Digit 4** with digit 9.\n",
    "- **Digit 5** with digits 3 and 4.\n",
    "- **Digit 8** with several other digits, indicating it has more ambiguity."
   ]
  },
  {
   "cell_type": "markdown",
   "metadata": {
    "deletable": false,
    "editable": false,
    "nbgrader": {
     "cell_type": "markdown",
     "checksum": "a142e80e1e30612d3ff4717d60281f57",
     "grade": false,
     "grade_id": "cell-d7a33a558ddc8690",
     "locked": true,
     "schema_version": 3,
     "solution": false,
     "task": false
    }
   },
   "source": [
    "**Accuracy Plot [Peer Review]**: Create a plot of the accuracy of the KNN on the test set on the same set of axes for  𝐾=1,2,…,20  (feel free to go out to  𝐾=30  if your implementation is efficient enough to allow it). <br>\n",
    "Upload a copy or screenshot of the plot for this week's Peer Review assignment. <br>\n",
    "**Note:** your code for this section may cause the Validate button to time out. If you want to run the Validate button prior to submitting, you could comment out the code in this section after completing the Peer Review."
   ]
  },
  {
   "cell_type": "code",
   "execution_count": 12,
   "metadata": {
    "deletable": false,
    "nbgrader": {
     "cell_type": "code",
     "checksum": "52620d488b42fbf7c219d86081e036a2",
     "grade": false,
     "grade_id": "cell-711e2eff0fa2c38e",
     "locked": false,
     "schema_version": 3,
     "solution": true,
     "task": false
    }
   },
   "outputs": [
    {
     "data": {
      "image/png": "[encoded data removed]",
      "text/plain": [
       "<Figure size 864x504 with 1 Axes>"
      ]
     },
     "metadata": {
      "needs_background": "light"
     },
     "output_type": "display_data"
    },
    {
     "name": "stdout",
     "output_type": "stream",
     "text": [
      "The value of K that results in the highest accuracy is: 3\n"
     ]
    }
   ],
   "source": [
    "# Plot accuracy for K=1, 2, ..., 30\n",
    "acc = []\n",
    "allks = range(1, 10)\n",
    "\n",
    "for k in allks:\n",
    "    knn_classifier = KNN(data.train_x, data.train_y, K=k)\n",
    "    val_yhat = knn_classifier.predict(data.val_x)\n",
    "    acc.append(accuracy_score(data.val_y, val_yhat))\n",
    "\n",
    "# Plot the results\n",
    "fig, ax = plt.subplots(nrows=1, ncols=1, figsize=(12, 7))\n",
    "ax.plot(allks, acc, marker=\"o\", color=\"steelblue\", lw=3, label=\"unweighted\")\n",
    "ax.set_xlabel(\"Number of Neighbors (K)\", fontsize=16)\n",
    "ax.set_ylabel(\"Accuracy\", fontsize=16)\n",
    "plt.xticks(range(1, 31, 2))\n",
    "ax.grid(alpha=0.25)\n",
    "plt.legend()\n",
    "plt.title(\"Accuracy of KNN for different values of K\")\n",
    "plt.show()\n",
    "\n",
    "# Print the value of K that results in highest accuracy\n",
    "best_k = allks[np.argmax(acc)]\n",
    "print(f\"The value of K that results in the highest accuracy is: {best_k}\")"
   ]
  },
  {
   "cell_type": "markdown",
   "metadata": {
    "deletable": false,
    "editable": false,
    "nbgrader": {
     "cell_type": "markdown",
     "checksum": "61096e84f3707ad26d803b37994e9a3f",
     "grade": false,
     "grade_id": "cell-908f560defd729eb",
     "locked": true,
     "schema_version": 3,
     "solution": false,
     "task": false
    }
   },
   "source": [
    "Based on the plot, which value of K results in highest accuracy? Answer this question in this week's Peer Review assignment."
   ]
  },
  {
   "cell_type": "markdown",
   "metadata": {},
   "source": [
    "The value of K that results in the highest accuracy is: 3"
   ]
  },
  {
   "cell_type": "markdown",
   "metadata": {
    "deletable": false,
    "editable": false,
    "nbgrader": {
     "cell_type": "markdown",
     "checksum": "b5eb52badfea436c0e617a0f48971e33",
     "grade": false,
     "grade_id": "cell-6c04a2c214c40b6d",
     "locked": true,
     "schema_version": 3,
     "solution": false,
     "task": false
    }
   },
   "source": [
    "### Problem 2: Decision Tree, post-pruning and cost complexity parameter using sklearn 0.22 [10 points, Peer Review]\n",
    "\n",
    "We will use a pre-processed natural language dataset in the CSV file \"spamdata.csv\" to classify emails as spam or not. Each row contains the word frequency for 54 words plus statistics on the longest \"run\" of captial letters.\n",
    "\n",
    "Word frequency is given by:\n",
    "\n",
    "$$ f_i = m_i / N $$\n",
    "Where $f_i$ is the frequency for word $i$, $m_i$ is the number of times word $i$ appears in the email, and $N$ is the total number of words in the email.\n",
    "\n",
    "We will use decision trees to classify the emails."
   ]
  },
  {
   "cell_type": "markdown",
   "metadata": {
    "deletable": false,
    "editable": false,
    "nbgrader": {
     "cell_type": "markdown",
     "checksum": "bc1f6812e3d28419717e8254ba3dc686",
     "grade": false,
     "grade_id": "cell-9469ebbf05e61aa4",
     "locked": true,
     "schema_version": 3,
     "solution": false,
     "task": false
    }
   },
   "source": [
    "**Part A [5 points]:** Complete the function `get_spam_dataset` to read in values from the dataset and split the data into train and test sets."
   ]
  },
  {
   "cell_type": "code",
   "execution_count": 13,
   "metadata": {
    "deletable": false,
    "nbgrader": {
     "cell_type": "code",
     "checksum": "50e2a3d7113d38af8c84d44ed0e009d4",
     "grade": false,
     "grade_id": "cell-f3baeed090895e48",
     "locked": false,
     "schema_version": 3,
     "solution": true,
     "task": false
    }
   },
   "outputs": [],
   "source": [
    "# def get_spam_dataset(filepath=\"data/spamdata.csv\", test_split=0.1):\n",
    "#     '''\n",
    "#     get_spam_dataset\n",
    "    \n",
    "#     Loads csv file located at \"filepath\". Shuffles the data and splits\n",
    "#     it so that the you have (1-test_split)*100% training examples and \n",
    "#     (test_split)*100% testing examples.\n",
    "    \n",
    "#     Args:\n",
    "#         filepath: location of the csv file\n",
    "#         test_split: percentage/100 of the data should be the testing split\n",
    "        \n",
    "#     Returns:\n",
    "#         X_train, X_test, y_train, y_test, feature_names\n",
    "#         Note: feature_names is a list of all column names including isSpam.\n",
    "        \n",
    "#         (in that order)\n",
    "#         first four are  np.ndarray\n",
    "        \n",
    "#     '''\n",
    "    \n",
    "#     # your code here\n",
    "    \n",
    "    \n",
    "#     return 0"
   ]
  },
  {
   "cell_type": "code",
   "execution_count": 14,
   "metadata": {},
   "outputs": [],
   "source": [
    "import pandas as pd\n",
    "from sklearn.model_selection import train_test_split\n",
    "\n",
    "def get_spam_dataset(filepath=\"data/spamdata.csv\", test_split=0.1):\n",
    "    '''\n",
    "    get_spam_dataset\n",
    "    \n",
    "    Loads csv file located at \"filepath\". Shuffles the data and splits\n",
    "    it so that you have (1-test_split)*100% training examples and \n",
    "    (test_split)*100% testing examples.\n",
    "    \n",
    "    Args:\n",
    "        filepath: location of the csv file\n",
    "        test_split: percentage/100 of the data should be the testing split\n",
    "        \n",
    "    Returns:\n",
    "        X_train, X_test, y_train, y_test, feature_names\n",
    "        Note: feature_names is a list of all column names including isSpam.\n",
    "        \n",
    "        (in that order)\n",
    "        first four are  np.ndarray\n",
    "        \n",
    "    '''\n",
    "    \n",
    "    # Load the dataset (assuming it's a comma-separated CSV)\n",
    "    data = pd.read_csv(filepath, sep=\" \")\n",
    "    \n",
    "    # Shuffle the data\n",
    "    data = data.sample(frac=1, random_state=42).reset_index(drop=True)\n",
    "    \n",
    "    # Split into features and labels\n",
    "    X = data.drop(columns=[\"isSPAM\"]).values\n",
    "    y = data[\"isSPAM\"].values\n",
    "    \n",
    "    # Get the feature names (including the label \"isSPAM\")\n",
    "    feature_names = data.columns.tolist()\n",
    "    \n",
    "    # Split the data into train and test sets\n",
    "    X_train, X_test, y_train, y_test = train_test_split(X, y, test_size=test_split, random_state=42)\n",
    "    \n",
    "    return X_train, X_test, y_train, y_test, feature_names\n"
   ]
  },
  {
   "cell_type": "code",
   "execution_count": 15,
   "metadata": {
    "deletable": false,
    "nbgrader": {
     "cell_type": "code",
     "checksum": "5a0789333a32dedee674a1bebfddbf2e",
     "grade": false,
     "grade_id": "cell-97feaa6f4996b640",
     "locked": false,
     "schema_version": 3,
     "solution": true,
     "task": false
    }
   },
   "outputs": [],
   "source": [
    "# TO-DO: import the data set into five variables: X_train, X_test, y_train, y_test, label_names\n",
    "# Uncomment and edit the line below to complete this task.\n",
    "\n",
    "test_split = 0.1 # default test_split; change it if you'd like; ensure that this variable is used as an argument to your function\n",
    "# your code here\n",
    "\n",
    "X_train, X_test, y_train, y_test, label_names = get_spam_dataset()"
   ]
  },
  {
   "cell_type": "code",
   "execution_count": 16,
   "metadata": {},
   "outputs": [
    {
     "data": {
      "text/plain": [
       "((4140, 57),\n",
       " (461, 57),\n",
       " (4140,),\n",
       " (461,),\n",
       " ['word_freq_make',\n",
       "  'word_freq_address',\n",
       "  'word_freq_all',\n",
       "  'word_freq_3d',\n",
       "  'word_freq_our',\n",
       "  'word_freq_over',\n",
       "  'word_freq_remove',\n",
       "  'word_freq_internet',\n",
       "  'word_freq_order',\n",
       "  'word_freq_mail',\n",
       "  'word_freq_receive',\n",
       "  'word_freq_will',\n",
       "  'word_freq_people',\n",
       "  'word_freq_report',\n",
       "  'word_freq_addresses',\n",
       "  'word_freq_free',\n",
       "  'word_freq_business',\n",
       "  'word_freq_email',\n",
       "  'word_freq_you',\n",
       "  'word_freq_credit',\n",
       "  'word_freq_your',\n",
       "  'word_freq_font',\n",
       "  'word_freq_000',\n",
       "  'word_freq_money',\n",
       "  'word_freq_hp',\n",
       "  'word_freq_hpl',\n",
       "  'word_freq_george',\n",
       "  'word_freq_650',\n",
       "  'word_freq_lab',\n",
       "  'word_freq_labs',\n",
       "  'word_freq_telnet',\n",
       "  'word_freq_857',\n",
       "  'word_freq_data',\n",
       "  'word_freq_415',\n",
       "  'word_freq_85',\n",
       "  'word_freq_technology',\n",
       "  'word_freq_1999',\n",
       "  'word_freq_parts',\n",
       "  'word_freq_pm',\n",
       "  'word_freq_direct',\n",
       "  'word_freq_cs',\n",
       "  'word_freq_meeting',\n",
       "  'word_freq_original',\n",
       "  'word_freq_project',\n",
       "  'word_freq_re',\n",
       "  'word_freq_edu',\n",
       "  'word_freq_table',\n",
       "  'word_freq_conference',\n",
       "  'char_freq_;',\n",
       "  'char_freq_(',\n",
       "  'char_freq_[',\n",
       "  'char_freq_!',\n",
       "  'char_freq_$',\n",
       "  'char_freq_#',\n",
       "  'capital_run_length_average',\n",
       "  'capital_run_length_longest',\n",
       "  'capital_run_length_total',\n",
       "  'isSPAM'])"
      ]
     },
     "execution_count": 16,
     "metadata": {},
     "output_type": "execute_result"
    }
   ],
   "source": [
    "X_train.shape, X_test.shape, y_train.shape, y_test.shape, label_names"
   ]
  },
  {
   "cell_type": "code",
   "execution_count": 17,
   "metadata": {
    "deletable": false,
    "editable": false,
    "nbgrader": {
     "cell_type": "code",
     "checksum": "ad91df4ce877aeee1d8fa2b02181d7c9",
     "grade": true,
     "grade_id": "cell-d0ee21615c2bf06e",
     "locked": true,
     "points": 5,
     "schema_version": 3,
     "solution": false,
     "task": false
    }
   },
   "outputs": [],
   "source": [
    "# tests X_train, X_test, y_train, y_test, and label_names"
   ]
  },
  {
   "cell_type": "markdown",
   "metadata": {
    "deletable": false,
    "editable": false,
    "nbgrader": {
     "cell_type": "markdown",
     "checksum": "9f913d6e2d2867fe04de71bc061fe4f3",
     "grade": false,
     "grade_id": "cell-ac7a846b7ca9e011",
     "locked": true,
     "schema_version": 3,
     "solution": false,
     "task": false
    }
   },
   "source": [
    "**Part B[5 points]** : Build a decision tree classifier using the sklearn toolbox. Then compute metrics for performance like precision and recall. This is a binary classification problem, therefore we can label all points as either positive (SPAM) or negative (NOT SPAM)."
   ]
  },
  {
   "cell_type": "code",
   "execution_count": 18,
   "metadata": {
    "deletable": false,
    "nbgrader": {
     "cell_type": "code",
     "checksum": "9e5ad34ff48b83143942a7ed8582e7d6",
     "grade": false,
     "grade_id": "cell-146547fa0aaeaff9",
     "locked": false,
     "schema_version": 3,
     "solution": true,
     "task": false
    }
   },
   "outputs": [],
   "source": [
    "def build_dt(data_X, data_y, max_depth = None, max_leaf_nodes =None):\n",
    "    '''\n",
    "    This function does the following:\n",
    "    1. Builds the decision tree classifier using sklearn \n",
    "    2. Fits it to the provided data.\n",
    "    \n",
    "    \n",
    "    Arguments\n",
    "        data_X - a np.ndarray\n",
    "        data_y - np.ndarray\n",
    "        max_depth - None if unrestricted, otherwise an integer for the maximum\n",
    "                depth the tree can reach.\n",
    "    \n",
    "    Returns:\n",
    "        A trained DecisionTreeClassifier\n",
    "    '''\n",
    "    \n",
    "    # Initialize the DecisionTreeClassifier with the specified parameters\n",
    "    clf = DecisionTreeClassifier(max_depth=max_depth, max_leaf_nodes=max_leaf_nodes, random_state=42)\n",
    "    \n",
    "    # Fit the classifier to the data\n",
    "    clf.fit(data_X, data_y)\n",
    "    \n",
    "    return clf\n",
    "    "
   ]
  },
  {
   "cell_type": "code",
   "execution_count": 19,
   "metadata": {
    "deletable": false,
    "editable": false,
    "nbgrader": {
     "cell_type": "code",
     "checksum": "29a2871246fc9d1c2bbfb5eb2df09a03",
     "grade": true,
     "grade_id": "cell-0553f9f288fa9ab7",
     "locked": true,
     "points": 5,
     "schema_version": 3,
     "solution": false,
     "task": false
    }
   },
   "outputs": [],
   "source": [
    "# tests build_dt"
   ]
  },
  {
   "cell_type": "markdown",
   "metadata": {
    "deletable": false,
    "editable": false,
    "nbgrader": {
     "cell_type": "markdown",
     "checksum": "62e6ffd8575846c88074465417525f66",
     "grade": false,
     "grade_id": "cell-908ed30f5b48c007",
     "locked": true,
     "schema_version": 3,
     "solution": false,
     "task": false
    }
   },
   "source": [
    "**Part C [Peer Review]**: Here we are going to use `calculate_precision` and `calculate_recall` functions to see how these metrics change when parameters of the tree are changed."
   ]
  },
  {
   "cell_type": "code",
   "execution_count": 20,
   "metadata": {
    "deletable": false,
    "nbgrader": {
     "cell_type": "code",
     "checksum": "38e13d79f432ee27852aa6c531d14c47",
     "grade": false,
     "grade_id": "cell-e4e597da7a07ff30",
     "locked": false,
     "schema_version": 3,
     "solution": true,
     "task": false
    }
   },
   "outputs": [],
   "source": [
    "def calculate_precision(y_true, y_pred, pos_label_value=1.0):\n",
    "    '''\n",
    "    This function accepts the labels and the predictions, then\n",
    "    calculates precision for a binary classifier.\n",
    "    \n",
    "    Args\n",
    "        y_true: np.ndarray\n",
    "        y_pred: np.ndarray\n",
    "        \n",
    "        pos_label_value: (float) the number which represents the postiive\n",
    "        label in the y_true and y_pred arrays. Other numbers will be taken\n",
    "        to be the non-positive class for the binary classifier.\n",
    "    \n",
    "    Returns precision as a floating point number between 0.0 and 1.0\n",
    "    '''\n",
    "    \n",
    "    \n",
    "    true_positive = np.sum((y_pred == pos_label_value) & (y_true == pos_label_value))\n",
    "    predicted_positive = np.sum(y_pred == pos_label_value)\n",
    "    \n",
    "    if predicted_positive == 0:\n",
    "        return 0.0\n",
    "    \n",
    "    precision = true_positive / predicted_positive\n",
    "    \n",
    "    return precision\n",
    "\n",
    "def calculate_recall(y_true, y_pred, pos_label_value=1.0):\n",
    "    '''\n",
    "    This function accepts the labels and the predictions, then\n",
    "    calculates recall for a binary classifier.\n",
    "    \n",
    "    Args\n",
    "        y_true: np.ndarray\n",
    "        y_pred: np.ndarray\n",
    "        \n",
    "        pos_label_value: (float) the number which represents the postiive\n",
    "        label in the y_true and y_pred arrays. Other numbers will be taken\n",
    "        to be the non-positive class for the binary classifier.\n",
    "    \n",
    "    Returns precision as a floating point number between 0.0 and 1.0\n",
    "    '''\n",
    "    \n",
    "    true_positive = np.sum((y_pred == pos_label_value) & (y_true == pos_label_value))\n",
    "    actual_positive = np.sum(y_true == pos_label_value)\n",
    "    \n",
    "    if actual_positive == 0:\n",
    "        return 0.0\n",
    "    \n",
    "    recall = true_positive / actual_positive\n",
    "    \n",
    "    return recall"
   ]
  },
  {
   "cell_type": "code",
   "execution_count": 21,
   "metadata": {
    "deletable": false,
    "editable": false,
    "nbgrader": {
     "cell_type": "code",
     "checksum": "bd31ca1d39892635a80e8ea06440178a",
     "grade": true,
     "grade_id": "cell-d72108d77e073ab2",
     "locked": true,
     "points": 1,
     "schema_version": 3,
     "solution": false,
     "task": false
    }
   },
   "outputs": [],
   "source": [
    "# Sample Test cell \n",
    "ut_true = np.array([1.0, 1.0, 0.0, 1.0, 1.0, 0.0])\n",
    "ut_pred = np.array([1.0, 1.0, 1.0, 1.0, 0.0, 1.0])\n",
    "prec = calculate_precision(ut_true, ut_pred, 1.0)\n",
    "recall = calculate_recall(ut_true, ut_pred, 1.0)\n",
    "assert prec == 0.6, \"Check the precision value returned from your calculate_precision function.\"\n",
    "assert recall == 0.75, \"Check the recall value returned from your calculate_recall function.\""
   ]
  },
  {
   "cell_type": "markdown",
   "metadata": {
    "deletable": false,
    "editable": false,
    "nbgrader": {
     "cell_type": "markdown",
     "checksum": "d54a43e52d8af89861e0f9649cbba75f",
     "grade": false,
     "grade_id": "cell-9bcac958bcd924d9",
     "locked": true,
     "schema_version": 3,
     "solution": false,
     "task": false
    }
   },
   "source": [
    "1. Modifying `max_depth`: \n",
    "    - Create a model with a shallow `max_depth` of 2. Build the model on the training set.\n",
    "    - Report precision/recall on the test set.\n",
    "    - Report depth of the tree."
   ]
  },
  {
   "cell_type": "code",
   "execution_count": 22,
   "metadata": {
    "deletable": false,
    "nbgrader": {
     "cell_type": "code",
     "checksum": "2b2c143cde976b29c7cbef81b2dd80d3",
     "grade": false,
     "grade_id": "cell-4da56f168aee9716",
     "locked": false,
     "schema_version": 3,
     "solution": true,
     "task": false
    }
   },
   "outputs": [
    {
     "name": "stdout",
     "output_type": "stream",
     "text": [
      "Precision: 0.84 Recall: 0.71 Tree Depth: 2\n"
     ]
    }
   ],
   "source": [
    "# TODO : Complete the first subtask for max_depth\n",
    "\n",
    "dt = build_dt(X_train, y_train, max_depth=2, max_leaf_nodes=None)\n",
    "\n",
    "\n",
    "y_test_hat = dt.predict(X_test) \n",
    "\n",
    "\n",
    "prediction = calculate_precision(y_test, y_test_hat)\n",
    "\n",
    "\n",
    "recall = calculate_recall(y_test, y_test_hat)\n",
    "\n",
    "print(\"Precision: {:0.2f} Recall: {:0.2f} Tree Depth: {}\".format(prediction, recall, dt.get_depth()))\n"
   ]
  },
  {
   "cell_type": "markdown",
   "metadata": {
    "deletable": false,
    "editable": false,
    "nbgrader": {
     "cell_type": "markdown",
     "checksum": "a9cc67af060fd8be13c7d392e321d592",
     "grade": false,
     "grade_id": "cell-435dc1ed96be4a55",
     "locked": true,
     "schema_version": 3,
     "solution": false,
     "task": false
    }
   },
   "source": [
    "Submit a screenshot of your code for this week's Peer Review assignment. "
   ]
  },
  {
   "cell_type": "markdown",
   "metadata": {
    "deletable": false,
    "editable": false,
    "nbgrader": {
     "cell_type": "markdown",
     "checksum": "af188b551f93958b5443413c3aa08ed0",
     "grade": false,
     "grade_id": "cell-ef216e433b64fead",
     "locked": true,
     "schema_version": 3,
     "solution": false,
     "task": false
    }
   },
   "source": [
    "2. Modifying `max_leaf_nodes`:\n",
    "    - Create a model with a shallow `max_leaf_nodes` of 4. Build the model on the training set.\n",
    "    - Report precision/recall on the test set.\n",
    "    - Report depth of the tree."
   ]
  },
  {
   "cell_type": "code",
   "execution_count": 23,
   "metadata": {
    "deletable": false,
    "nbgrader": {
     "cell_type": "code",
     "checksum": "36117a89f23b8f5263b11a7a83dad48b",
     "grade": false,
     "grade_id": "cell-ab9251af73821eb8",
     "locked": false,
     "schema_version": 3,
     "solution": true,
     "task": false
    }
   },
   "outputs": [
    {
     "name": "stdout",
     "output_type": "stream",
     "text": [
      "Precision: 0.84 Recall: 0.71 Tree Depth: 2\n"
     ]
    }
   ],
   "source": [
    "# TODO : Complete the second subtask for max_depth\n",
    "\n",
    "clf_leaf_nodes_4 = build_dt(X_train, y_train, max_depth = None, max_leaf_nodes=4)\n",
    "\n",
    "y_test_hat = clf_leaf_nodes_4.predict(X_test)\n",
    "\n",
    "prediction = calculate_precision(y_test, y_test_hat)\n",
    "\n",
    "\n",
    "recall = calculate_recall(y_test, y_test_hat)\n",
    "\n",
    "print(\"Precision: {:0.2f} Recall: {:0.2f} Tree Depth: {}\".format(prediction, recall, dt.get_depth()))\n"
   ]
  },
  {
   "cell_type": "markdown",
   "metadata": {
    "deletable": false,
    "editable": false,
    "nbgrader": {
     "cell_type": "markdown",
     "checksum": "327ff43b17aecaa30f8dd42e7d2bca2f",
     "grade": false,
     "grade_id": "cell-1eb1aaf40d8bd956",
     "locked": true,
     "schema_version": 3,
     "solution": false,
     "task": false
    }
   },
   "source": [
    "In your Peer Review answer the following question: <br>\n",
    "How do precision and recall compare when you modify the max depth compared to the max number of leaf nodes? \n",
    "(Make sure to run your models a few times to get an idea). "
   ]
  },
  {
   "cell_type": "markdown",
   "metadata": {},
   "source": [
    "1. **Modifying `max_depth`:** The decision tree was limited to a maximum depth of 2, which yielded a precision of 0.84 and a recall of 0.71.\n",
    "   \n",
    "2. **Modifying `max_leaf_nodes`:** The decision tree was limited to a maximum of 4 leaf nodes, which also yielded the same precision of 0.84 and recall of 0.71.\n",
    "\n",
    "### Explanation:\n",
    "\n",
    "- **Tree Depth (`max_depth`)**: This parameter controls the maximum number of levels in the tree. A smaller depth leads to a simpler model that may underfit the data. However, in this case, the depth of 2 provided sufficient complexity to achieve the reported precision and recall.\n",
    "\n",
    "- **Number of Leaf Nodes (`max_leaf_nodes`)**: This parameter limits the total number of leaf nodes in the tree. Setting a limit on leaf nodes also results in a simpler model but focuses on controlling the number of final predictions (or outcomes). In this case, restricting the tree to 4 leaf nodes led to a tree that also achieved the same precision and recall as limiting the depth.\n",
    "\n",
    "### Comparison and Insights:\n",
    "\n",
    "- **Same Precision and Recall:** The fact that both models produced the same precision and recall indicates that the configurations resulted in models of similar complexity, even though they were constrained by different parameters (`max_depth` vs. `max_leaf_nodes`). Both constraints led to a tree with 2 levels of depth and apparently the same overall structure.\n",
    "\n",
    "- **Model Structure:** It suggests that, under the dataset and conditions you were working with, a maximum tree depth of 2 and a maximum of 4 leaf nodes may have led to very similar or identical decision trees. This can happen if, for example, the optimal splitting points in the tree naturally fit within both constraints.\n",
    "\n",
    "### Conclusion:\n",
    "Modifying `max_depth` and `max_leaf_nodes` can sometimes lead to similar model performance if the constraints result in a tree with similar complexity. In your case, both constraints yielded the same precision and recall, indicating that the decision tree structures under these constraints were likely very similar, despite the different parameters used to achieve them."
   ]
  },
  {
   "cell_type": "markdown",
   "metadata": {
    "deletable": false,
    "editable": false,
    "nbgrader": {
     "cell_type": "markdown",
     "checksum": "4faed1a4f59ba6c6024ad7c8970119f4",
     "grade": false,
     "grade_id": "cell-870b3afd71a87d89",
     "locked": true,
     "schema_version": 3,
     "solution": false,
     "task": false
    }
   },
   "source": [
    "**Part D [Peer Review]** : In class, we used gridsearchCV to do hyperparameter tuning to select the different parameters like `max_depth` to see how our tree grows and avoids overfitting. Here, we will use cost complexity pruning parameter $\\alpha$ sklearn 0.22.1[https://scikit-learn.org/stable/user_guide.html] to prune our tree after training so as to improve accuracy on unseen data. In this exercise you will iterate over different `ccp_alpha` values and identify how performance is modulated by this parameter. <br>\n",
    "**Note:** your code for this section may cause the Validate button to time out. If you want to run the Validate button prior to submitting, you could comment out the code in this section after completing the Peer Review."
   ]
  },
  {
   "cell_type": "code",
   "execution_count": 25,
   "metadata": {},
   "outputs": [
    {
     "name": "stdout",
     "output_type": "stream",
     "text": [
      "Number of nodes in the last tree is: 1 with ccp_alpha: 0.15564666466870947\n"
     ]
    },
    {
     "data": {
      "image/png": "[encoded data removed]",
      "text/plain": [
       "<Figure size 432x288 with 1 Axes>"
      ]
     },
     "metadata": {
      "needs_background": "light"
     },
     "output_type": "display_data"
    }
   ],
   "source": [
    "from sklearn.tree import DecisionTreeClassifier\n",
    "from sklearn.metrics import accuracy_score\n",
    "import matplotlib.pyplot as plt\n",
    "\n",
    "# Assuming build_dt is a function that builds and returns a decision tree classifier\n",
    "# Replace this with the actual implementation of build_dt or use the following directly:\n",
    "# dt = DecisionTreeClassifier(random_state=0)\n",
    "# dt.fit(X_train, y_train)\n",
    "dt = build_dt(X_train, y_train)\n",
    "\n",
    "# Get the cost complexity pruning path\n",
    "path = dt.cost_complexity_pruning_path(X_train, y_train)\n",
    "ccp_alphas, impurities = path.ccp_alphas, path.impurities\n",
    "\n",
    "clfs = []  # List to store classifiers for different alpha values\n",
    "\n",
    "# Iterate over ccp_alpha values to train trees\n",
    "for ccp_alpha in ccp_alphas:\n",
    "    clf = DecisionTreeClassifier(random_state=0, ccp_alpha=ccp_alpha)\n",
    "    clf.fit(X_train, y_train)\n",
    "    clfs.append(clf)\n",
    "\n",
    "print(\"Number of nodes in the last tree is: {} with ccp_alpha: {}\".format(\n",
    "      clfs[-1].tree_.node_count, ccp_alphas[-1]))\n",
    "\n",
    "# Generate train and test scores for different classifiers\n",
    "train_scores = [accuracy_score(y_train, clf.predict(X_train)) for clf in clfs]\n",
    "test_scores = [accuracy_score(y_test, clf.predict(X_test)) for clf in clfs]\n",
    "\n",
    "# Plot the results\n",
    "fig, ax = plt.subplots()\n",
    "ax.set_xlabel(\"alpha\")\n",
    "ax.set_ylabel(\"accuracy\")\n",
    "ax.set_title(\"accuracy vs alpha for training and testing sets\")\n",
    "ax.plot(ccp_alphas, train_scores, marker='o', label=\"train\", drawstyle=\"steps-post\")\n",
    "ax.plot(ccp_alphas, test_scores, marker='o', label=\"test\", drawstyle=\"steps-post\")\n",
    "ax.legend()\n",
    "plt.show()\n"
   ]
  },
  {
   "cell_type": "markdown",
   "metadata": {},
   "source": [
    "The parameter `ccp_alpha` in cost-complexity pruning is crucial in controlling the balance between underfitting and overfitting in decision trees. This figure depicts how accuracy changes as a function of the pruning parameter, `ccp_alpha`, for both the training and testing sets.\n",
    "\n",
    "From your graph, here's a breakdown of how performance is modulated by the `ccp_alpha` parameter:\n",
    "\n",
    "1. **Small `ccp_alpha` Values (Near 0):**\n",
    "   - At very low `ccp_alpha` values, the tree is less pruned, and the number of nodes is high.\n",
    "   - In this region, both the training and testing accuracies are initially high. However, as indicated by the slight gap between the two curves, the model might be overfitting: performing better on the training set than on the testing set.\n",
    "   \n",
    "\n",
    "2. **Increasing `ccp_alpha`:**\n",
    "   - As `ccp_alpha` increases, the tree is pruned more aggressively, meaning nodes are removed, simplifying the tree.\n",
    "   - Both training and testing accuracies drop, indicating that the model is becoming less complex and might start to underfit.\n",
    "   \n",
    "\n",
    "3. **Moderate `ccp_alpha`:**\n",
    "   - At some moderate values of `ccp_alpha`, the training and testing accuracies are quite similar. This indicates a good balance between underfitting and overfitting. In your case, it appears around 0.02 to 0.06, where the curves are closely aligned. This is the region where pruning seems to be having the desired effect, improving generalization.\n",
    "   \n",
    "\n",
    "4. **High `ccp_alpha` Values:**\n",
    "   - As `ccp_alpha` becomes too large, both training and testing accuracies drop significantly, indicating that the tree has become too simple (over-pruned). In this case, the model loses its ability to capture important patterns in the data, leading to underfitting.\n",
    "   - The last point on the graph shows that the tree has only 1 node left when `ccp_alpha = 0.15564666466870947`. This results in a very low accuracy, as the tree has been pruned too aggressively, reducing its ability to classify correctly.\n",
    "\n",
    "### Overall Conclusion:\n",
    "\n",
    "The performance of the decision tree is strongly modulated by the `ccp_alpha` parameter. A small value of `ccp_alpha` leads to an overly complex tree that may overfit, while a large value over-prunes the tree, leading to underfitting. The best performance is typically observed at moderate `ccp_alpha` values, where the training and testing accuracy are closely aligned, indicating good generalization to unseen data.\n",
    "\n"
   ]
  },
  {
   "cell_type": "code",
   "execution_count": 26,
   "metadata": {
    "deletable": false,
    "nbgrader": {
     "cell_type": "code",
     "checksum": "f738717abb9bbc962fdf9df16606fcfa",
     "grade": false,
     "grade_id": "cell-70caed0260dd7c0c",
     "locked": false,
     "schema_version": 3,
     "solution": true,
     "task": false
    }
   },
   "outputs": [],
   "source": [
    "# dt = build_dt(X_train, y_train)\n",
    "\n",
    "# path = dt.cost_complexity_pruning_path(X_train,y_train) #post pruning\n",
    "# ccp_alphas, impurities = path.ccp_alphas, path.impurities\n",
    "\n",
    "# clfs = [] # VECTOR CONTAINING CLASSIFIERS FOR DIFFERENT ALPHAS\n",
    "# # TODO: iterate over ccp_alpha values \n",
    "# # your code here\n",
    "\n",
    "    \n",
    "# print(\"Number of nodes in the last tree is: {} with ccp_alpha: {}\".format(\n",
    "#       clfs[-1].tree_.node_count, ccp_alphas[-1]))\n",
    "\n",
    "# # TODO: next, generate the train and test scores and plot the variation in these scores with increase in ccp_alpha\n",
    "# # The code for plotting has been provided; edit the train_scores and test_scores variables for the right plot to be generated\n",
    "# train_scores = []\n",
    "# test_scores = []\n",
    "\n",
    "# # your code here\n",
    "\n",
    "\n",
    "# fig, ax = plt.subplots()\n",
    "# ax.set_xlabel(\"alpha\")\n",
    "# ax.set_ylabel(\"accuracy\")\n",
    "# ax.set_title(\"accuracy vs alpha for training and testing sets\")\n",
    "# ax.plot(ccp_alphas, train_scores, marker='o', label=\"train\",\n",
    "#         drawstyle=\"steps-post\")\n",
    "# ax.plot(ccp_alphas, test_scores, marker='o', label=\"test\",\n",
    "#         drawstyle=\"steps-post\")\n",
    "# ax.legend()\n",
    "# plt.show() \n"
   ]
  },
  {
   "cell_type": "code",
   "execution_count": null,
   "metadata": {},
   "outputs": [],
   "source": []
  }
 ],
 "metadata": {
  "kernelspec": {
   "display_name": "Python 3",
   "language": "python",
   "name": "python3"
  },
  "language_info": {
   "codemirror_mode": {
    "name": "ipython",
    "version": 3
   },
   "file_extension": ".py",
   "mimetype": "text/x-python",
   "name": "python",
   "nbconvert_exporter": "python",
   "pygments_lexer": "ipython3",
   "version": "3.7.6"
  }
 },
 "nbformat": 4,
 "nbformat_minor": 4
}
