{
 "cells": [
  {
   "cell_type": "code",
   "execution_count": 1,
   "metadata": {},
   "outputs": [],
   "source": [
    "import numpy as np"
   ]
  },
  {
   "cell_type": "code",
   "execution_count": 2,
   "metadata": {},
   "outputs": [
    {
     "name": "stdout",
     "output_type": "stream",
     "text": [
      "[[1 1 1 0 1 1 1 0]\n",
      " [1 1 1 1 1 0 0 1]\n",
      " [0 1 0 1 0 0 1 1]\n",
      " [1 0 0 1 0 1 1 1]]\n",
      "\n",
      "Jaccard Similarities:\n",
      "firechicken-mike0702: 0.50\n",
      "firechicken-zephyros: 0.25\n",
      "firechicken-dadvador: 0.38\n",
      "mike0702-zephyros: 0.43\n",
      "mike0702-dadvador: 0.38\n",
      "zephyros-dadvador: 0.50\n",
      "\n",
      "Jaccard Similarity Matrix:\n",
      "[[1.         0.5        0.25       0.375     ]\n",
      " [0.5        1.         0.42857143 0.375     ]\n",
      " [0.25       0.42857143 1.         0.5       ]\n",
      " [0.375      0.375      0.5        1.        ]]\n",
      "\n",
      "Cosine Similarities:\n",
      "firechicken-mike0702: 0.67\n",
      "firechicken-zephyros: 0.41\n",
      "firechicken-dadvador: 0.55\n",
      "mike0702-zephyros: 0.61\n",
      "mike0702-dadvador: 0.55\n",
      "zephyros-dadvador: 0.67\n",
      "\n",
      "Cosine Similarity Matrix:\n",
      "[[1.         0.66666667 0.40824829 0.54772256]\n",
      " [0.66666667 1.         0.61237244 0.54772256]\n",
      " [0.40824829 0.61237244 1.         0.67082039]\n",
      " [0.54772256 0.54772256 0.67082039 1.        ]]\n"
     ]
    }
   ],
   "source": [
    "ratings = np.array([[3, 3, 4, 0, 4, 2, 3, 0],\n",
    "                    [3, 5, 4, 3, 3, 0, 0, 4],\n",
    "                    [0, 4, 0, 5, 0, 0, 2, 1],\n",
    "                    [2, 0, 0, 4, 0, 4, 4, 5]])\n",
    "Ub = (ratings>0).astype(int)\n",
    "print(Ub)\n",
    "\n",
    "def jaccard(a,b):\n",
    "    return (a*b).sum()/((a+b)>0).sum()\n",
    "\n",
    "# Cosine similarity function\n",
    "def cos(a, b):\n",
    "    return np.dot(a, b) / (np.linalg.norm(a) * np.linalg.norm(b))\n",
    "\n",
    "users = [\"firechicken\",\"mike0702\",\"zephyros\",\"dadvador\"]\n",
    "\n",
    "# Jaccard similarity matrix\n",
    "print(\"\\nJaccard Similarities:\")\n",
    "jaccard_simmat = np.zeros((4, 4))\n",
    "for i in range(4):\n",
    "    for j in range(4):\n",
    "        jaccard_simmat[i, j] = jaccard(Ub[i], Ub[j])\n",
    "        if i < j:\n",
    "            print(f\"{users[i]}-{users[j]}: {jaccard(Ub[i], Ub[j]):.2f}\")\n",
    "\n",
    "print(\"\\nJaccard Similarity Matrix:\")\n",
    "print(jaccard_simmat)\n",
    "\n",
    "# Cosine similarity matrix\n",
    "print(\"\\nCosine Similarities:\")\n",
    "cos_simmat = np.zeros((4, 4))\n",
    "for i in range(4):\n",
    "    for j in range(4):\n",
    "        cos_simmat[i, j] = cos(Ub[i], Ub[j])\n",
    "        if i < j:\n",
    "            print(f\"{users[i]}-{users[j]}: {cos(Ub[i], Ub[j]):.2f}\")\n",
    "\n",
    "print(\"\\nCosine Similarity Matrix:\")\n",
    "print(cos_simmat)"
   ]
  },
  {
   "cell_type": "code",
   "execution_count": 3,
   "metadata": {},
   "outputs": [
    {
     "name": "stdout",
     "output_type": "stream",
     "text": [
      "Binary Good vs. Bad Ratings:\n",
      "[[1 1 1 0 1 0 1 0]\n",
      " [1 1 1 1 1 0 0 1]\n",
      " [0 1 0 1 0 0 0 0]\n",
      " [0 0 0 1 0 1 1 1]]\n",
      "\n",
      "Jaccard Similarities (Good vs. Bad):\n",
      "firechicken-mike0702: 0.571\n",
      "firechicken-zephyros: 0.167\n",
      "firechicken-dadvador: 0.125\n",
      "mike0702-zephyros: 0.333\n",
      "mike0702-dadvador: 0.250\n",
      "zephyros-dadvador: 0.200\n",
      "\n",
      "Jaccard Similarity Matrix (Good vs. Bad):\n",
      "[[1.         0.57142857 0.16666667 0.125     ]\n",
      " [0.57142857 1.         0.33333333 0.25      ]\n",
      " [0.16666667 0.33333333 1.         0.2       ]\n",
      " [0.125      0.25       0.2        1.        ]]\n"
     ]
    }
   ],
   "source": [
    "import numpy as np\n",
    "\n",
    "# Ratings matrix\n",
    "ratings = np.array([[3, 3, 4, 0, 4, 2, 3, 0],\n",
    "                    [3, 5, 4, 3, 3, 0, 0, 4],\n",
    "                    [0, 4, 0, 5, 0, 0, 2, 1],\n",
    "                    [2, 0, 0, 4, 0, 4, 4, 5]])\n",
    "\n",
    "# Convert ratings to binary good (1) vs. bad (0)\n",
    "Ur = (ratings >= 3).astype(int)\n",
    "print(\"Binary Good vs. Bad Ratings:\")\n",
    "print(Ur)\n",
    "\n",
    "# Jaccard similarity function\n",
    "def jaccard(a, b):\n",
    "    return (a * b).sum() / ((a + b) > 0).sum()\n",
    "\n",
    "users = [\"firechicken\", \"mike0702\", \"zephyros\", \"dadvador\"]\n",
    "\n",
    "# Jaccard similarity matrix for good vs. bad ratings\n",
    "print(\"\\nJaccard Similarities (Good vs. Bad):\")\n",
    "jaccard_simmat = np.zeros((4, 4))\n",
    "for i in range(4):\n",
    "    for j in range(4):\n",
    "        jaccard_simmat[i, j] = jaccard(Ur[i], Ur[j])\n",
    "        if i < j:\n",
    "            print(f\"{users[i]}-{users[j]}: {jaccard(Ur[i], Ur[j]):.3f}\")\n",
    "\n",
    "print(\"\\nJaccard Similarity Matrix (Good vs. Bad):\")\n",
    "print(jaccard_simmat)\n"
   ]
  },
  {
   "cell_type": "code",
   "execution_count": 4,
   "metadata": {},
   "outputs": [
    {
     "name": "stdout",
     "output_type": "stream",
     "text": [
      "[[1 1 1 0 1 1 1 0]\n",
      " [1 1 1 1 1 0 0 1]\n",
      " [0 1 0 1 0 0 1 1]\n",
      " [1 0 0 1 0 1 1 1]]\n",
      "firechicken-mike0702 0.5\n",
      "firechicken-zephyros 0.25\n",
      "firechicken-dadvador 0.375\n",
      "mike0702-zephyros 0.42857142857142855\n",
      "mike0702-dadvador 0.375\n",
      "zephyros-dadvador 0.5\n",
      "[[1.         0.5        0.25       0.375     ]\n",
      " [0.5        1.         0.42857143 0.375     ]\n",
      " [0.25       0.42857143 1.         0.5       ]\n",
      " [0.375      0.375      0.5        1.        ]]\n"
     ]
    }
   ],
   "source": [
    "# Treating the utility matrix as boolean (buy or not buy), \n",
    "# compute the Jaccard distance between zephyros and dadvador. Please answer to two decimal places.\n",
    "\n",
    "ratings = np.array([[3, 3, 4, 0, 4, 2, 3, 0],\n",
    "                    [3, 5, 4, 3, 3, 0, 0, 4],\n",
    "                    [0, 4, 0, 5, 0, 0, 2, 1],\n",
    "                    [2, 0, 0, 4, 0, 4, 4, 5]])\n",
    "Ub = (ratings>0).astype(int)\n",
    "print(Ub)\n",
    "\n",
    "def jaccard(a,b):\n",
    "    return (a*b).sum()/((a+b)>0).sum()\n",
    "\n",
    "users = [\"firechicken\",\"mike0702\",\"zephyros\",\"dadvador\"]\n",
    "\n",
    "simmat=np.zeros((4,4))\n",
    "for i in range(4):\n",
    "    for j in range(4):\n",
    "        simmat[i,j] = jaccard(Ub[i],Ub[j])\n",
    "        if i<j:\n",
    "            print(users[i]+'-'+users[j], jaccard(Ub[i],Ub[j]))\n",
    "\n",
    "print(simmat)"
   ]
  },
  {
   "cell_type": "code",
   "execution_count": 5,
   "metadata": {},
   "outputs": [
    {
     "name": "stdout",
     "output_type": "stream",
     "text": [
      "firechicken-mike0702 0.6666666666666667\n",
      "firechicken-zephyros 0.4082482904638631\n",
      "firechicken-dadvador 0.5477225575051661\n",
      "mike0702-zephyros 0.6123724356957946\n",
      "mike0702-dadvador 0.5477225575051661\n",
      "zephyros-dadvador 0.6708203932499369\n",
      "[[1.         0.66666667 0.40824829 0.54772256]\n",
      " [0.66666667 1.         0.61237244 0.54772256]\n",
      " [0.40824829 0.61237244 1.         0.67082039]\n",
      " [0.54772256 0.54772256 0.67082039 1.        ]]\n"
     ]
    }
   ],
   "source": [
    "# Treating the utility matrix as boolean (buy or not buy), \n",
    "# compute the Cosine  distance between zephyros and dadvador. Please answer to three decimal places.\n",
    "\n",
    "def cos(a,b):\n",
    "    return np.dot(a,b)/(np.linalg.norm(a)*np.linalg.norm(b))\n",
    "\n",
    "simmat=np.zeros((4,4))\n",
    "for i in range(4):\n",
    "    for j in range(4):\n",
    "        simmat[i,j] = cos(Ub[i],Ub[j])\n",
    "        if i<j:\n",
    "            print(users[i]+'-'+users[j], cos(Ub[i],Ub[j]))\n",
    "print(simmat)     "
   ]
  },
  {
   "cell_type": "code",
   "execution_count": 6,
   "metadata": {},
   "outputs": [
    {
     "name": "stdout",
     "output_type": "stream",
     "text": [
      "[[1 1 1 0 1 0 1 0]\n",
      " [1 1 1 1 1 0 0 1]\n",
      " [0 1 0 1 0 0 0 0]\n",
      " [0 0 0 1 0 1 1 1]]\n",
      "firechicken-mike0702 0.5714285714285714\n",
      "firechicken-zephyros 0.16666666666666666\n",
      "firechicken-dadvador 0.125\n",
      "mike0702-zephyros 0.3333333333333333\n",
      "mike0702-dadvador 0.25\n",
      "zephyros-dadvador 0.2\n"
     ]
    }
   ],
   "source": [
    "# Now, let's convert user ratings to good vs. bad. We consider it's good (1) if the rating is 3 or above, and bad (0) otherwise. Compute the Jaccard distance between mike0702 and zephyros. Please answer to three decimal places.\n",
    "\n",
    "Ur = (ratings>=3).astype(int)\n",
    "print(Ur)\n",
    "\n",
    "simmat=np.zeros((4,4))\n",
    "for i in range(4):\n",
    "    for j in range(4):\n",
    "        simmat[i,j] = jaccard(Ur[i],Ur[j])\n",
    "        if i<j:\n",
    "            print(users[i]+'-'+users[j], jaccard(Ur[i],Ur[j]))"
   ]
  },
  {
   "cell_type": "code",
   "execution_count": null,
   "metadata": {},
   "outputs": [],
   "source": []
  }
 ],
 "metadata": {
  "kernelspec": {
   "display_name": "Python 3",
   "language": "python",
   "name": "python3"
  },
  "language_info": {
   "codemirror_mode": {
    "name": "ipython",
    "version": 3
   },
   "file_extension": ".py",
   "mimetype": "text/x-python",
   "name": "python",
   "nbconvert_exporter": "python",
   "pygments_lexer": "ipython3",
   "version": "3.7.6"
  }
 },
 "nbformat": 4,
 "nbformat_minor": 2
}
