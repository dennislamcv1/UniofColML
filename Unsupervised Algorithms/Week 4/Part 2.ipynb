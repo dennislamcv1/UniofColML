{
 "cells": [
  {
   "cell_type": "markdown",
   "id": "7e4dee9b-d69b-4f15-b233-4fe7af14d8d7",
   "metadata": {},
   "source": [
    "# Part 2: Limitations of sklearn's Non-Negative Matrix Factorization (NMF) Library"
   ]
  },
  {
   "cell_type": "markdown",
   "id": "f2789743-0fe4-4f0c-be02-26048d1791fe",
   "metadata": {},
   "source": [
    "Non-negative matrix factorization (NMF) is a popular technique for dimensionality reduction and topic modeling. However, the `sklearn` implementation of NMF has some limitations:\n",
    "\n",
    "1. **Scalability**: `sklearn`'s NMF may not scale well with very large datasets due to its computational complexity.\n",
    "2. **Sparsity**: `sklearn`'s NMF does not handle sparse matrices efficiently, which is a common characteristic of recommender system data.\n",
    "3. **Initialization**: `sklearn`'s NMF relies on initialization methods like 'random' or 'nndsvd', which can impact the convergence and final solution quality.\n",
    "4. **Missing Values**: `sklearn`'s NMF cannot handle missing values directly, which is crucial for recommendation systems where the matrix is typically incomplete.\n"
   ]
  },
  {
   "cell_type": "code",
   "execution_count": 1,
   "id": "b39d1a4a-dbe2-4792-a03e-a7e1b3fc5eca",
   "metadata": {},
   "outputs": [],
   "source": [
    "import pandas as pd\n",
    "import numpy as np\n",
    "from sklearn.model_selection import train_test_split\n",
    "from sklearn.decomposition import NMF\n",
    "from sklearn.metrics import mean_squared_error"
   ]
  },
  {
   "cell_type": "code",
   "execution_count": 2,
   "id": "19a97819-3997-4738-bd1e-d9d81c742d2e",
   "metadata": {},
   "outputs": [],
   "source": [
    "train = pd.read_csv(\"train.csv\")\n",
    "test = pd.read_csv(\"test.csv\")"
   ]
  },
  {
   "cell_type": "code",
   "execution_count": 3,
   "id": "a889ba4e-6c55-482b-a4f4-a9fe7c75ecda",
   "metadata": {},
   "outputs": [
    {
     "data": {
      "text/html": [
       "<div>\n",
       "<style scoped>\n",
       "    .dataframe tbody tr th:only-of-type {\n",
       "        vertical-align: middle;\n",
       "    }\n",
       "\n",
       "    .dataframe tbody tr th {\n",
       "        vertical-align: top;\n",
       "    }\n",
       "\n",
       "    .dataframe thead th {\n",
       "        text-align: right;\n",
       "    }\n",
       "</style>\n",
       "<table border=\"1\" class=\"dataframe\">\n",
       "  <thead>\n",
       "    <tr style=\"text-align: right;\">\n",
       "      <th></th>\n",
       "      <th>uID</th>\n",
       "      <th>mID</th>\n",
       "      <th>rating</th>\n",
       "    </tr>\n",
       "  </thead>\n",
       "  <tbody>\n",
       "    <tr>\n",
       "      <th>0</th>\n",
       "      <td>744</td>\n",
       "      <td>1210</td>\n",
       "      <td>5</td>\n",
       "    </tr>\n",
       "    <tr>\n",
       "      <th>1</th>\n",
       "      <td>3040</td>\n",
       "      <td>1584</td>\n",
       "      <td>4</td>\n",
       "    </tr>\n",
       "    <tr>\n",
       "      <th>2</th>\n",
       "      <td>1451</td>\n",
       "      <td>1293</td>\n",
       "      <td>5</td>\n",
       "    </tr>\n",
       "    <tr>\n",
       "      <th>3</th>\n",
       "      <td>5455</td>\n",
       "      <td>3176</td>\n",
       "      <td>2</td>\n",
       "    </tr>\n",
       "    <tr>\n",
       "      <th>4</th>\n",
       "      <td>2507</td>\n",
       "      <td>3074</td>\n",
       "      <td>5</td>\n",
       "    </tr>\n",
       "  </tbody>\n",
       "</table>\n",
       "</div>"
      ],
      "text/plain": [
       "    uID   mID  rating\n",
       "0   744  1210       5\n",
       "1  3040  1584       4\n",
       "2  1451  1293       5\n",
       "3  5455  3176       2\n",
       "4  2507  3074       5"
      ]
     },
     "execution_count": 3,
     "metadata": {},
     "output_type": "execute_result"
    }
   ],
   "source": [
    "train.head()"
   ]
  },
  {
   "cell_type": "code",
   "execution_count": 4,
   "id": "aa74d8d4-e270-47ed-9658-7134a967aeec",
   "metadata": {},
   "outputs": [
    {
     "data": {
      "text/html": [
       "<div>\n",
       "<style scoped>\n",
       "    .dataframe tbody tr th:only-of-type {\n",
       "        vertical-align: middle;\n",
       "    }\n",
       "\n",
       "    .dataframe tbody tr th {\n",
       "        vertical-align: top;\n",
       "    }\n",
       "\n",
       "    .dataframe thead th {\n",
       "        text-align: right;\n",
       "    }\n",
       "</style>\n",
       "<table border=\"1\" class=\"dataframe\">\n",
       "  <thead>\n",
       "    <tr style=\"text-align: right;\">\n",
       "      <th></th>\n",
       "      <th>uID</th>\n",
       "      <th>mID</th>\n",
       "      <th>rating</th>\n",
       "    </tr>\n",
       "  </thead>\n",
       "  <tbody>\n",
       "    <tr>\n",
       "      <th>0</th>\n",
       "      <td>2233</td>\n",
       "      <td>440</td>\n",
       "      <td>4</td>\n",
       "    </tr>\n",
       "    <tr>\n",
       "      <th>1</th>\n",
       "      <td>4274</td>\n",
       "      <td>587</td>\n",
       "      <td>5</td>\n",
       "    </tr>\n",
       "    <tr>\n",
       "      <th>2</th>\n",
       "      <td>2498</td>\n",
       "      <td>454</td>\n",
       "      <td>3</td>\n",
       "    </tr>\n",
       "    <tr>\n",
       "      <th>3</th>\n",
       "      <td>2868</td>\n",
       "      <td>2336</td>\n",
       "      <td>5</td>\n",
       "    </tr>\n",
       "    <tr>\n",
       "      <th>4</th>\n",
       "      <td>1636</td>\n",
       "      <td>2686</td>\n",
       "      <td>5</td>\n",
       "    </tr>\n",
       "  </tbody>\n",
       "</table>\n",
       "</div>"
      ],
      "text/plain": [
       "    uID   mID  rating\n",
       "0  2233   440       4\n",
       "1  4274   587       5\n",
       "2  2498   454       3\n",
       "3  2868  2336       5\n",
       "4  1636  2686       5"
      ]
     },
     "execution_count": 4,
     "metadata": {},
     "output_type": "execute_result"
    }
   ],
   "source": [
    "test.head()"
   ]
  },
  {
   "cell_type": "code",
   "execution_count": 5,
   "id": "59cab814-fff7-4945-901a-49dda28afbc1",
   "metadata": {},
   "outputs": [],
   "source": [
    "# Load the data (example data frame structure)\n",
    "# Assume df has columns: userId, movieId, rating\n",
    "df = pd.read_csv('train.csv')"
   ]
  },
  {
   "cell_type": "code",
   "execution_count": 6,
   "id": "12c2b901-67cd-4613-9f70-6783dd522c15",
   "metadata": {},
   "outputs": [],
   "source": [
    "# Split the data into train and test sets\n",
    "train_data, test_data = train_test_split(df, test_size=0.2, random_state=42)\n",
    "\n",
    "# Create the user-item matrix for training\n",
    "train_matrix = train_data.pivot(index='uID', columns='mID', values='rating').fillna(0)\n",
    "\n",
    "# Prepare test data\n",
    "test_matrix = test_data.pivot(index='uID', columns='mID', values='rating').fillna(0)\n"
   ]
  },
  {
   "cell_type": "code",
   "execution_count": 7,
   "id": "8f09198b-7859-4841-9e83-26f5971a3196",
   "metadata": {},
   "outputs": [],
   "source": [
    "# Apply NMF\n",
    "n_factors = 15  # Number of latent factors\n",
    "model = NMF(n_components=n_factors, init='random', random_state=42, max_iter=500)\n",
    "W = model.fit_transform(train_matrix)\n",
    "H = model.components_"
   ]
  },
  {
   "cell_type": "code",
   "execution_count": 8,
   "id": "7cfaeefb-f3f9-4838-866d-9402262a839c",
   "metadata": {},
   "outputs": [
    {
     "data": {
      "text/plain": [
       "array([[1.71325973e+00, 5.45407300e-01, 1.89827749e-02, ...,\n",
       "        9.01326720e-03, 3.75894878e-03, 8.17556609e-02],\n",
       "       [1.03758588e+00, 3.74016438e-01, 1.23073281e-01, ...,\n",
       "        2.36025102e-02, 2.57335592e-03, 1.05551191e-01],\n",
       "       [1.02032732e+00, 1.35829686e-01, 2.99129466e-02, ...,\n",
       "        1.88961079e-03, 8.15878670e-04, 1.57826943e-02],\n",
       "       ...,\n",
       "       [4.27294176e-01, 2.40787832e-02, 5.66683049e-04, ...,\n",
       "        9.58219575e-04, 4.72233003e-04, 4.66842776e-03],\n",
       "       [9.22806894e-01, 2.66902181e-01, 7.13577392e-02, ...,\n",
       "        2.92729513e-02, 9.72259203e-03, 1.80512531e-02],\n",
       "       [8.31913262e-01, 6.48540433e-02, 3.65613280e-04, ...,\n",
       "        9.10483514e-02, 5.67328288e-02, 4.30515657e-01]])"
      ]
     },
     "execution_count": 8,
     "metadata": {},
     "output_type": "execute_result"
    }
   ],
   "source": [
    "# Predict ratings\n",
    "predicted_ratings = np.dot(W, H)\n",
    "\n",
    "predicted_ratings"
   ]
  },
  {
   "cell_type": "code",
   "execution_count": 9,
   "id": "e4d55e07-178a-46a3-a012-4150c87037d5",
   "metadata": {},
   "outputs": [],
   "source": [
    "# Align test data indices with the train matrix\n",
    "user_index_map = {user_id: index for index, user_id in enumerate(train_matrix.index)}\n",
    "movie_index_map = {movie_id: index for index, movie_id in enumerate(train_matrix.columns)}"
   ]
  },
  {
   "cell_type": "code",
   "execution_count": 10,
   "id": "51e2f27b-7857-4d69-b5b2-f6e1678eb621",
   "metadata": {},
   "outputs": [],
   "source": [
    "# Get actual and predicted values\n",
    "actual_ratings = []\n",
    "predicted_ratings_list = []\n",
    "\n",
    "for _, row in test_data.iterrows():\n",
    "    user_id = row['uID']\n",
    "    movie_id = row['mID']\n",
    "    actual_rating = row['rating']\n",
    "    \n",
    "    if user_id in user_index_map and movie_id in movie_index_map:\n",
    "        user_index = user_index_map[user_id]\n",
    "        movie_index = movie_index_map[movie_id]\n",
    "        \n",
    "        predicted_rating = predicted_ratings[user_index, movie_index]\n",
    "        \n",
    "        actual_ratings.append(actual_rating)\n",
    "        predicted_ratings_list.append(predicted_rating)"
   ]
  },
  {
   "cell_type": "code",
   "execution_count": 11,
   "id": "337c314f-b380-4a31-a245-ad25e28de27c",
   "metadata": {},
   "outputs": [
    {
     "name": "stdout",
     "output_type": "stream",
     "text": [
      "RMSE: 3.0435\n"
     ]
    }
   ],
   "source": [
    "# Calculate RMSE\n",
    "actual_values = np.array(actual_ratings)\n",
    "predicted_values = np.array(predicted_ratings_list)\n",
    "\n",
    "rmse = np.sqrt(mean_squared_error(actual_values, predicted_values))\n",
    "print(f'RMSE: {rmse:.4f}')\n"
   ]
  },
  {
   "cell_type": "markdown",
   "id": "2bf87066-ab46-40ba-a407-5365f23ba99f",
   "metadata": {},
   "source": [
    "### Discussion of Results\n",
    "\n",
    "The obtained RMSE of 3.0435 for the NMF model is significantly higher than the RMSEs of various baseline and similarity-based methods. Here's a detailed discussion on why `sklearn`'s NMF did not perform as well and potential ways to improve the model.\n",
    "\n",
    "### Why `sklearn`'s NMF Did Not Work Well\n",
    "\n",
    "1. **Scalability Issues**: The `sklearn` NMF implementation might not scale well with larger datasets or higher dimensions. MovieLens datasets can be quite large, and NMF may struggle to capture the complex interactions between users and items efficiently.\n",
    "\n",
    "2. **Sparsity Handling**: Recommender system data is usually sparse. While NMF can handle sparse data, the `sklearn` implementation may not be optimized for very sparse matrices. The model may not be able to fill in the missing values effectively.\n",
    "\n",
    "3. **Initialization Sensitivity**: NMF relies on initialization methods, and poor initialization can lead to suboptimal factorization. The random initialization used may not have been suitable for this data.\n",
    "\n",
    "4. **Overfitting**: NMF can overfit the training data, especially if the number of components is not chosen carefully. Overfitting reduces the model's ability to generalize to unseen data, leading to poor performance on the test set.\n",
    "\n",
    "5. **Hyperparameter Selection**: The choice of hyperparameters (e.g., the number of latent factors) significantly impacts the performance of NMF. In this case, 15 latent factors might not have been optimal.\n",
    "\n",
    "### Comparison with Baseline and Similarity-Based Methods\n",
    "\n",
    "- **Baseline Methods**: Simple baseline methods like predicting the global mean (`Y_p = 3`) or user mean (`Y_p = μ_u`) are straightforward and often provide reasonable benchmarks. These methods don't require complex computations and are less prone to overfitting, hence their lower RMSE.\n",
    "\n",
    "- **Content-Based and Similarity-Based Methods**: Methods like item-item collaborative filtering or similarity-based approaches leverage user and item similarities, which can effectively capture user preferences and item characteristics. These methods tend to handle sparsity better and can be more interpretable.\n",
    "\n",
    "### Ways to Improve the NMF Model\n",
    "\n",
    "1. **Better Initialization**:\n",
    "\n",
    "   - Use more advanced initialization techniques like `nndsvd` which can provide a better starting point for factorization.\n",
    "     \n",
    "   ```python\n",
    "   model = NMF(n_components=n_factors, init='nndsvd', random_state=42, max_iter=200)\n",
    "   ```\n",
    "   \n",
    "\n",
    "2. **Regularization**:\n",
    "\n",
    "   \n",
    "   - Adding regularization can help prevent overfitting. Regularization terms in the objective function penalize large factor values, leading to more generalizable models.\n",
    "     \n",
    "   ```python\n",
    "   model = NMF(n_components=n_factors, init='nndsvd', random_state=42, max_iter=200, alpha=0.1, l1_ratio=0.5)\n",
    "   ```\n",
    "\n",
    "3. **Parameter Tuning**:\n",
    "\n",
    "   \n",
    "   - Conduct a grid search or use cross-validation to find the optimal number of latent factors and regularization parameters.\n",
    "     \n",
    "   ```python\n",
    "   from sklearn.model_selection import GridSearchCV\n",
    "   from sklearn.decomposition import NMF\n",
    "\n",
    "   param_grid = {'n_components': [10, 15, 20, 25, 30],\n",
    "                 'alpha': [0.0, 0.1, 0.5, 1.0],\n",
    "                 'l1_ratio': [0.0, 0.1, 0.5, 1.0]}\n",
    "   model = NMF(init='nndsvd', random_state=42, max_iter=200)\n",
    "   grid_search = GridSearchCV(model, param_grid, scoring='neg_mean_squared_error')\n",
    "   grid_search.fit(train_matrix)\n",
    "   best_model = grid_search.best_estimator_\n",
    "   ```\n",
    "\n",
    "4. **Hybrid Methods**:\n",
    "\n",
    "   \n",
    "   - Combine NMF with other models. For instance, use NMF to initialize a collaborative filtering model or blend NMF predictions with those from baseline or similarity-based methods.\n",
    "     \n",
    "   ```python\n",
    "   # Combine NMF with baseline method\n",
    "   nmf_predictions = np.dot(W, H)\n",
    "   baseline_predictions = train_matrix.mean(axis=1).values[:, np.newaxis] + train_matrix.mean(axis=0).values - train_matrix.mean()\n",
    "   hybrid_predictions = 0.5 * nmf_predictions + 0.5 * baseline_predictions\n",
    "   ```\n",
    "   \n",
    "\n",
    "5. **Alternative Matrix Factorization Techniques**:\n",
    "\n",
    "   - Use other matrix factorization techniques like SVD (Singular Value Decomposition) which might perform better in certain cases.\n",
    "   \n",
    "   ```python\n",
    "   from sklearn.decomposition import TruncatedSVD\n",
    "\n",
    "   svd = TruncatedSVD(n_components=n_factors, random_state=42)\n",
    "   W_svd = svd.fit_transform(train_matrix)\n",
    "   H_svd = svd.components_\n",
    "   svd_predictions = np.dot(W_svd, H_svd)\n",
    "   ```\n",
    "\n",
    "### Conclusion\n",
    "\n",
    "The high RMSE for the `sklearn` NMF model compared to baseline and similarity-based methods indicates potential limitations in handling sparsity, initialization sensitivity, and scalability issues. By improving initialization, adding regularization, tuning hyperparameters, and exploring hybrid or alternative methods, we can enhance the performance of matrix factorization models for recommendation systems."
   ]
  },
  {
   "cell_type": "code",
   "execution_count": null,
   "id": "7d418d49-6f80-4c53-b0c1-1550db980b7b",
   "metadata": {},
   "outputs": [],
   "source": []
  }
 ],
 "metadata": {
  "kernelspec": {
   "display_name": "Python 3 (ipykernel)",
   "language": "python",
   "name": "python3"
  },
  "language_info": {
   "codemirror_mode": {
    "name": "ipython",
    "version": 3
   },
   "file_extension": ".py",
   "mimetype": "text/x-python",
   "name": "python",
   "nbconvert_exporter": "python",
   "pygments_lexer": "ipython3",
   "version": "3.10.9"
  }
 },
 "nbformat": 4,
 "nbformat_minor": 5
}
