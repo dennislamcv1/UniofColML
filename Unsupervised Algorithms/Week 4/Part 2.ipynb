{
 "cells": [
  {
   "cell_type": "markdown",
   "id": "f2789743-0fe4-4f0c-be02-26048d1791fe",
   "metadata": {},
   "source": [
    "### 1. Non-Negative Matrix Factorization (NMF) in sklearn for Movie Ratings Prediction\n",
    "\n",
    "To perform matrix factorization using sklearn's NMF library for movie ratings prediction and compute RMSE:\n",
    "\n",
    "- **Data Preparation**: Load the movie ratings data, split into train and test sets.\n",
    "- **Matrix Factorization**: Use sklearn's `NMF` class to factorize the ratings matrix into two matrices: user features and item features.\n",
    "- **Prediction**: Predict the missing ratings using the factorized matrices.\n",
    "- **Evaluation**: Compute RMSE between predicted ratings and actual ratings from the test set."
   ]
  },
  {
   "cell_type": "code",
   "execution_count": null,
   "id": "b39d1a4a-dbe2-4792-a03e-a7e1b3fc5eca",
   "metadata": {},
   "outputs": [],
   "source": [
    "import pandas as pd\n",
    "import numpy as np\n",
    "from sklearn.decomposition import NMF\n",
    "from sklearn.metrics import mean_squared_error"
   ]
  },
  {
   "cell_type": "code",
   "execution_count": null,
   "id": "19a97819-3997-4738-bd1e-d9d81c742d2e",
   "metadata": {},
   "outputs": [],
   "source": [
    "train = pd.read_csv(\"train.csv\")\n",
    "test = pd.read_csv(\"test.csv\")"
   ]
  },
  {
   "cell_type": "code",
   "execution_count": null,
   "id": "a889ba4e-6c55-482b-a4f4-a9fe7c75ecda",
   "metadata": {},
   "outputs": [],
   "source": [
    "train.head()"
   ]
  },
  {
   "cell_type": "code",
   "execution_count": null,
   "id": "aa74d8d4-e270-47ed-9658-7134a967aeec",
   "metadata": {},
   "outputs": [],
   "source": [
    "test.head()"
   ]
  },
  {
   "cell_type": "code",
   "execution_count": null,
   "id": "af683a34-2924-481a-a934-ef6811a7bf31",
   "metadata": {},
   "outputs": [],
   "source": [
    "# Initialize NMF model\n",
    "model = NMF(n_components=k, init='random', random_state=0)"
   ]
  },
  {
   "cell_type": "markdown",
   "id": "4545f5d6-90f1-47b0-ad6f-c541b1c09761",
   "metadata": {},
   "source": [
    "### 2. Discussion on NMF Results and Limitations Compared to Baseline Methods\n",
    "\n",
    "**Results Discussion:**\n",
    "- **Performance**: sklearn's NMF may not perform as well as simpler baseline or similarity-based methods in certain scenarios.\n",
    "- **Possible Reasons**:\n",
    "  - **Complexity**: NMF assumes linear combinations of latent factors, which might not capture non-linear relationships inherent in some rating patterns.\n",
    "  - **Initialization Sensitivity**: NMF's performance can vary based on initialization; random initialization might not find the global optimum.\n",
    "  - **Sparse Data Handling**: NMF might struggle with very sparse matrices, leading to poor predictive performance.\n",
    "\n",
    "**Improvement Suggestions:**\n",
    "- **Regularization**: Adjusting regularization parameters (`alpha` in sklearn's NMF) can help control overfitting and improve generalization.\n",
    "- **Initialization Strategies**: Experiment with different initialization methods (`random`, `nndsvd`, etc.) to find a better starting point for factorization.\n",
    "- **Alternative Models**: Consider alternative matrix factorization techniques like Singular Value Decomposition (SVD) or probabilistic methods (e.g., Bayesian Personalized Ranking) which might better handle sparse and non-linear relationships.\n",
    "\n",
    "By experimenting with these suggestions and understanding the specific characteristics of your data, you can potentially improve the performance of sklearn's NMF for movie ratings prediction."
   ]
  },
  {
   "cell_type": "code",
   "execution_count": null,
   "id": "61869f02-cc11-4b09-982c-db4de33078f0",
   "metadata": {},
   "outputs": [],
   "source": []
  }
 ],
 "metadata": {
  "kernelspec": {
   "display_name": "Python 3 (ipykernel)",
   "language": "python",
   "name": "python3"
  },
  "language_info": {
   "codemirror_mode": {
    "name": "ipython",
    "version": 3
   },
   "file_extension": ".py",
   "mimetype": "text/x-python",
   "name": "python",
   "nbconvert_exporter": "python",
   "pygments_lexer": "ipython3",
   "version": "3.10.9"
  }
 },
 "nbformat": 4,
 "nbformat_minor": 5
}
